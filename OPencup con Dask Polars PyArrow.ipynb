{
 "cells": [
  {
   "cell_type": "markdown",
   "metadata": {},
   "source": [
    "# [Opencup](https://www.opencup.gov.it/portale/web/opencup/dettaglio-opendata-complessivo)\n"
   ]
  },
  {
   "cell_type": "markdown",
   "metadata": {},
   "source": [
    "## csv2parquet con Dask"
   ]
  },
  {
   "cell_type": "code",
   "execution_count": 1,
   "metadata": {},
   "outputs": [],
   "source": [
    "import pandas as pd\n",
    "import os\n",
    "from dask import dataframe as dd\n",
    "import numpy as np\n",
    "os.chdir('C:/users/paolo/Downloads')\n",
    "name = 'OpenData Complessivo' # 'OpenData Area Sud CSV', 'OpenData Area Centro CSV', 'OpenData Area Nord-Est CSV','OpenData Area Nord-Ovest CSV','OpenData Area Isole CSV'"
   ]
  },
  {
   "cell_type": "raw",
   "metadata": {},
   "source": [
    "import zipfile\n",
    "\n",
    "def unzip_file(zip_path, extract_path):\n",
    "    with zipfile.ZipFile(zip_path, 'r') as zip_ref:\n",
    "        zip_ref.extractall(extract_path)\n",
    "\n",
    "# Usage example\n",
    "zip_file_path = name+'.zip'\n",
    "extract_directory = 'D:/duckdb/files/Opencup/'\n",
    "\n",
    "unzip_file(zip_file_path, extract_directory)"
   ]
  },
  {
   "cell_type": "code",
   "execution_count": 2,
   "metadata": {},
   "outputs": [],
   "source": [
    "# D:\\duckdb\\files\\Opencup\n",
    "req_cols = ['CUP','DESCRIZIONE_SINTETICA_CUP','ANNO_DECISIONE','REGIONE','PROVINCIA',\n",
    "'PIVA_CODFISCALE_SOG_TITOLARE','SOGGETTO_TITOLARE','DENO_IMPRESA_STABILIMENTO','PIVA_CF_BENEFICIARIO',\n",
    "            'COSTO_PROGETTO','FINANZIAMENTO_PROGETTO']\n",
    "\n",
    "dask_df = dd.read_csv('TOTALE.csv',sep='|', usecols=req_cols,\n",
    "                      dtype={'ANNO_DECISIONE':'int',\n",
    "                             'PIVA_CODFISCALE_SOG_TITOLARE': 'object'},\n",
    "                     encoding='utf-8')"
   ]
  },
  {
   "cell_type": "code",
   "execution_count": 3,
   "metadata": {},
   "outputs": [
    {
     "name": "stdout",
     "output_type": "stream",
     "text": [
      "<class 'dask.dataframe.core.DataFrame'>\n",
      "Columns: 11 entries, CUP to PIVA_CF_BENEFICIARIO\n",
      "dtypes: object(8), int32(1), int64(2)"
     ]
    }
   ],
   "source": [
    "dask_df.info()"
   ]
  },
  {
   "cell_type": "code",
   "execution_count": 4,
   "metadata": {},
   "outputs": [
    {
     "name": "stdout",
     "output_type": "stream",
     "text": [
      "CPU times: total: 39.9 s\n",
      "Wall time: 1min 1s\n"
     ]
    },
    {
     "data": {
      "text/plain": [
       "REGIONE\n",
       "ABRUZZO                   500744\n",
       "BASILICATA                368235\n",
       "CALABRIA                  772206\n",
       "CAMPANIA                 1662880\n",
       "EMILIA-ROMAGNA           1848501\n",
       "FRIULI-VENEZIA GIULIA     496515\n",
       "LAZIO                     599552\n",
       "LIGURIA                   177983\n",
       "LOMBARDIA                1875940\n",
       "MARCHE                    527413\n",
       "MOLISE                     67443\n",
       "PIEMONTE                 1260502\n",
       "PUGLIA                    745066\n",
       "SARDEGNA                 1414074\n",
       "SICILIA                   681847\n",
       "TOSCANA                   736223\n",
       "TRENTINO-ALTO ADIGE       890166\n",
       "TUTTE                       7453\n",
       "UMBRIA                    409954\n",
       "VALLE D'AOSTA             199460\n",
       "VENETO                   1577342\n",
       "Name: COSTO_PROGETTO, dtype: int64"
      ]
     },
     "execution_count": 4,
     "metadata": {},
     "output_type": "execute_result"
    }
   ],
   "source": [
    "%%time\n",
    "byState = dask_df.groupby('REGIONE')\n",
    "byState['COSTO_PROGETTO'].count().compute()"
   ]
  },
  {
   "cell_type": "markdown",
   "metadata": {},
   "source": [
    "### salvare "
   ]
  },
  {
   "cell_type": "code",
   "execution_count": 6,
   "metadata": {},
   "outputs": [],
   "source": [
    "dask_df.repartition(npartitions=1).to_parquet('D:/duckdb/files/Opencup', write_index=False) # engine=' pyarrow,fastparquet"
   ]
  },
  {
   "cell_type": "markdown",
   "metadata": {
    "jp-MarkdownHeadingCollapsed": true
   },
   "source": [
    "## analisi con Polars"
   ]
  },
  {
   "cell_type": "code",
   "execution_count": 7,
   "metadata": {},
   "outputs": [],
   "source": [
    "import polars as pl"
   ]
  },
  {
   "cell_type": "code",
   "execution_count": 9,
   "metadata": {},
   "outputs": [
    {
     "name": "stdout",
     "output_type": "stream",
     "text": [
      "CPU times: total: 6.83 s\n",
      "Wall time: 3.26 s\n"
     ]
    }
   ],
   "source": [
    "%%time\n",
    "# leggo il parquet\n",
    "df= pl.read_parquet('D:/duckdb/files/Opencup/part.0.parquet')"
   ]
  },
  {
   "cell_type": "raw",
   "metadata": {},
   "source": [
    "%%time\n",
    "# oppure leggo il csv\n",
    "df= pl.read_csv(\"D:/duckdb/files/Opencup/TOTALE.csv\", separator=\"|\", \n",
    "                columns =['CUP','DESCRIZIONE_SINTETICA_CUP','ANNO_DECISIONE','REGIONE','PROVINCIA',\n",
    "'PIVA_CODFISCALE_SOG_TITOLARE','SOGGETTO_TITOLARE','DENO_IMPRESA_STABILIMENTO','PIVA_CF_BENEFICIARIO',\n",
    "            'COSTO_PROGETTO','FINANZIAMENTO_PROGETTO'],ignore_errors = True) \n",
    "\n",
    "#### correggere gli errori"
   ]
  },
  {
   "cell_type": "code",
   "execution_count": 13,
   "metadata": {},
   "outputs": [
    {
     "data": {
      "text/plain": [
       "(16819499, 11)"
      ]
     },
     "execution_count": 13,
     "metadata": {},
     "output_type": "execute_result"
    }
   ],
   "source": [
    "df.shape"
   ]
  },
  {
   "cell_type": "code",
   "execution_count": 10,
   "metadata": {
    "scrolled": true
   },
   "outputs": [
    {
     "data": {
      "text/plain": [
       "<bound method DataFrame.rows of shape: (16_819_499, 11)\n",
       "┌──────────────┬──────────────┬──────────────┬─────────────┬───┬─────────────┬─────────────┬─────────────┬─────────────┐\n",
       "│ CUP          ┆ DESCRIZIONE_ ┆ ANNO_DECISIO ┆ COSTO_PROGE ┆ … ┆ PIVA_CODFIS ┆ SOGGETTO_TI ┆ DENO_IMPRES ┆ PIVA_CF_BEN │\n",
       "│ ---          ┆ SINTETICA_CU ┆ NE           ┆ TTO         ┆   ┆ CALE_SOG_TI ┆ TOLARE      ┆ A_STABILIME ┆ EFICIARIO   │\n",
       "│ str          ┆ P            ┆ ---          ┆ ---         ┆   ┆ TOLARE      ┆ ---         ┆ NTO         ┆ ---         │\n",
       "│              ┆ ---          ┆ i32          ┆ i64         ┆   ┆ ---         ┆ str         ┆ ---         ┆ str         │\n",
       "│              ┆ str          ┆              ┆             ┆   ┆ str         ┆             ┆ str         ┆             │\n",
       "╞══════════════╪══════════════╪══════════════╪═════════════╪═══╪═════════════╪═════════════╪═════════════╪═════════════╡\n",
       "│ B93G99000090 ┆ ITALJOLLY -  ┆ 2001         ┆ 4659990     ┆ … ┆ 80230390587 ┆ MINISTERO   ┆ null        ┆ *********** │\n",
       "│ 015          ┆ COMPAGNIA    ┆              ┆             ┆   ┆             ┆ DELLE       ┆             ┆ ****        │\n",
       "│              ┆ ITALIANA D…  ┆              ┆             ┆   ┆             ┆ IMPRESE E   ┆             ┆             │\n",
       "│              ┆              ┆              ┆             ┆   ┆             ┆ DEL MA…     ┆             ┆             │\n",
       "│ I35D05000030 ┆ ADEGUAMENTO  ┆ 2005         ┆ 165000      ┆ … ┆ 00837510171 ┆ COMUNE DI   ┆ null        ┆ *********** │\n",
       "│ 006          ┆ E COMPLETAME ┆              ┆             ┆   ┆             ┆ VIONE -     ┆             ┆ ****        │\n",
       "│              ┆ NTO IMPI…    ┆              ┆             ┆   ┆             ┆ BRESCIA -   ┆             ┆             │\n",
       "│ J62J04000010 ┆ OSTELLO      ┆ 2004         ┆ 170138      ┆ … ┆ 87002810171 ┆ COMUNITA'   ┆ null        ┆ *********** │\n",
       "│ 006          ┆ DELLA        ┆              ┆             ┆   ┆             ┆ MONTANA DI  ┆             ┆ ****        │\n",
       "│              ┆ GIOVENTu':   ┆              ┆             ┆   ┆             ┆ VALLE       ┆             ┆             │\n",
       "│              ┆ RISTRUT…     ┆              ┆             ┆   ┆             ┆ SABBI…      ┆             ┆             │\n",
       "│ F55J04000110 ┆ LAVORI DI    ┆ 2004         ┆ 43116       ┆ … ┆ 00607910650 ┆ COMUNE DI   ┆ null        ┆ *********** │\n",
       "│ 002          ┆ ADEGUAMENTO  ┆              ┆             ┆   ┆             ┆ PRAIANO -   ┆             ┆ ****        │\n",
       "│              ┆ ALLE NORME…  ┆              ┆             ┆   ┆             ┆ SALERNO -   ┆             ┆             │\n",
       "│ …            ┆ …            ┆ …            ┆ …           ┆ … ┆ …           ┆ …           ┆ …           ┆ …           │\n",
       "│ F66C21234640 ┆ TOMEVI       ┆ 2021         ┆ 8071        ┆ … ┆ 97181460581 ┆ AGENZIA PER ┆ TOMEVI EZIO ┆ 01241210226 │\n",
       "│ 009          ┆ EZIO*PREMIO  ┆              ┆             ┆   ┆             ┆ LE          ┆             ┆             │\n",
       "│              ┆ ASSICURATIVO ┆              ┆             ┆   ┆             ┆ EROGAZIONI  ┆             ┆             │\n",
       "│              ┆ …            ┆              ┆             ┆   ┆             ┆ IN AGR…     ┆             ┆             │\n",
       "│ F56C21217630 ┆ ZUECH        ┆ 2021         ┆ 347         ┆ … ┆ 97181460581 ┆ AGENZIA PER ┆ ZUECH       ┆ 00747130243 │\n",
       "│ 009          ┆ FRANCESCO -  ┆              ┆             ┆   ┆             ┆ LE          ┆ FRANCESCO - ┆             │\n",
       "│              ┆ REMO -       ┆              ┆             ┆   ┆             ┆ EROGAZIONI  ┆ REMO -      ┆             │\n",
       "│              ┆ GIUSEPP…     ┆              ┆             ┆   ┆             ┆ IN AGR…     ┆ GIUSEPP…    ┆             │\n",
       "│ C25H23003170 ┆ ECOCE S.R.L. ┆ 2023         ┆ 5000000     ┆ … ┆ 05678721001 ┆ INVITALIA - ┆ ECOCE       ┆ 07229741215 │\n",
       "│ 005          ┆ *Investiment ┆              ┆             ┆   ┆             ┆ AGENZIA     ┆ S.R.L.      ┆             │\n",
       "│              ┆ i Innova…    ┆              ┆             ┆   ┆             ┆ NAZIONALE   ┆             ┆             │\n",
       "│              ┆              ┆              ┆             ┆   ┆             ┆ PE…         ┆             ┆             │\n",
       "│ F86C21219200 ┆ RANALLI      ┆ 2021         ┆ 32          ┆ … ┆ 97181460581 ┆ AGENZIA PER ┆ RANALLI     ┆ 01450100696 │\n",
       "│ 009          ┆ GILDA*PREMIO ┆              ┆             ┆   ┆             ┆ LE          ┆ GILDA       ┆             │\n",
       "│              ┆ ASSICURATIV… ┆              ┆             ┆   ┆             ┆ EROGAZIONI  ┆             ┆             │\n",
       "│              ┆              ┆              ┆             ┆   ┆             ┆ IN AGR…     ┆             ┆             │\n",
       "└──────────────┴──────────────┴──────────────┴─────────────┴───┴─────────────┴─────────────┴─────────────┴─────────────┘>"
      ]
     },
     "execution_count": 10,
     "metadata": {},
     "output_type": "execute_result"
    }
   ],
   "source": [
    "df.rows"
   ]
  },
  {
   "cell_type": "code",
   "execution_count": 11,
   "metadata": {
    "scrolled": true
   },
   "outputs": [
    {
     "data": {
      "text/html": [
       "<div><style>\n",
       ".dataframe > thead > tr > th,\n",
       ".dataframe > tbody > tr > td {\n",
       "  text-align: right;\n",
       "}\n",
       "</style>\n",
       "<small>shape: (500_744, 11)</small><table border=\"1\" class=\"dataframe\"><thead><tr><th>CUP</th><th>DESCRIZIONE_SINTETICA_CUP</th><th>ANNO_DECISIONE</th><th>COSTO_PROGETTO</th><th>FINANZIAMENTO_PROGETTO</th><th>REGIONE</th><th>PROVINCIA</th><th>PIVA_CODFISCALE_SOG_TITOLARE</th><th>SOGGETTO_TITOLARE</th><th>DENO_IMPRESA_STABILIMENTO</th><th>PIVA_CF_BENEFICIARIO</th></tr><tr><td>str</td><td>str</td><td>i32</td><td>i64</td><td>i64</td><td>str</td><td>str</td><td>str</td><td>str</td><td>str</td><td>str</td></tr></thead><tbody><tr><td>&quot;C13F1101146000…</td><td>&quot;ABITAZIONE**RI…</td><td>2011</td><td>10000</td><td>10000</td><td>&quot;ABRUZZO&quot;</td><td>&quot;L&#x27;AQUILA&quot;</td><td>&quot;80002270660&quot;</td><td>&quot;COMUNE DI L&#x27;AQ…</td><td>null</td><td>&quot;**************…</td></tr><tr><td>&quot;J51E1300018000…</td><td>&quot;SCUOLA MEDIA S…</td><td>2013</td><td>1150000</td><td>1150000</td><td>&quot;ABRUZZO&quot;</td><td>&quot;CHIETI&quot;</td><td>&quot;00247720691&quot;</td><td>&quot;COMUNE DI SAN …</td><td>null</td><td>&quot;**************…</td></tr><tr><td>&quot;F33F1706675000…</td><td>&quot;LA MONACO DEBO…</td><td>2017</td><td>183</td><td>183</td><td>&quot;ABRUZZO&quot;</td><td>&quot;CHIETI&quot;</td><td>&quot;97181460581&quot;</td><td>&quot;AGENZIA PER LE…</td><td>&quot;LA MONACO DEBO…</td><td>&quot;02030740696&quot;</td></tr><tr><td>&quot;C96I1800015000…</td><td>&quot;DI PANGRAZIO M…</td><td>2018</td><td>1322</td><td>1322</td><td>&quot;ABRUZZO&quot;</td><td>&quot;L&#x27;AQUILA&quot;</td><td>&quot;80003170661&quot;</td><td>&quot;REGIONE ABRUZZ…</td><td>&quot;DI PANGRAZIO M…</td><td>&quot;01536050667&quot;</td></tr><tr><td>&quot;C65B1800144000…</td><td>&quot;PASQUALONE DIE…</td><td>2018</td><td>484</td><td>484</td><td>&quot;ABRUZZO&quot;</td><td>&quot;PESCARA&quot;</td><td>&quot;80003170661&quot;</td><td>&quot;REGIONE ABRUZZ…</td><td>&quot;PASQUALONE DIE…</td><td>&quot;01732740681&quot;</td></tr><tr><td>&quot;C26I1800326000…</td><td>&quot;LOVATO MAURO*P…</td><td>2018</td><td>5427</td><td>5427</td><td>&quot;ABRUZZO&quot;</td><td>&quot;CHIETI&quot;</td><td>&quot;80003170661&quot;</td><td>&quot;REGIONE ABRUZZ…</td><td>&quot;LOVATO MAURO&quot;</td><td>&quot;01741230690&quot;</td></tr><tr><td>&quot;F58G1910958000…</td><td>&quot;ONOFRILLO ETTO…</td><td>2019</td><td>85</td><td>85</td><td>&quot;ABRUZZO&quot;</td><td>&quot;CHIETI&quot;</td><td>&quot;97181460581&quot;</td><td>&quot;AGENZIA PER LE…</td><td>&quot;ONOFRILLO ETTO…</td><td>&quot;00795690692&quot;</td></tr><tr><td>&quot;F38G1912225000…</td><td>&quot;MARIOTTI GIUSE…</td><td>2019</td><td>218</td><td>218</td><td>&quot;ABRUZZO&quot;</td><td>&quot;CHIETI&quot;</td><td>&quot;97181460581&quot;</td><td>&quot;AGENZIA PER LE…</td><td>&quot;MARIOTTI GIUSE…</td><td>&quot;01694920693&quot;</td></tr><tr><td>&quot;C95C2101024000…</td><td>&quot;MD AUTO SRL*CO…</td><td>2021</td><td>5000</td><td>5000</td><td>&quot;ABRUZZO&quot;</td><td>&quot;TUTTE&quot;</td><td>&quot;80003170661&quot;</td><td>&quot;REGIONE ABRUZZ…</td><td>&quot;MD AUTO SRL&quot;</td><td>&quot;01618050692&quot;</td></tr><tr><td>&quot;C12F2000971000…</td><td>&quot;DI MONTI RICCA…</td><td>2020</td><td>1000</td><td>1000</td><td>&quot;ABRUZZO&quot;</td><td>&quot;TERAMO&quot;</td><td>&quot;80003170661&quot;</td><td>&quot;REGIONE ABRUZZ…</td><td>&quot;DI MONTI RICCA…</td><td>&quot;**************…</td></tr><tr><td>&quot;B88I2100006000…</td><td>&quot;IANNI ANTONIET…</td><td>2021</td><td>1375</td><td>1375</td><td>&quot;ABRUZZO&quot;</td><td>&quot;CHIETI&quot;</td><td>&quot;02558590697&quot;</td><td>&quot;CAMERA DI COMM…</td><td>&quot;IANNI ANTONIET…</td><td>&quot;01752430692&quot;</td></tr><tr><td>&quot;C39J2100602000…</td><td>&quot;LUX IMPIANTI R…</td><td>2021</td><td>1000</td><td>1000</td><td>&quot;ABRUZZO&quot;</td><td>&quot;L&#x27;AQUILA&quot;</td><td>&quot;80003170661&quot;</td><td>&quot;REGIONE ABRUZZ…</td><td>&quot;LUX IMPIANTI R…</td><td>&quot;00300050663&quot;</td></tr><tr><td>&hellip;</td><td>&hellip;</td><td>&hellip;</td><td>&hellip;</td><td>&hellip;</td><td>&hellip;</td><td>&hellip;</td><td>&hellip;</td><td>&hellip;</td><td>&hellip;</td><td>&hellip;</td></tr><tr><td>&quot;F83F1711229000…</td><td>&quot;MORETTI MARIA*…</td><td>2017</td><td>67</td><td>67</td><td>&quot;ABRUZZO&quot;</td><td>&quot;CHIETI&quot;</td><td>&quot;97181460581&quot;</td><td>&quot;AGENZIA PER LE…</td><td>&quot;MORETTI MARIA&quot;</td><td>&quot;01406530699&quot;</td></tr><tr><td>&quot;J95B1900047000…</td><td>&quot;IMEA S.R.L.*Fo…</td><td>2019</td><td>1160</td><td>1160</td><td>&quot;ABRUZZO&quot;</td><td>&quot;TUTTE&quot;</td><td>&quot;97311470583&quot;</td><td>&quot;FONDO ARTIGIAN…</td><td>&quot;IMEA S.R.L.&quot;</td><td>&quot;00239850670&quot;</td></tr><tr><td>&quot;C32F2000794000…</td><td>&quot;SUNRISE DI ALE…</td><td>2020</td><td>1000</td><td>1000</td><td>&quot;ABRUZZO&quot;</td><td>&quot;PESCARA&quot;</td><td>&quot;80003170661&quot;</td><td>&quot;REGIONE ABRUZZ…</td><td>&quot;SUNRISE DI ALE…</td><td>&quot;**************…</td></tr><tr><td>&quot;C13D2000228000…</td><td>&quot;CAROSELLA GIUS…</td><td>2020</td><td>1000</td><td>1000</td><td>&quot;ABRUZZO&quot;</td><td>&quot;CHIETI&quot;</td><td>&quot;80003170661&quot;</td><td>&quot;REGIONE ABRUZZ…</td><td>&quot;CAROSELLA GIUS…</td><td>&quot;**************…</td></tr><tr><td>&quot;C82F2000361000…</td><td>&quot;FAIENZA MARIA …</td><td>2020</td><td>1000</td><td>1000</td><td>&quot;ABRUZZO&quot;</td><td>&quot;CHIETI&quot;</td><td>&quot;80003170661&quot;</td><td>&quot;REGIONE ABRUZZ…</td><td>&quot;FAIENZA MARIA …</td><td>&quot;**************…</td></tr><tr><td>&quot;C69J2100490000…</td><td>&quot;NEMESIS SOCIET…</td><td>2021</td><td>2176</td><td>2176</td><td>&quot;ABRUZZO&quot;</td><td>&quot;PESCARA&quot;</td><td>&quot;80003170661&quot;</td><td>&quot;REGIONE ABRUZZ…</td><td>&quot;NEMESIS SOCIET…</td><td>&quot;02109080685&quot;</td></tr><tr><td>&quot;C89J2100024000…</td><td>&quot;EDIFICIO SCOLA…</td><td>2021</td><td>350000</td><td>350000</td><td>&quot;ABRUZZO&quot;</td><td>&quot;PESCARA&quot;</td><td>&quot;00228670683&quot;</td><td>&quot;COMUNE DI CARA…</td><td>null</td><td>&quot;**************…</td></tr><tr><td>&quot;C95H2200045000…</td><td>&quot;NIVES INDUSTRI…</td><td>2022</td><td>2532000</td><td>886200</td><td>&quot;ABRUZZO&quot;</td><td>&quot;TUTTE&quot;</td><td>&quot;05678721001&quot;</td><td>&quot;INVITALIA - AG…</td><td>&quot;NIVES INDUSTRI…</td><td>&quot;15051611000&quot;</td></tr><tr><td>&quot;C97I2201166000…</td><td>&quot;ROMANO DIANA*C…</td><td>2022</td><td>4000</td><td>4000</td><td>&quot;ABRUZZO&quot;</td><td>&quot;TUTTE&quot;</td><td>&quot;80003170661&quot;</td><td>&quot;REGIONE ABRUZZ…</td><td>&quot;ROMANO DIANA&quot;</td><td>&quot;**************…</td></tr><tr><td>&quot;I22F2200072000…</td><td>&quot;MANUTENZIONE S…</td><td>2022</td><td>15000</td><td>15000</td><td>&quot;ABRUZZO&quot;</td><td>&quot;L&#x27;AQUILA&quot;</td><td>&quot;00219510666&quot;</td><td>&quot;COMUNE DI RAIA…</td><td>null</td><td>&quot;**************…</td></tr><tr><td>&quot;F36C2206637000…</td><td>&quot;DEL RE PIETRO*…</td><td>2022</td><td>191</td><td>191</td><td>&quot;ABRUZZO&quot;</td><td>&quot;CHIETI&quot;</td><td>&quot;97181460581&quot;</td><td>&quot;AGENZIA PER LE…</td><td>&quot;DEL RE PIETRO&quot;</td><td>&quot;00704490697&quot;</td></tr><tr><td>&quot;F86C2121920000…</td><td>&quot;RANALLI GILDA*…</td><td>2021</td><td>32</td><td>32</td><td>&quot;ABRUZZO&quot;</td><td>&quot;CHIETI&quot;</td><td>&quot;97181460581&quot;</td><td>&quot;AGENZIA PER LE…</td><td>&quot;RANALLI GILDA&quot;</td><td>&quot;01450100696&quot;</td></tr></tbody></table></div>"
      ],
      "text/plain": [
       "shape: (500_744, 11)\n",
       "┌──────────────┬──────────────┬──────────────┬─────────────┬───┬─────────────┬─────────────┬─────────────┬─────────────┐\n",
       "│ CUP          ┆ DESCRIZIONE_ ┆ ANNO_DECISIO ┆ COSTO_PROGE ┆ … ┆ PIVA_CODFIS ┆ SOGGETTO_TI ┆ DENO_IMPRES ┆ PIVA_CF_BEN │\n",
       "│ ---          ┆ SINTETICA_CU ┆ NE           ┆ TTO         ┆   ┆ CALE_SOG_TI ┆ TOLARE      ┆ A_STABILIME ┆ EFICIARIO   │\n",
       "│ str          ┆ P            ┆ ---          ┆ ---         ┆   ┆ TOLARE      ┆ ---         ┆ NTO         ┆ ---         │\n",
       "│              ┆ ---          ┆ i32          ┆ i64         ┆   ┆ ---         ┆ str         ┆ ---         ┆ str         │\n",
       "│              ┆ str          ┆              ┆             ┆   ┆ str         ┆             ┆ str         ┆             │\n",
       "╞══════════════╪══════════════╪══════════════╪═════════════╪═══╪═════════════╪═════════════╪═════════════╪═════════════╡\n",
       "│ C13F11011460 ┆ ABITAZIONE** ┆ 2011         ┆ 10000       ┆ … ┆ 80002270660 ┆ COMUNE DI   ┆ null        ┆ *********** │\n",
       "│ 001          ┆ RIPARAZIONE  ┆              ┆             ┆   ┆             ┆ L'AQUILA -  ┆             ┆ ****        │\n",
       "│              ┆ DANNI DE…    ┆              ┆             ┆   ┆             ┆ AQ -        ┆             ┆             │\n",
       "│ J51E13000180 ┆ SCUOLA MEDIA ┆ 2013         ┆ 1150000     ┆ … ┆ 00247720691 ┆ COMUNE DI   ┆ null        ┆ *********** │\n",
       "│ 006          ┆ SALVO D'ACQU ┆              ┆             ┆   ┆             ┆ SAN SALVO - ┆             ┆ ****        │\n",
       "│              ┆ ISTO*VI…     ┆              ┆             ┆   ┆             ┆ CHIETI -    ┆             ┆             │\n",
       "│ F33F17066750 ┆ LA MONACO    ┆ 2017         ┆ 183         ┆ … ┆ 97181460581 ┆ AGENZIA PER ┆ LA MONACO   ┆ 02030740696 │\n",
       "│ 009          ┆ DEBORA*PREMI ┆              ┆             ┆   ┆             ┆ LE          ┆ DEBORA      ┆             │\n",
       "│              ┆ O ASSICURA…  ┆              ┆             ┆   ┆             ┆ EROGAZIONI  ┆             ┆             │\n",
       "│              ┆              ┆              ┆             ┆   ┆             ┆ IN AGR…     ┆             ┆             │\n",
       "│ C96I18000150 ┆ DI PANGRAZIO ┆ 2018         ┆ 1322        ┆ … ┆ 80003170661 ┆ REGIONE     ┆ DI          ┆ 01536050667 │\n",
       "│ 009          ┆ MARIA RITA*P ┆              ┆             ┆   ┆             ┆ ABRUZZO     ┆ PANGRAZIO   ┆             │\n",
       "│              ┆ AGAMENT…     ┆              ┆             ┆   ┆             ┆             ┆ MARIA RITA  ┆             │\n",
       "│ …            ┆ …            ┆ …            ┆ …           ┆ … ┆ …           ┆ …           ┆ …           ┆ …           │\n",
       "│ C97I22011660 ┆ ROMANO DIANA ┆ 2022         ┆ 4000        ┆ … ┆ 80003170661 ┆ REGIONE     ┆ ROMANO      ┆ *********** │\n",
       "│ 003          ┆ *CONTRIBUTO  ┆              ┆             ┆   ┆             ┆ ABRUZZO     ┆ DIANA       ┆ ****        │\n",
       "│              ┆ UNA TANT…    ┆              ┆             ┆   ┆             ┆             ┆             ┆             │\n",
       "│ I22F22000720 ┆ MANUTENZIONE ┆ 2022         ┆ 15000       ┆ … ┆ 00219510666 ┆ COMUNE DI   ┆ null        ┆ *********** │\n",
       "│ 002          ┆ STRAORDINARI ┆              ┆             ┆   ┆             ┆ RAIANO -    ┆             ┆ ****        │\n",
       "│              ┆ A IMPIA…     ┆              ┆             ┆   ┆             ┆ L'AQUILA -  ┆             ┆             │\n",
       "│ F36C22066370 ┆ DEL RE PIETR ┆ 2022         ┆ 191         ┆ … ┆ 97181460581 ┆ AGENZIA PER ┆ DEL RE      ┆ 00704490697 │\n",
       "│ 009          ┆ O*PREMIO     ┆              ┆             ┆   ┆             ┆ LE          ┆ PIETRO      ┆             │\n",
       "│              ┆ ASSICURATIV… ┆              ┆             ┆   ┆             ┆ EROGAZIONI  ┆             ┆             │\n",
       "│              ┆              ┆              ┆             ┆   ┆             ┆ IN AGR…     ┆             ┆             │\n",
       "│ F86C21219200 ┆ RANALLI      ┆ 2021         ┆ 32          ┆ … ┆ 97181460581 ┆ AGENZIA PER ┆ RANALLI     ┆ 01450100696 │\n",
       "│ 009          ┆ GILDA*PREMIO ┆              ┆             ┆   ┆             ┆ LE          ┆ GILDA       ┆             │\n",
       "│              ┆ ASSICURATIV… ┆              ┆             ┆   ┆             ┆ EROGAZIONI  ┆             ┆             │\n",
       "│              ┆              ┆              ┆             ┆   ┆             ┆ IN AGR…     ┆             ┆             │\n",
       "└──────────────┴──────────────┴──────────────┴─────────────┴───┴─────────────┴─────────────┴─────────────┴─────────────┘"
      ]
     },
     "execution_count": 11,
     "metadata": {},
     "output_type": "execute_result"
    }
   ],
   "source": [
    "df.filter(pl.col(\"REGIONE\")=='ABRUZZO')"
   ]
  },
  {
   "cell_type": "code",
   "execution_count": 22,
   "metadata": {
    "scrolled": true
   },
   "outputs": [
    {
     "data": {
      "text/html": [
       "<div><style>\n",
       ".dataframe > thead > tr > th,\n",
       ".dataframe > tbody > tr > td {\n",
       "  text-align: right;\n",
       "}\n",
       "</style>\n",
       "<small>shape: (21, 2)</small><table border=\"1\" class=\"dataframe\"><thead><tr><th>REGIONE</th><th>totale</th></tr><tr><td>str</td><td>i64</td></tr></thead><tbody><tr><td>&quot;CALABRIA&quot;</td><td>215380682808</td></tr><tr><td>&quot;LAZIO&quot;</td><td>304761333554</td></tr><tr><td>&quot;EMILIA-ROMAGNA…</td><td>245223469339</td></tr><tr><td>&quot;TOSCANA&quot;</td><td>209811846158</td></tr><tr><td>&quot;TRENTINO-ALTO …</td><td>133813621474</td></tr><tr><td>&quot;SARDEGNA&quot;</td><td>125330446008</td></tr><tr><td>&quot;PUGLIA&quot;</td><td>234374267020</td></tr><tr><td>&quot;PIEMONTE&quot;</td><td>335909352463</td></tr><tr><td>&quot;BASILICATA&quot;</td><td>101981822045</td></tr><tr><td>&quot;LOMBARDIA&quot;</td><td>486237318753</td></tr><tr><td>&quot;FRIULI-VENEZIA…</td><td>161736954335</td></tr><tr><td>&quot;VENETO&quot;</td><td>506594476110</td></tr><tr><td>&quot;MOLISE&quot;</td><td>45523492760</td></tr><tr><td>&quot;SICILIA&quot;</td><td>379811516846</td></tr><tr><td>&quot;MARCHE&quot;</td><td>116212518953</td></tr><tr><td>&quot;VALLE D&#x27;AOSTA&quot;</td><td>30102514819</td></tr><tr><td>&quot;LIGURIA&quot;</td><td>155059501732</td></tr><tr><td>&quot;CAMPANIA&quot;</td><td>434854713448</td></tr><tr><td>&quot;UMBRIA&quot;</td><td>97672123453</td></tr><tr><td>&quot;ABRUZZO&quot;</td><td>249182600363</td></tr><tr><td>&quot;TUTTE&quot;</td><td>49281063262</td></tr></tbody></table></div>"
      ],
      "text/plain": [
       "shape: (21, 2)\n",
       "┌────────────────┬──────────────┐\n",
       "│ REGIONE        ┆ totale       │\n",
       "│ ---            ┆ ---          │\n",
       "│ str            ┆ i64          │\n",
       "╞════════════════╪══════════════╡\n",
       "│ CALABRIA       ┆ 215380682808 │\n",
       "│ LAZIO          ┆ 304761333554 │\n",
       "│ EMILIA-ROMAGNA ┆ 245223469339 │\n",
       "│ TOSCANA        ┆ 209811846158 │\n",
       "│ …              ┆ …            │\n",
       "│ CAMPANIA       ┆ 434854713448 │\n",
       "│ UMBRIA         ┆ 97672123453  │\n",
       "│ ABRUZZO        ┆ 249182600363 │\n",
       "│ TUTTE          ┆ 49281063262  │\n",
       "└────────────────┴──────────────┘"
      ]
     },
     "execution_count": 22,
     "metadata": {},
     "output_type": "execute_result"
    }
   ],
   "source": [
    "df.groupby(by='REGIONE').agg(pl.col('FINANZIAMENTO_PROGETTO').sum().alias('totale'))"
   ]
  },
  {
   "cell_type": "markdown",
   "metadata": {},
   "source": [
    "## analisi con PyArrow"
   ]
  },
  {
   "cell_type": "code",
   "execution_count": 1,
   "metadata": {},
   "outputs": [
    {
     "data": {
      "text/plain": [
       "<duckdb.DuckDBPyConnection at 0x1bf09282c70>"
      ]
     },
     "execution_count": 1,
     "metadata": {},
     "output_type": "execute_result"
    }
   ],
   "source": [
    "import pyarrow.parquet as pq\n",
    "import pandas as pd\n",
    "import glob\n",
    "import duckdb\n",
    "import os\n",
    "os.chdir('D:\\\\duckdb\\\\files\\\\Opencup\\\\TOT')\n",
    " \n",
    "con = duckdb.connect()\n",
    "con.execute(\"PRAGMA threads=2\") # enable automatic query parallelization\n",
    "con.execute(\"PRAGMA enable_object_cache\") # enable caching of parquet metadata"
   ]
  },
  {
   "cell_type": "code",
   "execution_count": 2,
   "metadata": {},
   "outputs": [
    {
     "name": "stdout",
     "output_type": "stream",
     "text": [
      "   count_star()\n",
      "0      15870365\n",
      "CPU times: total: 0 ns\n",
      "Wall time: 9.25 ms\n"
     ]
    }
   ],
   "source": [
    "%%time\n",
    "print(con.execute(\"SELECT COUNT(*) FROM '*.parquet'\").df())"
   ]
  },
  {
   "cell_type": "code",
   "execution_count": 27,
   "metadata": {},
   "outputs": [
    {
     "name": "stdout",
     "output_type": "stream",
     "text": [
      "               CUP                          DESCRIZIONE_SINTETICA_CUP  \\\n",
      "0  B93G99000090015  ITALJOLLY - COMPAGNIA ITALIANA DEI JOLLY HOTEL...   \n",
      "\n",
      "   ANNO_DECISIONE  COSTO_PROGETTO  FINANZIAMENTO_PROGETTO  REGIONE PROVINCIA  \\\n",
      "0            2001         4659990                  817290  SICILIA   PALERMO   \n",
      "\n",
      "  PIVA_CODFISCALE_SOG_TITOLARE                            SOGGETTO_TITOLARE  \\\n",
      "0                  80230390587  MINISTERO DELLE IMPRESE E DEL MADE IN ITALY   \n",
      "\n",
      "  DENO_IMPRESA_STABILIMENTO PIVA_CF_BENEFICIARIO  \n",
      "0                       NaN      ***************  \n",
      "CPU times: total: 15.6 ms\n",
      "Wall time: 38.4 ms\n"
     ]
    }
   ],
   "source": [
    "print(con.execute(\"SELECT * FROM '*.parquet' limit 1\").df())"
   ]
  },
  {
   "cell_type": "code",
   "execution_count": 5,
   "metadata": {},
   "outputs": [],
   "source": [
    "df = (con.execute(\"SELECT PIVA_CODFISCALE_SOG_TITOLARE,SOGGETTO_TITOLARE FROM '*.parquet' group by 1,2\").df())\n",
    "df.to_csv('D:/SOGGETTO_TITOLARE.csv', sep='|')"
   ]
  },
  {
   "cell_type": "code",
   "execution_count": 14,
   "metadata": {},
   "outputs": [
    {
     "data": {
      "application/vnd.jupyter.widget-view+json": {
       "model_id": "40abbdf6871d43be9920abc8d7303712",
       "version_major": 2,
       "version_minor": 0
      },
      "text/plain": [
       "FloatProgress(value=0.0, layout=Layout(width='auto'), style=ProgressStyle(bar_color='black'))"
      ]
     },
     "metadata": {},
     "output_type": "display_data"
    },
    {
     "data": {
      "text/html": [
       "<div><div id=61f228b6-f645-4948-b0bb-876e9eb44d12 style=\"display:none; background-color:#9D6CFF; color:white; width:200px; height:30px; padding-left:5px; border-radius:4px; flex-direction:row; justify-content:space-around; align-items:center;\" onmouseover=\"this.style.backgroundColor='#BA9BF8'\" onmouseout=\"this.style.backgroundColor='#9D6CFF'\" onclick=\"window.commands?.execute('create-mitosheet-from-dataframe-output');\">See Full Dataframe in Mito</div> <script> if (window.commands.hasCommand('create-mitosheet-from-dataframe-output')) document.getElementById('61f228b6-f645-4948-b0bb-876e9eb44d12').style.display = 'flex' </script> <table border=\"1\" class=\"dataframe\">\n",
       "  <thead>\n",
       "    <tr style=\"text-align: right;\">\n",
       "      <th></th>\n",
       "      <th>ANNO_DECISIONE</th>\n",
       "      <th>CUPx1000</th>\n",
       "      <th>opnix1000</th>\n",
       "      <th>COSTO_PROGETTOxM€</th>\n",
       "      <th>FINANZIAMENTO_PROGETTOxM€</th>\n",
       "    </tr>\n",
       "  </thead>\n",
       "  <tbody>\n",
       "    <tr>\n",
       "      <th>0</th>\n",
       "      <td>2023</td>\n",
       "      <td>269.0</td>\n",
       "      <td>585.0</td>\n",
       "      <td>151536.0</td>\n",
       "      <td>104944.0</td>\n",
       "    </tr>\n",
       "    <tr>\n",
       "      <th>1</th>\n",
       "      <td>2022</td>\n",
       "      <td>841.0</td>\n",
       "      <td>2232.0</td>\n",
       "      <td>532089.0</td>\n",
       "      <td>459669.0</td>\n",
       "    </tr>\n",
       "    <tr>\n",
       "      <th>2</th>\n",
       "      <td>2021</td>\n",
       "      <td>769.0</td>\n",
       "      <td>1920.0</td>\n",
       "      <td>524202.0</td>\n",
       "      <td>472192.0</td>\n",
       "    </tr>\n",
       "    <tr>\n",
       "      <th>3</th>\n",
       "      <td>2020</td>\n",
       "      <td>712.0</td>\n",
       "      <td>1836.0</td>\n",
       "      <td>442441.0</td>\n",
       "      <td>410175.0</td>\n",
       "    </tr>\n",
       "    <tr>\n",
       "      <th>4</th>\n",
       "      <td>2019</td>\n",
       "      <td>574.0</td>\n",
       "      <td>1827.0</td>\n",
       "      <td>181845.0</td>\n",
       "      <td>150647.0</td>\n",
       "    </tr>\n",
       "    <tr>\n",
       "      <th>...</th>\n",
       "      <td>...</td>\n",
       "      <td>...</td>\n",
       "      <td>...</td>\n",
       "      <td>...</td>\n",
       "      <td>...</td>\n",
       "    </tr>\n",
       "    <tr>\n",
       "      <th>54</th>\n",
       "      <td>1967</td>\n",
       "      <td>0.0</td>\n",
       "      <td>0.0</td>\n",
       "      <td>3.0</td>\n",
       "      <td>16.0</td>\n",
       "    </tr>\n",
       "    <tr>\n",
       "      <th>55</th>\n",
       "      <td>1960</td>\n",
       "      <td>0.0</td>\n",
       "      <td>0.0</td>\n",
       "      <td>0.0</td>\n",
       "      <td>0.0</td>\n",
       "    </tr>\n",
       "    <tr>\n",
       "      <th>56</th>\n",
       "      <td>1959</td>\n",
       "      <td>0.0</td>\n",
       "      <td>0.0</td>\n",
       "      <td>0.0</td>\n",
       "      <td>0.0</td>\n",
       "    </tr>\n",
       "    <tr>\n",
       "      <th>57</th>\n",
       "      <td>1955</td>\n",
       "      <td>0.0</td>\n",
       "      <td>0.0</td>\n",
       "      <td>0.0</td>\n",
       "      <td>0.0</td>\n",
       "    </tr>\n",
       "    <tr>\n",
       "      <th>58</th>\n",
       "      <td>1950</td>\n",
       "      <td>0.0</td>\n",
       "      <td>0.0</td>\n",
       "      <td>142.0</td>\n",
       "      <td>142.0</td>\n",
       "    </tr>\n",
       "  </tbody>\n",
       "</table></div>"
      ],
      "text/plain": [
       "    ANNO_DECISIONE  CUPx1000  opnix1000  COSTO_PROGETTOxM€  \\\n",
       "0             2023     269.0      585.0           151536.0   \n",
       "1             2022     841.0     2232.0           532089.0   \n",
       "2             2021     769.0     1920.0           524202.0   \n",
       "3             2020     712.0     1836.0           442441.0   \n",
       "4             2019     574.0     1827.0           181845.0   \n",
       "5             2018     816.0     2598.0           205047.0   \n",
       "6             2017     434.0     1376.0           221835.0   \n",
       "7             2016     246.0      696.0           133133.0   \n",
       "8             2015     200.0      419.0            70504.0   \n",
       "9             2014     171.0      322.0            85479.0   \n",
       "10            2013     146.0      268.0            91626.0   \n",
       "11            2012     150.0      283.0           134454.0   \n",
       "12            2011     152.0      265.0           178527.0   \n",
       "13            2010     162.0      253.0           162303.0   \n",
       "14            2009      99.0      165.0           162180.0   \n",
       "15            2008      76.0      127.0           257652.0   \n",
       "16            2007      69.0      109.0           204697.0   \n",
       "17            2006      80.0      128.0           154573.0   \n",
       "18            2005      71.0      110.0           267543.0   \n",
       "19            2004      57.0       90.0           230328.0   \n",
       "20            2003      37.0       71.0           436751.0   \n",
       "21            2002      24.0       50.0           258420.0   \n",
       "22            2001      25.0       55.0           134968.0   \n",
       "23            2000       7.0       11.0            44581.0   \n",
       "24            1999      10.0       23.0            60590.0   \n",
       "25            1998       5.0       13.0            34106.0   \n",
       "26            1997       6.0       14.0            38997.0   \n",
       "27            1996       7.0       19.0            53030.0   \n",
       "28            1995       0.0        1.0             2945.0   \n",
       "29            1994       0.0        0.0             1350.0   \n",
       "30            1993       1.0        1.0            10601.0   \n",
       "31            1992       0.0        0.0            52730.0   \n",
       "32            1991       0.0        1.0            58951.0   \n",
       "33            1990       0.0        0.0             3580.0   \n",
       "34            1989       0.0        0.0             4808.0   \n",
       "35            1988       0.0        0.0             2744.0   \n",
       "36            1987       0.0        0.0              470.0   \n",
       "37            1986       0.0        0.0             1649.0   \n",
       "38            1985       0.0        0.0              592.0   \n",
       "39            1984       0.0        0.0              973.0   \n",
       "40            1983       0.0        0.0              101.0   \n",
       "41            1982       0.0        0.0             2693.0   \n",
       "42            1981       0.0        0.0             1231.0   \n",
       "43            1980       0.0        0.0               31.0   \n",
       "44            1979       0.0        0.0               26.0   \n",
       "45            1978       0.0        0.0               31.0   \n",
       "46            1977       0.0        0.0               25.0   \n",
       "47            1976       0.0        0.0             2768.0   \n",
       "48            1975       0.0        0.0               66.0   \n",
       "49            1974       0.0        0.0               35.0   \n",
       "50            1973       0.0        0.0                6.0   \n",
       "51            1972       0.0        0.0                0.0   \n",
       "52            1971       0.0        0.0               20.0   \n",
       "53            1970       0.0        0.0                3.0   \n",
       "54            1967       0.0        0.0                3.0   \n",
       "55            1960       0.0        0.0                0.0   \n",
       "56            1959       0.0        0.0                0.0   \n",
       "57            1955       0.0        0.0                0.0   \n",
       "58            1950       0.0        0.0              142.0   \n",
       "\n",
       "    FINANZIAMENTO_PROGETTOxM€  \n",
       "0                    104944.0  \n",
       "1                    459669.0  \n",
       "2                    472192.0  \n",
       "3                    410175.0  \n",
       "4                    150647.0  \n",
       "5                    171504.0  \n",
       "6                    177370.0  \n",
       "7                    115366.0  \n",
       "8                     56594.0  \n",
       "9                     68134.0  \n",
       "10                    72048.0  \n",
       "11                   116075.0  \n",
       "12                   132945.0  \n",
       "13                   115774.0  \n",
       "14                   140628.0  \n",
       "15                   226461.0  \n",
       "16                   169901.0  \n",
       "17                   131376.0  \n",
       "18                   242324.0  \n",
       "19                   187202.0  \n",
       "20                   352346.0  \n",
       "21                   165512.0  \n",
       "22                    97129.0  \n",
       "23                    38565.0  \n",
       "24                    43268.0  \n",
       "25                    22325.0  \n",
       "26                    25707.0  \n",
       "27                    32195.0  \n",
       "28                     2422.0  \n",
       "29                     1249.0  \n",
       "30                    10269.0  \n",
       "31                    51214.0  \n",
       "32                    34501.0  \n",
       "33                     2975.0  \n",
       "34                     4611.0  \n",
       "35                     2611.0  \n",
       "36                      407.0  \n",
       "37                     1603.0  \n",
       "38                      551.0  \n",
       "39                      959.0  \n",
       "40                       85.0  \n",
       "41                     2666.0  \n",
       "42                     1218.0  \n",
       "43                       28.0  \n",
       "44                       14.0  \n",
       "45                       23.0  \n",
       "46                       25.0  \n",
       "47                     2760.0  \n",
       "48                       66.0  \n",
       "49                       34.0  \n",
       "50                        6.0  \n",
       "51                        0.0  \n",
       "52                       19.0  \n",
       "53                        3.0  \n",
       "54                       16.0  \n",
       "55                        0.0  \n",
       "56                        0.0  \n",
       "57                        0.0  \n",
       "58                      142.0  "
      ]
     },
     "execution_count": 14,
     "metadata": {},
     "output_type": "execute_result"
    }
   ],
   "source": [
    "df = (con.execute(\"SELECT ANNO_DECISIONE,round(count(distinct(CUP))/1000) CUPx1000, round(count(CUP)/1000) opnix1000, \\\n",
    "round(sum(COSTO_PROGETTO)/1000000) COSTO_PROGETTOxM€, round(sum(FINANZIAMENTO_PROGETTO)/1000000)  FINANZIAMENTO_PROGETTOxM€ \\\n",
    "FROM '*.parquet' group by 1 order by 1 desc\").df())\n",
    "df"
   ]
  },
  {
   "cell_type": "code",
   "execution_count": 36,
   "metadata": {},
   "outputs": [
    {
     "data": {
      "application/vnd.jupyter.widget-view+json": {
       "model_id": "5f4fba7f9b0742ab94c4afc3af0c2379",
       "version_major": 2,
       "version_minor": 0
      },
      "text/plain": [
       "FloatProgress(value=0.0, layout=Layout(width='auto'), style=ProgressStyle(bar_color='black'))"
      ]
     },
     "metadata": {},
     "output_type": "display_data"
    },
    {
     "data": {
      "text/html": [
       "<div><div id=46d87488-6175-4e58-b052-b91b79829741 style=\"display:none; background-color:#9D6CFF; color:white; width:200px; height:30px; padding-left:5px; border-radius:4px; flex-direction:row; justify-content:space-around; align-items:center;\" onmouseover=\"this.style.backgroundColor='#BA9BF8'\" onmouseout=\"this.style.backgroundColor='#9D6CFF'\" onclick=\"window.commands?.execute('create-mitosheet-from-dataframe-output');\">See Full Dataframe in Mito</div> <script> if (window.commands.hasCommand('create-mitosheet-from-dataframe-output')) document.getElementById('46d87488-6175-4e58-b052-b91b79829741').style.display = 'flex' </script> <table border=\"1\" class=\"dataframe\">\n",
       "  <thead>\n",
       "    <tr style=\"text-align: right;\">\n",
       "      <th></th>\n",
       "      <th>CUP</th>\n",
       "      <th>DESCRIZIONE_SINTETICA_CUP</th>\n",
       "      <th>ANNO_DECISIONE</th>\n",
       "      <th>COSTO_PROGETTO</th>\n",
       "      <th>FINANZIAMENTO_PROGETTO</th>\n",
       "      <th>REGIONE</th>\n",
       "      <th>PROVINCIA</th>\n",
       "      <th>PIVA_CODFISCALE_SOG_TITOLARE</th>\n",
       "      <th>SOGGETTO_TITOLARE</th>\n",
       "      <th>DENO_IMPRESA_STABILIMENTO</th>\n",
       "      <th>PIVA_CF_BENEFICIARIO</th>\n",
       "    </tr>\n",
       "  </thead>\n",
       "  <tbody>\n",
       "    <tr>\n",
       "      <th>0</th>\n",
       "      <td>E11B21007570006</td>\n",
       "      <td>MA GROUP SRL*FINANZIAMENTI PER L'INTERNAZIONALIZZAZIONE DELLE IMPRESE E PER LA TRANSIZIONE DIGITALE*VIA MARCO FURIO BIBACULO 2B</td>\n",
       "      <td>2021</td>\n",
       "      <td>250000</td>\n",
       "      <td>250000</td>\n",
       "      <td>LOMBARDIA</td>\n",
       "      <td>CREMONA</td>\n",
       "      <td>04102891001</td>\n",
       "      <td>SIMEST SPA - ROMA</td>\n",
       "      <td>MA GROUP SRL</td>\n",
       "      <td>01321490193</td>\n",
       "    </tr>\n",
       "    <tr>\n",
       "      <th>1</th>\n",
       "      <td>E11B21007580006</td>\n",
       "      <td>FLORIUS SRL*FINANZIAMENTI PER L'INTERNAZIONALIZZAZIONE DELLE IMPRESE E PER LA TRANSIZIONE DIGITALE*VIA REIS ROMOLI 122A</td>\n",
       "      <td>2021</td>\n",
       "      <td>300000</td>\n",
       "      <td>300000</td>\n",
       "      <td>PIEMONTE</td>\n",
       "      <td>TORINO</td>\n",
       "      <td>04102891001</td>\n",
       "      <td>SIMEST SPA - ROMA</td>\n",
       "      <td>FLORIUS SRL</td>\n",
       "      <td>11948870016</td>\n",
       "    </tr>\n",
       "    <tr>\n",
       "      <th>2</th>\n",
       "      <td>E11B21007590006</td>\n",
       "      <td>NUOVA BEM SRL*FINANZIAMENTI PER L'INTERNAZIONALIZZAZIONE DELLE IMPRESE E PER LA TRANSIZIONE DIGITALE*VIA ALFONSO LAMARMORA 72</td>\n",
       "      <td>2021</td>\n",
       "      <td>300000</td>\n",
       "      <td>300000</td>\n",
       "      <td>PIEMONTE</td>\n",
       "      <td>TORINO</td>\n",
       "      <td>04102891001</td>\n",
       "      <td>SIMEST SPA - ROMA</td>\n",
       "      <td>NUOVA BEM SRL</td>\n",
       "      <td>04914600285</td>\n",
       "    </tr>\n",
       "    <tr>\n",
       "      <th>3</th>\n",
       "      <td>E11B21007600006</td>\n",
       "      <td>ECOVER SRL*FINANZIAMENTI PER L'INTERNAZIONALIZZAZIONE DELLE IMPRESE E PER LA TRANSIZIONE DIGITALE*VIA ADAMELLO 8</td>\n",
       "      <td>2021</td>\n",
       "      <td>100000</td>\n",
       "      <td>100000</td>\n",
       "      <td>LOMBARDIA</td>\n",
       "      <td>BRESCIA</td>\n",
       "      <td>04102891001</td>\n",
       "      <td>SIMEST SPA - ROMA</td>\n",
       "      <td>ECOVER SRL</td>\n",
       "      <td>01926470988</td>\n",
       "    </tr>\n",
       "    <tr>\n",
       "      <th>4</th>\n",
       "      <td>E11B21007610006</td>\n",
       "      <td>DAMI  SRL*FINANZIAMENTI PER L'INTERNAZIONALIZZAZIONE DELLE IMPRESE E PER LA TRANSIZIONE DIGITALE*STRADA MONTURANESE 1462</td>\n",
       "      <td>2021</td>\n",
       "      <td>300000</td>\n",
       "      <td>300000</td>\n",
       "      <td>MARCHE</td>\n",
       "      <td>FERMO</td>\n",
       "      <td>04102891001</td>\n",
       "      <td>SIMEST SPA - ROMA</td>\n",
       "      <td>DAMI  SRL</td>\n",
       "      <td>00412840449</td>\n",
       "    </tr>\n",
       "    <tr>\n",
       "      <th>...</th>\n",
       "      <td>...</td>\n",
       "      <td>...</td>\n",
       "      <td>...</td>\n",
       "      <td>...</td>\n",
       "      <td>...</td>\n",
       "      <td>...</td>\n",
       "      <td>...</td>\n",
       "      <td>...</td>\n",
       "      <td>...</td>\n",
       "      <td>...</td>\n",
       "      <td>...</td>\n",
       "    </tr>\n",
       "    <tr>\n",
       "      <th>12194</th>\n",
       "      <td>E99J23004450001</td>\n",
       "      <td>TOPFLY SRL*FINANZIAMENTI PER L'INTERNAZIONALIZZAZIONE DELLE IMPRESE*VIA CAPPELLE 15</td>\n",
       "      <td>2023</td>\n",
       "      <td>20000</td>\n",
       "      <td>20000</td>\n",
       "      <td>ABRUZZO</td>\n",
       "      <td>CHIETI</td>\n",
       "      <td>04102891001</td>\n",
       "      <td>SIMEST SPA - ROMA</td>\n",
       "      <td>TOPFLY SRL</td>\n",
       "      <td>02672890692</td>\n",
       "    </tr>\n",
       "    <tr>\n",
       "      <th>12195</th>\n",
       "      <td>E99J23004460001</td>\n",
       "      <td>G GROUP SRL*FINANZIAMENTI PER L'INTERNAZIONALIZZAZIONE DELLE IMPRESE*PIAZZA UMBERTO I 23</td>\n",
       "      <td>2023</td>\n",
       "      <td>30000</td>\n",
       "      <td>30000</td>\n",
       "      <td>PUGLIA</td>\n",
       "      <td>TARANTO</td>\n",
       "      <td>04102891001</td>\n",
       "      <td>SIMEST SPA - ROMA</td>\n",
       "      <td>G GROUP SRL</td>\n",
       "      <td>02941790731</td>\n",
       "    </tr>\n",
       "    <tr>\n",
       "      <th>12196</th>\n",
       "      <td>E99J23004470001</td>\n",
       "      <td>VAMAG SRL*FINANZIAMENTI PER L'INTERNAZIONALIZZAZIONE DELLE IMPRESE*VIA PASCOLI 15</td>\n",
       "      <td>2023</td>\n",
       "      <td>210000</td>\n",
       "      <td>210000</td>\n",
       "      <td>LOMBARDIA</td>\n",
       "      <td>VARESE</td>\n",
       "      <td>04102891001</td>\n",
       "      <td>SIMEST SPA - ROMA</td>\n",
       "      <td>VAMAG SRL</td>\n",
       "      <td>01234220125</td>\n",
       "    </tr>\n",
       "    <tr>\n",
       "      <th>12197</th>\n",
       "      <td>E99J23004480001</td>\n",
       "      <td>FAMILY MARKET  SRL*FINANZIAMENTI PER L'INTERNAZIONALIZZAZIONE DELLE IMPRESE*VIA GIOVANNI AMENDOLA 22</td>\n",
       "      <td>2023</td>\n",
       "      <td>378000</td>\n",
       "      <td>378000</td>\n",
       "      <td>LAZIO</td>\n",
       "      <td>ROMA</td>\n",
       "      <td>04102891001</td>\n",
       "      <td>SIMEST SPA - ROMA</td>\n",
       "      <td>FAMILY MARKET  SRL</td>\n",
       "      <td>14534251005</td>\n",
       "    </tr>\n",
       "    <tr>\n",
       "      <th>12198</th>\n",
       "      <td>E99J23004490001</td>\n",
       "      <td>NOVELLA CONSERVE ALIMENTARI SRL*FINANZIAMENTI PER L'INTERNAZIONALIZZAZIONE DELLE IMPRESE*VIA ALESSANDRO VOLTA 115</td>\n",
       "      <td>2023</td>\n",
       "      <td>700000</td>\n",
       "      <td>700000</td>\n",
       "      <td>VENETO</td>\n",
       "      <td>ROVIGO</td>\n",
       "      <td>04102891001</td>\n",
       "      <td>SIMEST SPA - ROMA</td>\n",
       "      <td>NOVELLA CONSERVE ALIMENTARI SRL</td>\n",
       "      <td>00595600297</td>\n",
       "    </tr>\n",
       "  </tbody>\n",
       "</table></div>"
      ],
      "text/plain": [
       "                   CUP                          DESCRIZIONE_SINTETICA_CUP  \\\n",
       "0      E11B21007570006  MA GROUP SRL*FINANZIAMENTI PER L'INTERNAZIONAL...   \n",
       "1      E11B21007580006  FLORIUS SRL*FINANZIAMENTI PER L'INTERNAZIONALI...   \n",
       "2      E11B21007590006  NUOVA BEM SRL*FINANZIAMENTI PER L'INTERNAZIONA...   \n",
       "3      E11B21007600006  ECOVER SRL*FINANZIAMENTI PER L'INTERNAZIONALIZ...   \n",
       "4      E11B21007610006  DAMI  SRL*FINANZIAMENTI PER L'INTERNAZIONALIZZ...   \n",
       "...                ...                                                ...   \n",
       "12194  E99J23004450001  TOPFLY SRL*FINANZIAMENTI PER L'INTERNAZIONALIZ...   \n",
       "12195  E99J23004460001  G GROUP SRL*FINANZIAMENTI PER L'INTERNAZIONALI...   \n",
       "12196  E99J23004470001  VAMAG SRL*FINANZIAMENTI PER L'INTERNAZIONALIZZ...   \n",
       "12197  E99J23004480001  FAMILY MARKET  SRL*FINANZIAMENTI PER L'INTERNA...   \n",
       "12198  E99J23004490001  NOVELLA CONSERVE ALIMENTARI SRL*FINANZIAMENTI ...   \n",
       "\n",
       "       ANNO_DECISIONE  COSTO_PROGETTO  FINANZIAMENTO_PROGETTO    REGIONE  \\\n",
       "0                2021          250000                  250000  LOMBARDIA   \n",
       "1                2021          300000                  300000   PIEMONTE   \n",
       "2                2021          300000                  300000   PIEMONTE   \n",
       "3                2021          100000                  100000  LOMBARDIA   \n",
       "4                2021          300000                  300000     MARCHE   \n",
       "...               ...             ...                     ...        ...   \n",
       "12194            2023           20000                   20000    ABRUZZO   \n",
       "12195            2023           30000                   30000     PUGLIA   \n",
       "12196            2023          210000                  210000  LOMBARDIA   \n",
       "12197            2023          378000                  378000      LAZIO   \n",
       "12198            2023          700000                  700000     VENETO   \n",
       "\n",
       "      PROVINCIA PIVA_CODFISCALE_SOG_TITOLARE  SOGGETTO_TITOLARE  \\\n",
       "0       CREMONA                  04102891001  SIMEST SPA - ROMA   \n",
       "1        TORINO                  04102891001  SIMEST SPA - ROMA   \n",
       "2        TORINO                  04102891001  SIMEST SPA - ROMA   \n",
       "3       BRESCIA                  04102891001  SIMEST SPA - ROMA   \n",
       "4         FERMO                  04102891001  SIMEST SPA - ROMA   \n",
       "...         ...                          ...                ...   \n",
       "12194    CHIETI                  04102891001  SIMEST SPA - ROMA   \n",
       "12195   TARANTO                  04102891001  SIMEST SPA - ROMA   \n",
       "12196    VARESE                  04102891001  SIMEST SPA - ROMA   \n",
       "12197      ROMA                  04102891001  SIMEST SPA - ROMA   \n",
       "12198    ROVIGO                  04102891001  SIMEST SPA - ROMA   \n",
       "\n",
       "             DENO_IMPRESA_STABILIMENTO PIVA_CF_BENEFICIARIO  \n",
       "0                         MA GROUP SRL          01321490193  \n",
       "1                          FLORIUS SRL          11948870016  \n",
       "2                        NUOVA BEM SRL          04914600285  \n",
       "3                           ECOVER SRL          01926470988  \n",
       "4                            DAMI  SRL          00412840449  \n",
       "...                                ...                  ...  \n",
       "12194                       TOPFLY SRL          02672890692  \n",
       "12195                      G GROUP SRL          02941790731  \n",
       "12196                        VAMAG SRL          01234220125  \n",
       "12197               FAMILY MARKET  SRL          14534251005  \n",
       "12198  NOVELLA CONSERVE ALIMENTARI SRL          00595600297  \n",
       "\n",
       "[12199 rows x 11 columns]"
      ]
     },
     "execution_count": 36,
     "metadata": {},
     "output_type": "execute_result"
    }
   ],
   "source": [
    "df = (con.execute(\"SELECT * FROM '*.parquet' where SOGGETTO_TITOLARE like '%SIMEST%' order by CUP\").df())\n",
    "df"
   ]
  },
  {
   "cell_type": "code",
   "execution_count": 34,
   "metadata": {},
   "outputs": [
    {
     "name": "stdout",
     "output_type": "stream",
     "text": [
      "<class 'pandas.core.frame.DataFrame'>\n",
      "RangeIndex: 12199 entries, 0 to 12198\n",
      "Data columns (total 11 columns):\n",
      " #   Column                        Non-Null Count  Dtype \n",
      "---  ------                        --------------  ----- \n",
      " 0   CUP                           12199 non-null  object\n",
      " 1   DESCRIZIONE_SINTETICA_CUP     12199 non-null  object\n",
      " 2   ANNO_DECISIONE                12199 non-null  int32 \n",
      " 3   COSTO_PROGETTO                12199 non-null  int64 \n",
      " 4   FINANZIAMENTO_PROGETTO        12199 non-null  int64 \n",
      " 5   REGIONE                       12199 non-null  object\n",
      " 6   PROVINCIA                     12199 non-null  object\n",
      " 7   PIVA_CODFISCALE_SOG_TITOLARE  12199 non-null  object\n",
      " 8   SOGGETTO_TITOLARE             12199 non-null  object\n",
      " 9   DENO_IMPRESA_STABILIMENTO     12199 non-null  object\n",
      " 10  PIVA_CF_BENEFICIARIO          12199 non-null  object\n",
      "dtypes: int32(1), int64(2), object(8)\n",
      "memory usage: 1000.8+ KB\n"
     ]
    }
   ],
   "source": [
    "df.info()"
   ]
  },
  {
   "cell_type": "code",
   "execution_count": 35,
   "metadata": {},
   "outputs": [],
   "source": [
    "df.to_csv('D:/Opencup_Simest.csv',sep='|', index= False)"
   ]
  },
  {
   "cell_type": "markdown",
   "metadata": {},
   "source": []
  },
  {
   "cell_type": "markdown",
   "metadata": {},
   "source": [
    "# creare un DuckDB DB"
   ]
  },
  {
   "cell_type": "code",
   "execution_count": null,
   "metadata": {},
   "outputs": [],
   "source": [
    "import duckdb\n",
    "import os\n",
    "os.chdir('D:')\n",
    "conn = duckdb.connect(database='Opendata.duckdb', read_only=False)\n",
    "conn.execute(f'''CREATE TABLE Opencup AS SELECT * FROM read_parquet('D:/duckdb/files/Opencup/TOT/*.parquet');''').df()"
   ]
  },
  {
   "cell_type": "code",
   "execution_count": null,
   "metadata": {},
   "outputs": [],
   "source": []
  },
  {
   "cell_type": "code",
   "execution_count": null,
   "metadata": {},
   "outputs": [],
   "source": []
  },
  {
   "cell_type": "code",
   "execution_count": null,
   "metadata": {},
   "outputs": [],
   "source": []
  },
  {
   "cell_type": "markdown",
   "metadata": {},
   "source": [
    "## backup"
   ]
  },
  {
   "cell_type": "code",
   "execution_count": 13,
   "metadata": {},
   "outputs": [],
   "source": [
    "dask_df = dd.read_csv('TOTALE.csv',sep='|') # ,dtype=object)"
   ]
  },
  {
   "cell_type": "raw",
   "metadata": {},
   "source": [
    "# df  =  pd.read_csv('TOTALE.csv',sep='|',dtype={'FISCALE_SOG_TITOLARE': str}, nrows=20)"
   ]
  },
  {
   "cell_type": "code",
   "execution_count": null,
   "metadata": {},
   "outputs": [],
   "source": [
    "#read data in chunks of 1 million rows at a time\n",
    "chunk = pd.read_csv('TOTALE.csv',sep='|',chunksize=1000000)\n",
    "\n",
    "pd_df = pd.concat(chunk)"
   ]
  },
  {
   "cell_type": "code",
   "execution_count": null,
   "metadata": {},
   "outputs": [],
   "source": [
    "df = pd.read_csv(name+'.zip', compression='zip', sep='|', quotechar='\"', \n",
    "                 dtype = {'PIVA_CODFISCALE_SOG_TITOLARE' : object,\n",
    "                          'COD_GRUPPO_ATECO': object,\n",
    "                          'NUM_CIVICO_SOG_TITOLARE': object,\n",
    "                          'CAP_SOGGETTO_TITOLARE' : object})"
   ]
  },
  {
   "cell_type": "code",
   "execution_count": 18,
   "metadata": {},
   "outputs": [
    {
     "data": {
      "text/plain": [
       "(Delayed('int-1a08948b-8b19-4036-a432-3ed13cd53ebc'), 91)"
      ]
     },
     "execution_count": 18,
     "metadata": {},
     "output_type": "execute_result"
    }
   ],
   "source": [
    "df.shape"
   ]
  },
  {
   "cell_type": "code",
   "execution_count": 12,
   "metadata": {},
   "outputs": [
    {
     "name": "stdout",
     "output_type": "stream",
     "text": [
      "<class 'pandas.core.frame.DataFrame'>\n",
      "RangeIndex: 20 entries, 0 to 19\n",
      "Data columns (total 91 columns):\n",
      " #   Column                          Non-Null Count  Dtype  \n",
      "---  ------                          --------------  -----  \n",
      " 0   CUP                             20 non-null     object \n",
      " 1   DESCRIZIONE_SINTETICA_CUP       20 non-null     object \n",
      " 2   ANNO_DECISIONE                  20 non-null     int64  \n",
      " 3   STATO_PROGETTO                  20 non-null     object \n",
      " 4   COSTO_PROGETTO                  20 non-null     int64  \n",
      " 5   FINANZIAMENTO_PROGETTO          20 non-null     int64  \n",
      " 6   CODICE_STATO                    20 non-null     int64  \n",
      " 7   STATO                           20 non-null     object \n",
      " 8   CODICE_AREA_GEOGRAFICA          20 non-null     object \n",
      " 9   AREA_GEOGRAFICA                 20 non-null     object \n",
      " 10  CODICE_REGIONE                  20 non-null     int64  \n",
      " 11  REGIONE                         20 non-null     object \n",
      " 12  CODICE_PROVINCIA                20 non-null     int64  \n",
      " 13  SIGLA_PROVINCIA                 20 non-null     object \n",
      " 14  PROVINCIA                       20 non-null     object \n",
      " 15  CODICE_COMUNE                   20 non-null     int64  \n",
      " 16  COMUNE                          20 non-null     object \n",
      " 17  PIVA_CODFISCALE_SOG_TITOLARE    20 non-null     int64  \n",
      " 18  SOGGETTO_TITOLARE               20 non-null     object \n",
      " 19  INDIRIZZO_SOG_TITOLARE          20 non-null     object \n",
      " 20  TIPO_INDIRIZZO_SOG_TITOLARE     16 non-null     object \n",
      " 21  NUM_CIVICO_SOG_TITOLARE         20 non-null     object \n",
      " 22  LOCALITA_SOG_TITOLARE           18 non-null     object \n",
      " 23  CAP_SOGGETTO_TITOLARE           20 non-null     int64  \n",
      " 24  COMUNE_SOGGETTO_TITOLARE        20 non-null     object \n",
      " 25  CODICE_COMUNE_SOGG_TITOLARE     20 non-null     int64  \n",
      " 26  CODICE_SOTTOCATEG_SOGGETTO      20 non-null     int64  \n",
      " 27  SOTTOCATEGORIA_SOGGETTO         20 non-null     object \n",
      " 28  CODICE_CATEGORIA_SOGGETTO       20 non-null     int64  \n",
      " 29  CATEGORIA_SOGGETTO              20 non-null     object \n",
      " 30  CODICE_AREA_SOGGETTO            20 non-null     object \n",
      " 31  AREA_SOGGETTO                   20 non-null     object \n",
      " 32  CODICE_NATURA_INTERVENTO        20 non-null     int64  \n",
      " 33  NATURA_INTERVENTO               20 non-null     object \n",
      " 34  COD_NATURA_DIPE                 20 non-null     object \n",
      " 35  NATURA_DIPE                     20 non-null     object \n",
      " 36  CODICE_TIPO_INTERVENTO          20 non-null     int64  \n",
      " 37  TIPOLOGIA_INTERVENTO            20 non-null     object \n",
      " 38  CODICE_AREA_INTERVENTO          20 non-null     int64  \n",
      " 39  AREA_INTERVENTO                 20 non-null     object \n",
      " 40  CODICE_SETTORE_INTERVENTO       20 non-null     int64  \n",
      " 41  SETTORE_INTERVENTO              20 non-null     object \n",
      " 42  CODICE_SOTTOSETTORE_INTERVENTO  20 non-null     int64  \n",
      " 43  SOTTOSETTORE_INTERVENTO         20 non-null     object \n",
      " 44  CODICE_CATEGORIA_INTERVENTO     20 non-null     int64  \n",
      " 45  CATEGORIA_INTERVENTO            20 non-null     object \n",
      " 46  SOGGETTO_RICHIEDENTE            20 non-null     object \n",
      " 47  TIPO_CUP                        20 non-null     object \n",
      " 48  DESCRIZIONE_INTERVENTO          20 non-null     object \n",
      " 49  DENO_IMPRESA_STABILIMENTO       6 non-null      object \n",
      " 50  PIVA_CF_BENEFICIARIO            20 non-null     object \n",
      " 51  DENO_IMPRESA_STABILIMENTO_PREC  0 non-null      float64\n",
      " 52  DENOMINAZIONE_BENEFICIARIO      0 non-null      float64\n",
      " 53  STRUTTURA_INFRASTRUTTURA        20 non-null     object \n",
      " 54  INDIRIZZO_INTERVENTO            20 non-null     object \n",
      " 55  NUMERO_DELIBERA_CIPE            20 non-null     object \n",
      " 56  ANNO_DELIBERA                   20 non-null     object \n",
      " 57  FLAG_LEGGE_OBIETTIVO            20 non-null     object \n",
      " 58  FLAG_TIPO_GENERICO              20 non-null     object \n",
      " 59  CUP_IN_RELAZIONE                0 non-null      float64\n",
      " 60  RUOLO_IN_RELAZIONE              0 non-null      float64\n",
      " 61  DESC_TIPO_RELAZIONE             0 non-null      float64\n",
      " 62  DATA_ULTIMA_MODIFICA_SSC        9 non-null      object \n",
      " 63  DATA_ULTIMA_MODIFICA_UTENTE     1 non-null      object \n",
      " 64  DATA_CHIUSURA_REVOCA            15 non-null     object \n",
      " 65  CODICE_LOCALE_PROGETTO          12 non-null     object \n",
      " 66  CODICE_STRUMENTO_PROGRAM        20 non-null     int64  \n",
      " 67  STRUMENTO_PROGRAMMAZIONE        20 non-null     object \n",
      " 68  CODICE_COPERTURA_FINANZIARIA    20 non-null     int64  \n",
      " 69  COPERTURA_FINANZIARIA           20 non-null     object \n",
      " 70  FINANZA_PROGETTO                20 non-null     object \n",
      " 71  SPONSORIZZAZIONI                20 non-null     object \n",
      " 72  ALTRE_INFORMAZIONI              10 non-null     object \n",
      " 73  DATA_GENERAZIONE_CUP            20 non-null     object \n",
      " 74  CONTROLLO_QUALITA               20 non-null     object \n",
      " 75  CUP_MASTER                      4 non-null      object \n",
      " 76  RAGIONI_COLLEGAMENTO            4 non-null      object \n",
      " 77  LINK_OPENCOESIONE               0 non-null      float64\n",
      " 78  LINK_SCUOLE_SICURE              0 non-null      float64\n",
      " 79  COD_SEZIONE_ATECO               14 non-null     object \n",
      " 80  SEZIONE_ATECO                   14 non-null     object \n",
      " 81  COD_DIVISIONE_ATECO             14 non-null     float64\n",
      " 82  DIVISIONE_ATECO                 14 non-null     object \n",
      " 83  COD_GRUPPO_ATECO                14 non-null     float64\n",
      " 84  GRUPPO_ATECO                    14 non-null     object \n",
      " 85  COD_CLASSE_ATECO                0 non-null      float64\n",
      " 86  CLASSE_ATECO                    0 non-null      float64\n",
      " 87  COD_CATEGORIA_ATECO             0 non-null      float64\n",
      " 88  CATEGORIA_ATECO                 0 non-null      float64\n",
      " 89  COD_SOTTOCATEG_ATECO            0 non-null      float64\n",
      " 90  SOTTOCATEGORIA_ATECO            0 non-null      float64\n",
      "dtypes: float64(15), int64(20), object(56)\n",
      "memory usage: 14.3+ KB\n"
     ]
    }
   ],
   "source": [
    "pd.set_option('display.max_column', None)\n",
    "df.info()\n"
   ]
  },
  {
   "cell_type": "code",
   "execution_count": null,
   "metadata": {},
   "outputs": [],
   "source": []
  },
  {
   "cell_type": "markdown",
   "metadata": {},
   "source": [
    "### usare i parquet - prima alternativa"
   ]
  },
  {
   "cell_type": "code",
   "execution_count": null,
   "metadata": {},
   "outputs": [],
   "source": [
    "# con pandas è lento\n",
    "%%time\n",
    "con = duckdb.connect()\n",
    "os.chdir('D:/duckdb/files/Opencup/20230301')\n",
    "opencup = con.execute(f'''select * from read_parquet('*.parquet') ''').df()"
   ]
  },
  {
   "cell_type": "markdown",
   "metadata": {},
   "source": [
    "### usare i parquet - seconda alternativa con Pyarrow"
   ]
  },
  {
   "cell_type": "code",
   "execution_count": null,
   "metadata": {},
   "outputs": [],
   "source": [
    "import pyarrow.parquet as pq\n",
    "import pandas as pd\n",
    "import os\n",
    "import duckdb\n",
    "os.chdir('D:/duckdb/files/Opencup/20230101')\n",
    "\n",
    "# some DuckDB setup \n",
    "con = duckdb.connect()\n",
    "# enable automatic query parallelization\n",
    "con.execute(\"PRAGMA threads=2\")\n",
    "# enable caching of parquet metadata\n",
    "con.execute(\"PRAGMA enable_object_cache\")\n",
    "\n",
    "opencup = con.execute(f'''select distinct(PIVA_CF_BENEFICIARIO) CF, DENO_IMPRESA_STABILIMENTO impresa\n",
    "from read_parquet('*.parquet') GROUP BY 1,2 order by 2''').df()\n",
    "\n",
    "opencup.insert(2,\"fonte\",\"opencup\") # insert column\n",
    "opencup['aggiornamento'] = pd.Timestamp('now').date() # insert column with today date\n",
    "\n",
    "# opencup = opencup.sort_values(by=['impresa'], inplace=True) # sort\n",
    "opencup = opencup[opencup.CF != '***************']\n",
    "# opencup.head()\n",
    "opencup.to_parquet('D:/duckdb/files/CF/opencup.parquet')"
   ]
  },
  {
   "cell_type": "markdown",
   "metadata": {},
   "source": [
    "#### OBIETTIVO A : creo un dataframe contenente codici fiscali univoci e relativo nome dell'impresa"
   ]
  },
  {
   "cell_type": "code",
   "execution_count": null,
   "metadata": {},
   "outputs": [],
   "source": [
    "opencupSUB = opencup.filter(['PIVA_CF_BENEFICIARIO','DENO_IMPRESA_STABILIMENTO'], axis=1) # nuovo dataframe con alcune colonne\n",
    "opencupSUB = opencupSUB.dropna()\n",
    "\n",
    "dict = {'PIVA_CF_BENEFICIARIO': 'CF', 'DENO_IMPRESA_STABILIMENTO': 'impresa'} # create a dictionary with old and new name\n",
    "opencupSUB.rename(columns=dict,inplace=True) # change column header\n",
    "opencupSUB['fonte'] = 'Opencup' # add column with standard value\n",
    "# opencupSUB['aggiornamento'] = '2023-02-24' \n",
    "# opencupSUB['aggiornamento'] = pd.to_datetime(opencupSUB['aggiornamento']) # object to date\n",
    "opencupSUB['aggiornamento'] = pd.Timestamp('now').date()\n",
    "opencupSUB = opencupSUB[opencupSUB['CF'] != '***************'] # rimuovo le righe che hanno un determinato valore\n",
    "\n",
    "# opencupSUB.to_csv('D:\\\\Opencup.csv', sep='\\t', index=False)\n",
    "opencupSUB.to_parquet('D:/duckdb/files/CF/Opencup.parquet')\n"
   ]
  },
  {
   "cell_type": "markdown",
   "metadata": {},
   "source": [
    "#### OBIETTIVO B : creo un dataframe con i CUP e i relativi beneficiari"
   ]
  },
  {
   "cell_type": "code",
   "execution_count": null,
   "metadata": {},
   "outputs": [],
   "source": [
    "opencupSUB = opencup.filter(['CUP', 'PIVA_CF_BENEFICIARIO','DENO_IMPRESA_STABILIMENTO'], axis=1) # nuovo dataframe con alcune colonne\n",
    "opencupSUB = opencupSUB.dropna()\n",
    "opencupSUB = opencupSUB[opencupSUB['PIVA_CF_BENEFICIARIO'] != '***************']\n",
    "dict = {'PIVA_CF_BENEFICIARIO': 'CF', 'DENO_IMPRESA_STABILIMENTO': 'impresa'} # create a dictionary with old and new name\n",
    "opencupSUB.rename(columns=dict,inplace=True) # change column header\n",
    "\n",
    "opencupSUB.to_csv('D:/duckdb/files/Opencup/CUP.csv', sep='\\t', index=False)"
   ]
  },
  {
   "cell_type": "code",
   "execution_count": null,
   "metadata": {},
   "outputs": [],
   "source": [
    "## prova 2"
   ]
  },
  {
   "cell_type": "code",
   "execution_count": null,
   "metadata": {},
   "outputs": [],
   "source": []
  }
 ],
 "metadata": {
  "kernelspec": {
   "display_name": "Python 3 (ipykernel)",
   "language": "python",
   "name": "python3"
  },
  "language_info": {
   "codemirror_mode": {
    "name": "ipython",
    "version": 3
   },
   "file_extension": ".py",
   "mimetype": "text/x-python",
   "name": "python",
   "nbconvert_exporter": "python",
   "pygments_lexer": "ipython3",
   "version": "3.11.4"
  },
  "vscode": {
   "interpreter": {
    "hash": "dab3a02a7bcb28cbd361f7aaa3a82a6b6f90eaa0d52dae4528875653e3725a9d"
   }
  }
 },
 "nbformat": 4,
 "nbformat_minor": 4
}
