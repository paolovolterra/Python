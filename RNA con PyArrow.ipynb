{
 "cells": [
  {
   "cell_type": "code",
   "execution_count": 4,
   "metadata": {},
   "outputs": [],
   "source": [
    "import os\n",
    "os.chdir('D:/duckdb/files/RNA2/')"
   ]
  },
  {
   "cell_type": "code",
   "execution_count": 5,
   "metadata": {},
   "outputs": [
    {
     "data": {
      "text/plain": [
       "<duckdb.DuckDBPyConnection at 0x194c43a0df0>"
      ]
     },
     "execution_count": 5,
     "metadata": {},
     "output_type": "execute_result"
    }
   ],
   "source": [
    "import pyarrow.parquet as pq\n",
    "import pandas as pd\n",
    "import glob\n",
    "import duckdb\n",
    "\n",
    "con = duckdb.connect()\n",
    "con.execute(\"PRAGMA threads=2\") # enable automatic query parallelization\n",
    "con.execute(\"PRAGMA enable_object_cache\") # enable caching of parquet metadata"
   ]
  },
  {
   "cell_type": "code",
   "execution_count": null,
   "metadata": {},
   "outputs": [],
   "source": [
    "%%time\n",
    "print(con.execute(\"SELECT COUNT(distinct(CF)) CF  FROM 'anno*.parquet'\").df())"
   ]
  },
  {
   "cell_type": "code",
   "execution_count": null,
   "metadata": {},
   "outputs": [],
   "source": [
    "con.execute(\"select year(concessione) anno,  count(distinct(CF)) imprese, count(cf) aiuti, round(sum(nominale)/1000000, 1) nominale_M€ \\\n",
    "                  FROM 'anno*.parquet' group by year(concessione) order by anno desc;\").df()"
   ]
  },
  {
   "cell_type": "code",
   "execution_count": null,
   "metadata": {},
   "outputs": [],
   "source": [
    "con.execute(\"select replace(concedente,'AGENZIE DELLE ENTRATE','AGENZIA DELLE ENTRATE') concedente, count(distinct(CF)) imprese, \\\n",
    "count(cf) aiuti, round(sum(nominale)/1000000,1) nominale_M€ \\\n",
    "                  FROM 'anno*.parquet' where year(concessione)=2023 group by 1 order by 2 desc limit 20;\").df()"
   ]
  },
  {
   "cell_type": "code",
   "execution_count": 7,
   "metadata": {},
   "outputs": [],
   "source": [
    "import polars as pl"
   ]
  },
  {
   "cell_type": "code",
   "execution_count": null,
   "metadata": {},
   "outputs": [],
   "source": [
    "%%time\n",
    "df = pl.read_parquet('anno*.parquet',)"
   ]
  },
  {
   "cell_type": "code",
   "execution_count": null,
   "metadata": {},
   "outputs": [],
   "source": [
    "df.shape"
   ]
  },
  {
   "cell_type": "code",
   "execution_count": null,
   "metadata": {},
   "outputs": [],
   "source": [
    "df['concedente'] = df['concedente'].str.replace(r'\"', '')"
   ]
  },
  {
   "cell_type": "code",
   "execution_count": null,
   "metadata": {},
   "outputs": [],
   "source": [
    "df['concedente'] = df['concedente'].str.replace('AGENZIA ENTRATE','AGENZIA DELLE ENTRATE')"
   ]
  },
  {
   "cell_type": "code",
   "execution_count": null,
   "metadata": {},
   "outputs": [],
   "source": [
    "df['concedente'] = df['concedente'].str.replace('AGENZIE DELLE ENTRATE','AGENZIA DELLE ENTRATE')"
   ]
  },
  {
   "cell_type": "raw",
   "metadata": {},
   "source": [
    "a = df['concedente'].drop_duplicates().sort_values()"
   ]
  },
  {
   "cell_type": "raw",
   "metadata": {},
   "source": [
    "a.to_csv('butta.csv',index=False)"
   ]
  },
  {
   "cell_type": "markdown",
   "metadata": {},
   "source": [
    "# filtrare il df"
   ]
  },
  {
   "cell_type": "code",
   "execution_count": null,
   "metadata": {},
   "outputs": [],
   "source": [
    "# MCC\n",
    "df = df[~(df.CAR.isin([\"12627\",\"15884\",\"16617\",\"16615\",\"18730\",\"526\",\"24646\",\"27308\",\"23546\"]))]"
   ]
  },
  {
   "cell_type": "code",
   "execution_count": null,
   "metadata": {},
   "outputs": [],
   "source": [
    "df = df[~(df.CAR.isin([\"19754\",\"15959\",\"20177\",\"884\",\"21788\",\"17496\",\"15880\",\"18857\",\"22941\",\"18945\"]))] # cancellata MCC"
   ]
  },
  {
   "cell_type": "code",
   "execution_count": null,
   "metadata": {},
   "outputs": [],
   "source": [
    "# AGENZIA DELLE ENTRATE\n",
    "df = df[~(df.CAR.isin([\"19754\",\"15959\",\"20177\",\"16100\",\"17046\",\"19795\",\"17065\",\"8152\",\"16348\",\"10373\",\"16372\",\"16088\",\"16274\"]))]"
   ]
  },
  {
   "cell_type": "code",
   "execution_count": null,
   "metadata": {},
   "outputs": [],
   "source": [
    "# INPS, INAIL\n",
    "df = df[~(df.CAR.isin([\"21788\",\"18857\",\"18945\",\"807\",\"18852\",\"6047\",\"22076\",\"10106\",\"12728\",\"6048\",\"1522\",\"22078\",\"18982\",\"18858\"]))]"
   ]
  },
  {
   "cell_type": "code",
   "execution_count": null,
   "metadata": {},
   "outputs": [],
   "source": [
    "# Formazione\n",
    "df = df[~(df.CAR.isin([\"884\"]))]"
   ]
  },
  {
   "cell_type": "code",
   "execution_count": null,
   "metadata": {},
   "outputs": [],
   "source": [
    "df.groupby([\"concedente\",\"CAR\"], as_index=False).agg(aiuti = (\"CF\", \"count\"))\\\n",
    "    .sort_values(by=\"aiuti\", ascending=False).head(40)"
   ]
  },
  {
   "cell_type": "markdown",
   "metadata": {},
   "source": [
    "# ricerca"
   ]
  },
  {
   "cell_type": "code",
   "execution_count": null,
   "metadata": {},
   "outputs": [],
   "source": [
    "df[df['CAR'] == '10106']"
   ]
  },
  {
   "cell_type": "code",
   "execution_count": null,
   "metadata": {},
   "outputs": [],
   "source": [
    "df[df['CF'] == '00594040586']"
   ]
  },
  {
   "cell_type": "code",
   "execution_count": null,
   "metadata": {},
   "outputs": [],
   "source": []
  },
  {
   "cell_type": "code",
   "execution_count": null,
   "metadata": {},
   "outputs": [],
   "source": []
  },
  {
   "cell_type": "markdown",
   "metadata": {},
   "source": [
    "# 3656 SME Initiative\n",
    "\n",
    "- https://www.mimit.gov.it/it/incentivi/pon-iniziativa-pmi\n"
   ]
  },
  {
   "cell_type": "code",
   "execution_count": null,
   "metadata": {},
   "outputs": [],
   "source": [
    "sme =(con.execute(\"SELECT year(concessione) anno, concedente, CF imprese,regione,nominale,aiuto FROM '*.parquet' where CAR = 3656 \").df())"
   ]
  },
  {
   "cell_type": "code",
   "execution_count": null,
   "metadata": {},
   "outputs": [],
   "source": [
    "dfp = sme.pivot_table('imprese', columns = 'concedente', index = 'anno', fill_value=0, aggfunc = 'count').astype(int)\n",
    "dfp1 = sme.pivot_table('imprese', columns = 'regione', index = 'concedente', fill_value=0, aggfunc = 'count',margins = True, margins_name = 'Total').astype(int)# \n",
    "dfp1"
   ]
  },
  {
   "cell_type": "code",
   "execution_count": null,
   "metadata": {},
   "outputs": [],
   "source": [
    "pd.options.display.float_format = '{:.0f}'.format\n",
    "sme.describe(include='all')"
   ]
  },
  {
   "cell_type": "code",
   "execution_count": null,
   "metadata": {},
   "outputs": [],
   "source": [
    "sme.groupby(['concedente','regione'])['imprese'].count()"
   ]
  },
  {
   "cell_type": "code",
   "execution_count": null,
   "metadata": {},
   "outputs": [],
   "source": [
    "sme.groupby(['regione','concedente']).count().unstack().plot(kind='bar',y='NOMINALE', stacked=True)"
   ]
  },
  {
   "cell_type": "code",
   "execution_count": null,
   "metadata": {},
   "outputs": [],
   "source": [
    "# plot the dataframe\n",
    "ax = dfp.plot(kind='barh', stacked=True, rot=1, figsize=(15, 7))\n",
    "\n",
    "# add labels\n",
    "for c in ax.containers:\n",
    "    ax.bar_label(c, label_type='center')\n",
    "_ = ax.bar_label(ax.containers[-1])"
   ]
  },
  {
   "cell_type": "code",
   "execution_count": null,
   "metadata": {},
   "outputs": [],
   "source": [
    "sme = (con.execute(\"SELECT * FROM '*.parquet' where CAR = 3656\").df())"
   ]
  },
  {
   "cell_type": "code",
   "execution_count": null,
   "metadata": {},
   "outputs": [],
   "source": [
    "sme.sort_values(by='concessione', ascending=False).head(20)"
   ]
  },
  {
   "cell_type": "markdown",
   "metadata": {},
   "source": [
    "# 24682 Supportitalia"
   ]
  },
  {
   "cell_type": "code",
   "execution_count": null,
   "metadata": {},
   "outputs": [],
   "source": [
    "df.describe(include='all')"
   ]
  },
  {
   "cell_type": "code",
   "execution_count": null,
   "metadata": {},
   "outputs": [],
   "source": [
    "Supportitalia = con.execute(\"select  * from '*.parquet' where car in (24682) \\\n",
    "and year(data_concessione) =2023 and month(data_concessione) > 0 order by 1;\").df() # "
   ]
  },
  {
   "cell_type": "markdown",
   "metadata": {},
   "source": [
    "# 19795 AdE - Credito d'imposta per investimenti nel Mezzogiorno\n",
    "\n",
    "- Credito d'imposta per investimenti nel Mezzogiorno, art.1,c.98-108, l. 208/2015, modif.art. 7-quater DL 243/2016, art.1 c.319, l. 160/2019 e art. 1 c. 171 l.178/2020, e nelle ZES art. 5,c. 2, DL 91/2017, conv. l. 123/2017, mod. art 1 c. 316 l. 160/2019\n",
    "- SA.61598\n",
    "- Legge 28 dicembre 2015, n. 208 (legge di Stabilità 2016)\n",
    "- agenzia delle entrate\n",
    "- https://www.gazzettaufficiale.it/eli/gu/2020/12/30/322/so/46/sg/pdf;  \n",
    "- https://www.agenziaentrate.gov.it/portale/web/guest/schede/agevolazioni/credito-di-imposta-per-gli-investimenti-nel-mezzogiorno/scheda-informativa-investimenti-mezzogiorno-2016\n"
   ]
  },
  {
   "cell_type": "code",
   "execution_count": null,
   "metadata": {},
   "outputs": [],
   "source": [
    "(con.execute(\"SELECT * FROM '*.parquet' where CAR = 19795\").df())"
   ]
  }
 ],
 "metadata": {
  "kernelspec": {
   "display_name": "Python 3 (ipykernel)",
   "language": "python",
   "name": "python3"
  },
  "language_info": {
   "codemirror_mode": {
    "name": "ipython",
    "version": 3
   },
   "file_extension": ".py",
   "mimetype": "text/x-python",
   "name": "python",
   "nbconvert_exporter": "python",
   "pygments_lexer": "ipython3",
   "version": "3.11.4"
  }
 },
 "nbformat": 4,
 "nbformat_minor": 4
}
