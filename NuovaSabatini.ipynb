{
 "cells": [
  {
   "cell_type": "markdown",
   "id": "47999c55-41af-4fbb-95c1-917456b327cf",
   "metadata": {},
   "source": [
    "# Nuova Sabatini"
   ]
  },
  {
   "cell_type": "code",
   "execution_count": 3,
   "id": "bda1dbfc-30ac-4b2e-92ec-eaedde593389",
   "metadata": {},
   "outputs": [],
   "source": [
    "import pyarrow.parquet as pq\n",
    "import pandas as pd\n",
    "import glob\n",
    "import duckdb\n",
    "import os\n",
    "os.chdir('D:/duckdb/files/RNA/aiuti/parquet/')\n",
    "con = duckdb.connect()\n",
    "con.execute(\"PRAGMA threads=2\") # enable automatic query parallelization\n",
    "con.execute(\"PRAGMA enable_object_cache\") # enable caching of parquet metadata\n",
    "pd.options.display.float_format = '{:.1f}'.format"
   ]
  },
  {
   "cell_type": "code",
   "execution_count": 4,
   "id": "98fc190a-daab-42a4-96f1-2dfb5ac3f256",
   "metadata": {},
   "outputs": [
    {
     "data": {
      "application/vnd.jupyter.widget-view+json": {
       "model_id": "5111280a06a84ea78af78003b8c9b944",
       "version_major": 2,
       "version_minor": 0
      },
      "text/plain": [
       "FloatProgress(value=0.0, layout=Layout(width='auto'), style=ProgressStyle(bar_color='black'))"
      ]
     },
     "metadata": {},
     "output_type": "display_data"
    }
   ],
   "source": [
    "pd.set_option('display.max_colwidth', 500)\n",
    "df = (con.execute(\"select CAR, left(titolo_misura,200) misura, count(distinct(codice_fiscale_beneficiario)) imprese, \\\n",
    " cast(sum(importo_nominale)/1000000 as decimal(10,0)) MEuro from '*.parquet' where  \\\n",
    " /*car not in ('15900','20608','22636') and*/ upper(titolo_misura) like '%SABATINI%' \\\n",
    "                  group by 1,2 order by 4 desc;\").df()) # year(data_concessione) = 2022  and"
   ]
  },
  {
   "cell_type": "code",
   "execution_count": 7,
   "id": "34cad452-1d95-4da0-8202-122949bc9c55",
   "metadata": {},
   "outputs": [],
   "source": [
    "df = (con.execute(\"select distinct(codice_fiscale_beneficiario) CF from '*.parquet' where CAR in (203);\").df())"
   ]
  },
  {
   "cell_type": "code",
   "execution_count": 9,
   "id": "8bed3d9e-e02d-4b8c-9b12-8c7c4b7f78d1",
   "metadata": {},
   "outputs": [],
   "source": [
    "from sqlalchemy import create_engine\n",
    "import sqlite3\n",
    "sqlite = create_engine('sqlite:///D:/NuovaSabatini.sqlite')"
   ]
  },
  {
   "cell_type": "code",
   "execution_count": 10,
   "id": "fb47ca2e-fd97-4c1b-be2e-67368b5878b6",
   "metadata": {},
   "outputs": [
    {
     "data": {
      "text/plain": [
       "84630"
      ]
     },
     "execution_count": 10,
     "metadata": {},
     "output_type": "execute_result"
    }
   ],
   "source": [
    "df.to_sql('IN', sqlite, if_exists='replace')"
   ]
  },
  {
   "cell_type": "code",
   "execution_count": null,
   "id": "5cd1dc3e-7449-4a85-89c5-42b60026e8b5",
   "metadata": {},
   "outputs": [],
   "source": []
  }
 ],
 "metadata": {
  "kernelspec": {
   "display_name": "Python 3 (ipykernel)",
   "language": "python",
   "name": "python3"
  },
  "language_info": {
   "codemirror_mode": {
    "name": "ipython",
    "version": 3
   },
   "file_extension": ".py",
   "mimetype": "text/x-python",
   "name": "python",
   "nbconvert_exporter": "python",
   "pygments_lexer": "ipython3",
   "version": "3.11.4"
  }
 },
 "nbformat": 4,
 "nbformat_minor": 5
}
