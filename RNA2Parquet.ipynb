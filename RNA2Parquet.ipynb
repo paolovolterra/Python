{
 "cells": [
  {
   "cell_type": "markdown",
   "id": "4fe6ef8d-ce0f-4368-b761-a4f2998f4379",
   "metadata": {},
   "source": [
    "# trasformare gli opendata di RNA in Parquet"
   ]
  },
  {
   "cell_type": "code",
   "execution_count": 1,
   "id": "5c629b3b",
   "metadata": {
    "tags": []
   },
   "outputs": [],
   "source": [
    "import pandas as pd\n",
    "import os\n",
    "import csv\n",
    "from datetime import datetime\n",
    "import dateutil.parser as parser\n",
    "import glob\n",
    "# Change the working directory and read the xml file\n",
    "os.chdir(\"D:/duckdb\")\n",
    "\n",
    "import lxml.etree as ET\n",
    "#using lxml instead of xml preserved the comments\n",
    "\n",
    "# pip install pyarrow"
   ]
  },
  {
   "cell_type": "code",
   "execution_count": 2,
   "id": "bd4a0e5a",
   "metadata": {
    "tags": []
   },
   "outputs": [
    {
     "name": "stdout",
     "output_type": "stream",
     "text": [
      "\"A7Soft xml2csv 5.33\" - xml to csv converter\n",
      "CPU times: total: 11.8 s\n",
      "Wall time: 1min 22s\n"
     ]
    }
   ],
   "source": [
    "%%time\n",
    "\n",
    "mese ='2023_12'\n",
    "file = 'OpenData_Aiuti_' + mese + '.xml'\n",
    "\n",
    "#adding the encoding when the file is opened and written is needed to avoid a charmap error\n",
    "with open('C:/Users/paolo/Downloads/'+file, encoding=\"utf8\") as f: # \n",
    "  tree = ET.parse(f)\n",
    "  root = tree.getroot()\n",
    "\n",
    "os.chdir('D:/duckdb')\n",
    "\n",
    "for elem in root.getiterator():\n",
    "    try:\n",
    "      #elem.text = elem.text.replace('&#2;', '')\n",
    "      elem.text = elem.text.replace('&#13;', '')\n",
    "      elem.text = elem.text.replace('&#16;', '')\n",
    "      elem.text = elem.text.replace('&#157;', '')\n",
    "      elem.text = elem.text.replace('|', '')\n",
    "      elem.text = elem.text.replace('\\n', '')\n",
    "      elem.text = elem.text.replace('URA>', 'URA')\n",
    "      elem.text = elem.text.replace('RIO>', 'RIO')\n",
    "    except AttributeError:\n",
    "      pass\n",
    "\n",
    "# https://stackoverflow.com/questions/37868881/how-to-search-and-replace-text-in-an-xml-file-using-python\n",
    "\n",
    "#tree.write('output.xml', encoding=\"utf8\")\n",
    "# Adding the xml_declaration and method helped keep the header info at the top of the file.\n",
    "tree.write(file, xml_declaration=True, method='xml', encoding=\"utf8\")\n",
    "\n",
    "# usare xml2csv su windows\n",
    "!xml2csv OpenData_Aiuti_2023_12.xml OpenData_Aiuti_2023_12.csv template.txt -D=\\#124  usare xml2csv su windows\n",
    "\n",
    "# convertire il csv in parquet\n",
    "file = 'OpenData_Aiuti_' + mese + '.csv'\n",
    "df = pd.read_csv(file, sep='|', encoding='latin1', on_bad_lines='skip', quoting=csv.QUOTE_NONE)\n",
    "df['DATA_CONCESSIONE'] = df['DATA_CONCESSIONE'].str[:10]\n",
    "df['DATA_CONCESSIONE']= pd.to_datetime(df['DATA_CONCESSIONE'])\n",
    "\n",
    "# df.to_csv('RNA'+mese+'.csv', sep='|')\n",
    "\n",
    "df.to_parquet('D:/duckdb/files/RNA/aiuti/parquet/'+'RNA' + mese + '.parquet')"
   ]
  },
  {
   "cell_type": "markdown",
   "id": "a6b28590",
   "metadata": {},
   "source": [
    "## 4) inserire il parquet nel DB\n",
    "\n",
    "vedi anche FDG2Parquet"
   ]
  },
  {
   "cell_type": "code",
   "execution_count": null,
   "id": "05bfde77-15ce-4b72-b474-b308ea0d99da",
   "metadata": {
    "tags": []
   },
   "outputs": [],
   "source": [
    "import duckdb\n",
    "os.chdir('D:/duckdb')\n",
    "conn = duckdb.connect('rna.duckdb')"
   ]
  },
  {
   "cell_type": "code",
   "execution_count": null,
   "id": "0389f07a",
   "metadata": {
    "tags": []
   },
   "outputs": [],
   "source": [
    "conn.execute(f'''select count(*) from rna;''').df()"
   ]
  },
  {
   "cell_type": "code",
   "execution_count": null,
   "id": "9168d8af",
   "metadata": {
    "scrolled": true,
    "tags": []
   },
   "outputs": [],
   "source": [
    "conn.execute(f'''select year(data_concessione) anno ,  month(data_concessione) mese, \n",
    "count(*) aiuti from RNA group by year(data_concessione), month(data_concessione) order by anno desc, mese desc;''').df()"
   ]
  },
  {
   "cell_type": "code",
   "execution_count": null,
   "id": "b4e5439e",
   "metadata": {
    "tags": []
   },
   "outputs": [],
   "source": [
    "conn.execute(f'''\n",
    "DELETE FROM rna WHERE year(data_concessione) = 2023 and month(data_concessione) = 11; \n",
    "''').df()"
   ]
  },
  {
   "cell_type": "code",
   "execution_count": null,
   "id": "38f1041e",
   "metadata": {
    "tags": []
   },
   "outputs": [],
   "source": [
    "conn.execute(f''' ;\n",
    "INSERT INTO RNA SELECT * FROM read_parquet('D:\\\\duckdb\\\\files\\\\RNA\\\\aiuti\\\\parquet\\\\RNA2023_11.parquet');\n",
    "''').df()"
   ]
  },
  {
   "cell_type": "markdown",
   "id": "5dbac0b8",
   "metadata": {},
   "source": [
    "## cancellare tutte le linee del FdG"
   ]
  },
  {
   "cell_type": "code",
   "execution_count": null,
   "id": "01cde86f",
   "metadata": {},
   "outputs": [],
   "source": [
    "conn.execute(f'''\n",
    "DELETE FROM rna WHERE CAR in (24793,23546,24646,526,16615,18730,16617,15884,12627,27308,16617);\n",
    "''').df()"
   ]
  },
  {
   "cell_type": "markdown",
   "id": "1eb6289f",
   "metadata": {},
   "source": [
    "# lanciare lo script opendata.ipynb"
   ]
  },
  {
   "cell_type": "markdown",
   "id": "d28791f1",
   "metadata": {},
   "source": [
    "## Queries varie sui CAR"
   ]
  },
  {
   "cell_type": "markdown",
   "id": "b98b63f8",
   "metadata": {},
   "source": [
    "## 5) interrogare i parquet ( e non il DB)"
   ]
  },
  {
   "cell_type": "code",
   "execution_count": null,
   "id": "d0b01f33",
   "metadata": {
    "tags": []
   },
   "outputs": [],
   "source": [
    "import duckdb\n",
    "conn = duckdb.connect(\"RNA.duckdb\") # ,read_only=False"
   ]
  },
  {
   "cell_type": "code",
   "execution_count": null,
   "id": "c8ed5208",
   "metadata": {},
   "outputs": [],
   "source": [
    "conn.execute(f'''\n",
    "select month(data_concessione) mese,\n",
    "count(CAR) filter(where year(data_concessione)=2018) \"2018\",\n",
    "count(CAR) filter(where year(data_concessione)=2019) \"2019\",\n",
    "count(CAR) filter(where year(data_concessione)=2020) \"2020\",\n",
    "count(CAR) filter(where year(data_concessione)=2021) \"2021\",\n",
    "count(CAR) filter(where year(data_concessione)=2022) \"2022\",\n",
    "count(CAR) filter(where year(data_concessione)=2023) \"2023\" \n",
    "from \n",
    "(select *, extract(month from data_concessione) mese, extract(year from data_concessione) anno \n",
    "from read_parquet('D:/Duckdb/files/RNA/aiuti/parquet/*.parquet')) aiuti \n",
    "group by month(data_concessione);''').df()"
   ]
  },
  {
   "cell_type": "code",
   "execution_count": null,
   "id": "3a2a73b2",
   "metadata": {},
   "outputs": [],
   "source": [
    "aiuti = conn.execute(f'''select CAR, trim(TITOLO_MISURA) misura, max(DATA_CONCESSIONE) recente, \n",
    "count(distinct(CODICE_FISCALE_BENEFICIARIO)) imprese \n",
    "from read_parquet('D:/Duckdb/files/RNA/aiuti/parquet/*.parquet')\n",
    "group by 1,2\n",
    "order by 3 desc''').df()\n",
    "\n",
    "aiuti.tail(50)"
   ]
  },
  {
   "cell_type": "code",
   "execution_count": null,
   "id": "dd5e6ce6",
   "metadata": {
    "tags": []
   },
   "outputs": [],
   "source": [
    "agevolazioni = conn.execute(f'''select CODICE_FISCALE_BENEFICIARIO impresa , count(distinct(CAR)) agevolazioni,count((CAR)), sum(ELEMENTO_DI_AIUTO) from read_parquet('D:/Duckdb/files/RNA/aiuti/parquet/*.parquet')\n",
    "group by 1\n",
    "order by 2 desc\n",
    "limit 20''').df()\n",
    "\n",
    "agevolazioni"
   ]
  },
  {
   "cell_type": "code",
   "execution_count": null,
   "id": "9538a952",
   "metadata": {
    "tags": []
   },
   "outputs": [],
   "source": [
    "impresaX = conn.execute(f'''select \n",
    "left (SOGGETTO_CONCEDENTE,50) concedente,trim(left((TITOLO_MISURA),30)) misura ,year(DATA_CONCESSIONE) anno,\n",
    "IMPORTO_NOMINALE\n",
    " from read_parquet('D:/Duckdb/files/RNA/aiuti/parquet/*.parquet') \n",
    " where CODICE_FISCALE_BENEFICIARIO = '11587171007' \n",
    " order by DATA_CONCESSIONE desc;''').df()\n",
    "print(impresaX.to_markdown(index=False))"
   ]
  },
  {
   "cell_type": "code",
   "execution_count": null,
   "id": "119ac917",
   "metadata": {},
   "outputs": [],
   "source": [
    "print(df.to_markdown(index=False)) # print(df.head(10).to_markdown(index=False))"
   ]
  },
  {
   "cell_type": "markdown",
   "id": "a0f383b2",
   "metadata": {},
   "source": [
    "## analisi con PyArrow"
   ]
  },
  {
   "cell_type": "code",
   "execution_count": null,
   "id": "e3470376",
   "metadata": {
    "tags": []
   },
   "outputs": [],
   "source": [
    "import pyarrow.parquet as pq\n",
    "import pandas as pd\n",
    "import glob\n",
    "import duckdb\n",
    "import os\n",
    "os.chdir('D:/duckdb/files/RNA/aiuti/parquet/')\n",
    " \n",
    "con = duckdb.connect()\n",
    "con.execute(\"PRAGMA threads=2\") # enable automatic query parallelization\n",
    "con.execute(\"PRAGMA enable_object_cache\") # enable caching of parquet metadata"
   ]
  },
  {
   "cell_type": "code",
   "execution_count": null,
   "id": "ec050aff",
   "metadata": {
    "tags": []
   },
   "outputs": [],
   "source": [
    "%%time\n",
    "print(con.execute(\"SELECT COUNT(*) FROM 'RNA*.parquet'\").df())"
   ]
  },
  {
   "cell_type": "code",
   "execution_count": null,
   "id": "0df73309",
   "metadata": {
    "tags": []
   },
   "outputs": [],
   "source": [
    "print(con.execute(\"select year(data_concessione) anno, month(data_concessione) mese, day(data_concessione) giorno, \\\n",
    "                  count(*) aiuti FROM '*.parquet' \\\n",
    "                  where year(data_concessione) =2023  and month(data_concessione) =11 \\\n",
    "                  group by year(data_concessione), month(data_concessione), day (data_concessione) \\\n",
    "                  order by anno desc, mese desc, giorno desc;\").df())"
   ]
  },
  {
   "cell_type": "markdown",
   "id": "5c46ff87",
   "metadata": {},
   "source": [
    "## verifica su codici fiscali"
   ]
  },
  {
   "cell_type": "code",
   "execution_count": null,
   "id": "01eeaba3",
   "metadata": {},
   "outputs": [],
   "source": [
    "(con.execute(\"select titolo_misura misura, SOGGETTO_CONCEDENTE concedente,\\\n",
    "DATA_CONCESSIONE concessione,DENOMINAZIONE_BENEFICIARIO impresa ,IMPORTO_NOMINALE FROM '*.parquet' \\\n",
    "where CODICE_FISCALE_BENEFICIARIO in ('01952970513')\\\n",
    "order by 4;\").df())"
   ]
  },
  {
   "cell_type": "code",
   "execution_count": null,
   "id": "b9a3b7a8",
   "metadata": {},
   "outputs": [],
   "source": [
    "df.to_csv('D:/GruppoMoretti.csv', sep='\\t')"
   ]
  },
  {
   "cell_type": "markdown",
   "id": "55281ab0",
   "metadata": {},
   "source": [
    "## Nuova Sabatini"
   ]
  },
  {
   "cell_type": "code",
   "execution_count": null,
   "id": "bfb5c720",
   "metadata": {
    "tags": []
   },
   "outputs": [],
   "source": [
    "df =(con.execute(\"SELECT year(data_concessione) anno, month(data_concessione) mese, count(distinct(CODICE_FISCALE_BENEFICIARIO)) imprese, \\\n",
    "cast(sum(importo_nominale)/1000000 as decimal(10,0)) tot_M€ FROM '*.parquet' where CAR = 203 group by 1,2 order by 1 desc,2 desc\").df())\n",
    "\n",
    "df"
   ]
  },
  {
   "cell_type": "code",
   "execution_count": null,
   "id": "300230ac",
   "metadata": {
    "tags": []
   },
   "outputs": [],
   "source": [
    "df.pivot_table( ['anno','mese'], index =['imprese','tot_M€'], fill_value=0)"
   ]
  },
  {
   "cell_type": "code",
   "execution_count": null,
   "id": "be79b6f9",
   "metadata": {
    "tags": []
   },
   "outputs": [],
   "source": [
    "df =(con.execute(\"SELECT data_concessione delibera, codice_fiscale_beneficiario CF, denominazione_beneficiario impresa, \\\n",
    "importo_nominale finanziamento, elemento_di_aiuto aiuto  FROM '*.parquet' where CAR = 203 and finanziamento > 0 order by finanziamento desc;\").df())\n",
    "\n",
    "df.to_csv('D:/NuovaSabatini.csv', index = False)"
   ]
  },
  {
   "cell_type": "markdown",
   "id": "9e3738ca",
   "metadata": {},
   "source": [
    "## SME Initiative 3656"
   ]
  },
  {
   "cell_type": "code",
   "execution_count": null,
   "id": "1f2b196b",
   "metadata": {
    "tags": []
   },
   "outputs": [],
   "source": [
    "pd.options.display.float_format = '{:.0f}'.format #suppress scientific notation\n",
    "df = (con.execute(\"SELECT year(data_concessione) anno, soggetto_concedente banca, \\\n",
    "count(distinct(CODICE_FISCALE_BENEFICIARIO)) imprese, \\\n",
    "sum(importo_nominale)/1000000 importo_M€ \\\n",
    "FROM '*.parquet' where CAR = 3656 group by 1,2 order by 1 desc, 2\").df())\n",
    "df"
   ]
  },
  {
   "cell_type": "code",
   "execution_count": null,
   "id": "94cf55aa",
   "metadata": {},
   "outputs": [],
   "source": [
    "df =(con.execute(\"SELECT year(data_concessione) anno, soggetto_concedente banca, \\\n",
    "count(distinct(CODICE_FISCALE_BENEFICIARIO)) imprese, \\\n",
    "sum(importo_nominale)/1000000 importo \\\n",
    "FROM '*.parquet' where CAR = 3656 group by 1,2 order by 1 desc, 2\").df())\n"
   ]
  },
  {
   "cell_type": "code",
   "execution_count": null,
   "id": "b4f00a9a",
   "metadata": {},
   "outputs": [],
   "source": [
    "pd.pivot_table( df, columns =['anno'], index ='banca', fill_value=0,  \n",
    "               aggfunc={'imprese':'sum', 'importo':'sum'},margins=True).round(0)"
   ]
  },
  {
   "cell_type": "code",
   "execution_count": null,
   "id": "a6e38427",
   "metadata": {},
   "outputs": [],
   "source": [
    "df= (con.execute(\"SELECT year(data_concessione) anno, soggetto_concedente banca, denominazione_beneficiario impresa, \\\n",
    "                 importo_nominale importo FROM '*.parquet' where CAR = 3656\").df())\n",
    "df"
   ]
  },
  {
   "cell_type": "code",
   "execution_count": null,
   "id": "d9faae2e",
   "metadata": {
    "tags": []
   },
   "outputs": [],
   "source": [
    "print(con.execute(\"SELECT * FROM '*.parquet' limit 2\").df())"
   ]
  },
  {
   "cell_type": "code",
   "execution_count": null,
   "id": "cce2051a",
   "metadata": {
    "tags": []
   },
   "outputs": [],
   "source": [
    "\n",
    "pd.set_option('display.max_column', None)"
   ]
  },
  {
   "cell_type": "code",
   "execution_count": null,
   "id": "8cd6d2d7",
   "metadata": {},
   "outputs": [],
   "source": [
    "con.execute(\"select distinct(denominazione_beneficiario) impresa, importo_nominale/1000 from '*.parquet'\\\n",
    "where car in (24682) and year(data_concessione) =2023 and month(data_concessione) = 2 order by 2 desc;\").df()"
   ]
  },
  {
   "cell_type": "code",
   "execution_count": null,
   "id": "df5d4266",
   "metadata": {},
   "outputs": [],
   "source": [
    "con.execute(\"select count(denominazione_beneficiario), sum(importo_nominale/1000) from '*.parquet' \\\n",
    "where car in (24682) and year(data_concessione) =2023 and month(data_concessione) = 2\").df()"
   ]
  },
  {
   "cell_type": "markdown",
   "id": "081222da-1fc5-4e7a-b283-039e313e2373",
   "metadata": {},
   "source": [
    "## Finlombarda"
   ]
  },
  {
   "cell_type": "code",
   "execution_count": null,
   "id": "8a77c917-9ade-46a8-a7a7-6444181d1612",
   "metadata": {},
   "outputs": [],
   "source": [
    "df = (con.execute(\"select left(trim(titolo_misura),50) AdS , count(distinct(codice_fiscale_beneficiario)) imprese \\\n",
    "from  '*.parquet'  where upper(soggetto_concedente) like upper('%Finlombarda%') group by 1\").df())\n",
    "print(df.to_markdown())"
   ]
  },
  {
   "cell_type": "markdown",
   "id": "3efee585",
   "metadata": {},
   "source": [
    "## ISMEA"
   ]
  },
  {
   "cell_type": "code",
   "execution_count": null,
   "id": "1ce9dc9b",
   "metadata": {},
   "outputs": [],
   "source": [
    "df = (con.execute(\"select (trim(titolo_misura)) AdS , count(distinct(codice_fiscale_beneficiario)) imprese \\\n",
    "from  '*.parquet'  where upper(soggetto_concedente) like upper('%ISMEA%') group by 1\").df())\n",
    "print(df)"
   ]
  },
  {
   "cell_type": "code",
   "execution_count": null,
   "id": "dc6522d0",
   "metadata": {},
   "outputs": [],
   "source": [
    "Ismea = (con.execute(\"select * from  '*.parquet'  where upper(soggetto_concedente) like upper('%ISMEA%') and year(data_concessione)=2023\").df())"
   ]
  },
  {
   "cell_type": "code",
   "execution_count": null,
   "id": "8790c1cd",
   "metadata": {},
   "outputs": [],
   "source": [
    "Rna_Ismea_CF = (con.execute(\"select distinct(codice_fiscale_beneficiario) CF \\\n",
    "from  '*.parquet'  where upper(soggetto_concedente) like upper('%ISMEA%');\").df())"
   ]
  },
  {
   "cell_type": "code",
   "execution_count": null,
   "id": "c9ab9242",
   "metadata": {},
   "outputs": [],
   "source": [
    "Rna_Ismea_CF.count()"
   ]
  },
  {
   "cell_type": "code",
   "execution_count": null,
   "id": "db634233",
   "metadata": {},
   "outputs": [],
   "source": [
    "Rna_Ismea_CF.to_csv('D:/Rna_Ismea_CF.csv', index=False)"
   ]
  },
  {
   "cell_type": "code",
   "execution_count": null,
   "id": "b63f21e4",
   "metadata": {},
   "outputs": [],
   "source": [
    "Ismea.to_csv('D:/Ismea.csv', index=False)\n"
   ]
  },
  {
   "cell_type": "markdown",
   "id": "24bcdf28",
   "metadata": {},
   "source": [
    "## [Fondo di Garanzia](https://www.fondidigaranzia.it/)\n",
    "\n",
    "![](data:image/jpeg;base64,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)"
   ]
  },
  {
   "cell_type": "code",
   "execution_count": null,
   "id": "c724b683-a955-42d8-adb6-6a03900501ad",
   "metadata": {
    "tags": []
   },
   "outputs": [],
   "source": [
    "pd.set_option('display.max_rows', None)\n",
    "df =(con.execute(\"select CAR, titolo_misura,soggetto_concedente from  '*.parquet'  where upper(soggetto_concedente) like upper('%banca del mezzogiorno%') group by 1,2,3\").df())\n",
    "\n",
    "df"
   ]
  },
  {
   "cell_type": "markdown",
   "id": "2572038e",
   "metadata": {},
   "source": [
    "## M2C1"
   ]
  },
  {
   "cell_type": "code",
   "execution_count": null,
   "id": "b7b2a30d",
   "metadata": {},
   "outputs": [],
   "source": [
    "df = con.execute(\"select CAR, TITOLO_MISURA misura, SOGGETTO_CONCEDENTE concedente, \\\n",
    "DENOMINAZIONE_BENEFICIARIO impresa, codice_fiscale_beneficiario CF,IMPORTO_NOMINALE nominale from  '*.parquet'  where upper(titolo_misura) like '%M2C1%'\").df()\n"
   ]
  },
  {
   "cell_type": "code",
   "execution_count": null,
   "id": "acd3aac4",
   "metadata": {},
   "outputs": [],
   "source": [
    "df.to_sql('m2c1', engine, if_exists=\"replace\", index=False)"
   ]
  },
  {
   "cell_type": "code",
   "execution_count": null,
   "id": "1fac288c",
   "metadata": {},
   "outputs": [],
   "source": [
    "df.to_csv('D:/M2C1.csv', index=None, sep='|')"
   ]
  },
  {
   "cell_type": "markdown",
   "id": "6f6728d7",
   "metadata": {},
   "source": [
    "## [Bravo Innovation Hub](https://www.invitalia.it/come-funzionano-gli-incentivi/i-nostri-servizi/bravo-innovation-hub)\n",
    "![](https://cdn.startupitalia.eu/wp-content/uploads/2020/09/28162534/Bravo-Innovation-Hub.jpg)\n",
    "#Invitalia\n"
   ]
  },
  {
   "cell_type": "code",
   "execution_count": null,
   "id": "c67ef53c",
   "metadata": {},
   "outputs": [],
   "source": [
    "df = con.execute(\"select * from '*.parquet'where car in (15968, 18903);\").df()"
   ]
  },
  {
   "cell_type": "code",
   "execution_count": null,
   "id": "cbbd7bec",
   "metadata": {},
   "outputs": [],
   "source": [
    "df.info()"
   ]
  },
  {
   "cell_type": "code",
   "execution_count": null,
   "id": "d7478d50",
   "metadata": {},
   "outputs": [],
   "source": [
    "CF_Bravo = df['CODICE_FISCALE_BENEFICIARIO'].unique()\n",
    "pd.DataFrame(CF_Bravo).to_csv('D:/CF_Bravo.csv', index = False, header  = ['CF']) "
   ]
  },
  {
   "cell_type": "code",
   "execution_count": null,
   "id": "84b3531b",
   "metadata": {},
   "outputs": [],
   "source": [
    "df[['CAR','TITOLO_MISURA','DATA_CONCESSIONE','DENOMINAZIONE_BENEFICIARIO','IMPORTO_NOMINALE']].to_csv('D:/BravoInnovationHUB.csv', index=None, sep='|')"
   ]
  },
  {
   "cell_type": "markdown",
   "id": "c9387b71",
   "metadata": {},
   "source": [
    "### backup"
   ]
  },
  {
   "cell_type": "markdown",
   "id": "a7b2761a",
   "metadata": {},
   "source": [
    "#### creare il DB"
   ]
  },
  {
   "cell_type": "code",
   "execution_count": null,
   "id": "9ef2bc17",
   "metadata": {},
   "outputs": [],
   "source": [
    "import duckdb\n",
    "import os\n",
    "os.chdir('D:/')\n",
    "conn = duckdb.connect(database='Opendata.duckdb', read_only=False)\n",
    "conn.execute(f'''CREATE TABLE rna AS SELECT * FROM read_parquet('D:/duckdb/files/RNA/aiuti/parquet/*.parquet');''').df()"
   ]
  },
  {
   "cell_type": "code",
   "execution_count": null,
   "id": "3bd6b976-c9dc-410e-b1fc-6f84bc8b1136",
   "metadata": {},
   "outputs": [],
   "source": []
  }
 ],
 "metadata": {
  "kernelspec": {
   "display_name": "Python 3 (ipykernel)",
   "language": "python",
   "name": "python3"
  },
  "language_info": {
   "codemirror_mode": {
    "name": "ipython",
    "version": 3
   },
   "file_extension": ".py",
   "mimetype": "text/x-python",
   "name": "python",
   "nbconvert_exporter": "python",
   "pygments_lexer": "ipython3",
   "version": "3.10.11"
  },
  "vscode": {
   "interpreter": {
    "hash": "dab3a02a7bcb28cbd361f7aaa3a82a6b6f90eaa0d52dae4528875653e3725a9d"
   }
  }
 },
 "nbformat": 4,
 "nbformat_minor": 5
}
