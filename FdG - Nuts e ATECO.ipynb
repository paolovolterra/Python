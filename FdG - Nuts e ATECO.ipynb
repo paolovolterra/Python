{
 "cells": [
  {
   "cell_type": "markdown",
   "id": "27adb078",
   "metadata": {},
   "source": [
    "# FdG - Nuts e ATECO"
   ]
  },
  {
   "cell_type": "code",
   "execution_count": 1,
   "id": "9337b32a",
   "metadata": {},
   "outputs": [
    {
     "data": {
      "text/plain": [
       "<duckdb.DuckDBPyConnection at 0x1bd557bd030>"
      ]
     },
     "execution_count": 1,
     "metadata": {},
     "output_type": "execute_result"
    }
   ],
   "source": [
    "import pyarrow.parquet as pq\n",
    "import pandas as pd\n",
    "import glob\n",
    "import duckdb\n",
    "import os\n",
    "os.chdir('D:/duckdb')\n",
    " \n",
    "con = duckdb.connect()\n",
    "con.execute(\"PRAGMA threads=2\") # enable automatic query parallelization\n",
    "con.execute(\"PRAGMA enable_object_cache\") # enable caching of parquet metadata"
   ]
  },
  {
   "cell_type": "code",
   "execution_count": 2,
   "id": "1bfdbf09",
   "metadata": {},
   "outputs": [
    {
     "name": "stdout",
     "output_type": "stream",
     "text": [
      "CPU times: total: 12.1 s\n",
      "Wall time: 14.9 s\n"
     ]
    }
   ],
   "source": [
    "%%time\n",
    "temp = con.execute(\"SELECT * FROM 'D:/duckdb/files/FdG/*.parquet'\").df()\n",
    "temp = temp.applymap(lambda s: s.upper() if type(s) == str else s)"
   ]
  },
  {
   "cell_type": "code",
   "execution_count": 10,
   "id": "9d01224b",
   "metadata": {},
   "outputs": [],
   "source": [
    "temp = con.execute(\"SELECT ATECO FROM 'D:/duckdb/files/FdG/*.parquet' where length(ATECO)= 6 group by 1 order by 1\").df()\n",
    "temp.to_csv('D:/Fdg_ATECO.csv', sep='|')"
   ]
  },
  {
   "cell_type": "code",
   "execution_count": 11,
   "id": "88a32790",
   "metadata": {},
   "outputs": [],
   "source": [
    "temp = con.execute(\"SELECT comune FROM 'D:/duckdb/files/FdG/*.parquet' group by 1 order by 1\").df()\n",
    "temp.to_csv('D:/Fdg_comuni.csv', sep='|')"
   ]
  },
  {
   "cell_type": "code",
   "execution_count": 12,
   "id": "4a902044",
   "metadata": {},
   "outputs": [],
   "source": [
    "temp = con.execute(\"SELECT PROV FROM 'D:/duckdb/files/FdG/*.parquet' group by 1 order by 1\").df()\n",
    "temp.to_csv('D:/Fdg_PROV.csv', sep='|')"
   ]
  },
  {
   "cell_type": "code",
   "execution_count": null,
   "id": "5c593122",
   "metadata": {},
   "outputs": [],
   "source": []
  },
  {
   "cell_type": "code",
   "execution_count": 5,
   "id": "11dd9f9d",
   "metadata": {},
   "outputs": [
    {
     "data": {
      "text/plain": [
       "(1690, 1)"
      ]
     },
     "execution_count": 5,
     "metadata": {},
     "output_type": "execute_result"
    }
   ],
   "source": [
    "temp.shape"
   ]
  }
 ],
 "metadata": {
  "kernelspec": {
   "display_name": "Python 3 (ipykernel)",
   "language": "python",
   "name": "python3"
  },
  "language_info": {
   "codemirror_mode": {
    "name": "ipython",
    "version": 3
   },
   "file_extension": ".py",
   "mimetype": "text/x-python",
   "name": "python",
   "nbconvert_exporter": "python",
   "pygments_lexer": "ipython3",
   "version": "3.11.4"
  }
 },
 "nbformat": 4,
 "nbformat_minor": 5
}
