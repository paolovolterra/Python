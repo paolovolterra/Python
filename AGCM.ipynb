{
 "cells": [
  {
   "cell_type": "markdown",
   "id": "c76d9fda",
   "metadata": {},
   "source": [
    "# AGCM"
   ]
  },
  {
   "cell_type": "code",
   "execution_count": 81,
   "id": "f1e31849",
   "metadata": {},
   "outputs": [],
   "source": [
    "import glob \n",
    "import pandas as pd \n",
    "  \n",
    "# specifying the path to csv files \n",
    "path = \"D:/files/csv/AGCM\"\n",
    "  \n",
    "# csv files in the path \n",
    "files = glob.glob(path + \"/*.csv\") \n",
    "  \n",
    "# defining an empty list to store  \n",
    "# content \n",
    "data_frame = pd.DataFrame() \n",
    "content = [] \n",
    "  \n",
    "# checking all the csv files in the  \n",
    "# specified path \n",
    "for filename in files: \n",
    "    \n",
    "    # reading content of csv file \n",
    "    # content.append(filename) \n",
    "    df = pd.read_csv(filename, index_col=None, sep='\\t') \n",
    "    content.append(df) \n",
    "  \n",
    "# converting content to data frame \n",
    "data_frame = pd.concat(content) \n"
   ]
  },
  {
   "cell_type": "code",
   "execution_count": 82,
   "id": "37bf2068",
   "metadata": {},
   "outputs": [
    {
     "data": {
      "text/plain": [
       "Index(['Procedimento', 'Codice fiscale', 'Sede Legale', 'Società',\n",
       "       'Data Decisione', 'Esito', 'Rating',\n",
       "       'Scadenza  Revoca Annullamento Sospensione'],\n",
       "      dtype='object')"
      ]
     },
     "execution_count": 82,
     "metadata": {},
     "output_type": "execute_result"
    }
   ],
   "source": [
    "data_frame.columns"
   ]
  },
  {
   "cell_type": "raw",
   "id": "7969ca68",
   "metadata": {},
   "source": [
    "data_frame = data_frame.drop_duplicates()"
   ]
  },
  {
   "cell_type": "code",
   "execution_count": 83,
   "id": "914ec4f2",
   "metadata": {},
   "outputs": [],
   "source": [
    "data_frame['Scadenza  Revoca Annullamento Sospensione'] = data_frame['Scadenza  Revoca Annullamento Sospensione'].str.replace(r'(*)', '')       "
   ]
  },
  {
   "cell_type": "code",
   "execution_count": 84,
   "id": "2c963ad9",
   "metadata": {},
   "outputs": [],
   "source": [
    "data_frame['Scadenza  Revoca Annullamento Sospensione'] = \\\n",
    "pd.to_datetime(data_frame['Scadenza  Revoca Annullamento Sospensione'],dayfirst=True)"
   ]
  },
  {
   "cell_type": "code",
   "execution_count": 85,
   "id": "4153eb0b",
   "metadata": {},
   "outputs": [],
   "source": [
    "data_frame['Data Decisione'] = \\\n",
    "pd.to_datetime(data_frame['Data Decisione'],dayfirst=True)"
   ]
  },
  {
   "cell_type": "code",
   "execution_count": 86,
   "id": "48f6e1ca",
   "metadata": {},
   "outputs": [],
   "source": [
    "sorted_df = \\\n",
    "data_frame.sort_values(['Procedimento','Scadenza  Revoca Annullamento Sospensione'], ascending =[True,False])"
   ]
  },
  {
   "cell_type": "code",
   "execution_count": 87,
   "id": "39a52579",
   "metadata": {},
   "outputs": [
    {
     "name": "stdout",
     "output_type": "stream",
     "text": [
      "<class 'pandas.core.frame.DataFrame'>\n",
      "Index: 56771 entries, 0 to 11793\n",
      "Data columns (total 8 columns):\n",
      " #   Column                                     Non-Null Count  Dtype         \n",
      "---  ------                                     --------------  -----         \n",
      " 0   Procedimento                               56771 non-null  object        \n",
      " 1   Codice fiscale                             56771 non-null  object        \n",
      " 2   Sede Legale                                56766 non-null  object        \n",
      " 3   Società                                    56771 non-null  object        \n",
      " 4   Data Decisione                             56771 non-null  datetime64[ns]\n",
      " 5   Esito                                      56771 non-null  object        \n",
      " 6   Rating                                     56557 non-null  object        \n",
      " 7   Scadenza  Revoca Annullamento Sospensione  55650 non-null  datetime64[ns]\n",
      "dtypes: datetime64[ns](2), object(6)\n",
      "memory usage: 3.9+ MB\n"
     ]
    }
   ],
   "source": [
    "data_frame.info()"
   ]
  },
  {
   "cell_type": "code",
   "execution_count": 88,
   "id": "0cacbcd8",
   "metadata": {},
   "outputs": [
    {
     "data": {
      "text/html": [
       "<div>\n",
       "<style scoped>\n",
       "    .dataframe tbody tr th:only-of-type {\n",
       "        vertical-align: middle;\n",
       "    }\n",
       "\n",
       "    .dataframe tbody tr th {\n",
       "        vertical-align: top;\n",
       "    }\n",
       "\n",
       "    .dataframe thead th {\n",
       "        text-align: right;\n",
       "    }\n",
       "</style>\n",
       "<table border=\"1\" class=\"dataframe\">\n",
       "  <thead>\n",
       "    <tr style=\"text-align: right;\">\n",
       "      <th></th>\n",
       "      <th>Procedimento</th>\n",
       "      <th>Codice fiscale</th>\n",
       "      <th>Sede Legale</th>\n",
       "      <th>Società</th>\n",
       "      <th>Data Decisione</th>\n",
       "      <th>Esito</th>\n",
       "      <th>Rating</th>\n",
       "      <th>Scadenza  Revoca Annullamento Sospensione</th>\n",
       "    </tr>\n",
       "  </thead>\n",
       "  <tbody>\n",
       "    <tr>\n",
       "      <th>count</th>\n",
       "      <td>56771</td>\n",
       "      <td>56771</td>\n",
       "      <td>56766</td>\n",
       "      <td>56771</td>\n",
       "      <td>56771</td>\n",
       "      <td>56771</td>\n",
       "      <td>56557</td>\n",
       "      <td>55650</td>\n",
       "    </tr>\n",
       "    <tr>\n",
       "      <th>unique</th>\n",
       "      <td>17275</td>\n",
       "      <td>16635</td>\n",
       "      <td>3181</td>\n",
       "      <td>16926</td>\n",
       "      <td>NaN</td>\n",
       "      <td>6</td>\n",
       "      <td>7</td>\n",
       "      <td>NaN</td>\n",
       "    </tr>\n",
       "    <tr>\n",
       "      <th>top</th>\n",
       "      <td>RT1</td>\n",
       "      <td>00776670895</td>\n",
       "      <td>Roma (RM)</td>\n",
       "      <td>KIBERNETES S.R.L.</td>\n",
       "      <td>NaN</td>\n",
       "      <td>Rating Attribuito</td>\n",
       "      <td>*++</td>\n",
       "      <td>NaN</td>\n",
       "    </tr>\n",
       "    <tr>\n",
       "      <th>freq</th>\n",
       "      <td>6</td>\n",
       "      <td>6</td>\n",
       "      <td>3597</td>\n",
       "      <td>17</td>\n",
       "      <td>NaN</td>\n",
       "      <td>41698</td>\n",
       "      <td>22192</td>\n",
       "      <td>NaN</td>\n",
       "    </tr>\n",
       "    <tr>\n",
       "      <th>mean</th>\n",
       "      <td>NaN</td>\n",
       "      <td>NaN</td>\n",
       "      <td>NaN</td>\n",
       "      <td>NaN</td>\n",
       "      <td>2021-06-11 07:36:46.443430400</td>\n",
       "      <td>NaN</td>\n",
       "      <td>NaN</td>\n",
       "      <td>2023-06-13 04:00:40.366576640</td>\n",
       "    </tr>\n",
       "    <tr>\n",
       "      <th>min</th>\n",
       "      <td>NaN</td>\n",
       "      <td>NaN</td>\n",
       "      <td>NaN</td>\n",
       "      <td>NaN</td>\n",
       "      <td>2017-01-25 00:00:00</td>\n",
       "      <td>NaN</td>\n",
       "      <td>NaN</td>\n",
       "      <td>2018-01-10 00:00:00</td>\n",
       "    </tr>\n",
       "    <tr>\n",
       "      <th>25%</th>\n",
       "      <td>NaN</td>\n",
       "      <td>NaN</td>\n",
       "      <td>NaN</td>\n",
       "      <td>NaN</td>\n",
       "      <td>2020-07-28 00:00:00</td>\n",
       "      <td>NaN</td>\n",
       "      <td>NaN</td>\n",
       "      <td>2022-08-04 00:00:00</td>\n",
       "    </tr>\n",
       "    <tr>\n",
       "      <th>50%</th>\n",
       "      <td>NaN</td>\n",
       "      <td>NaN</td>\n",
       "      <td>NaN</td>\n",
       "      <td>NaN</td>\n",
       "      <td>2021-06-22 00:00:00</td>\n",
       "      <td>NaN</td>\n",
       "      <td>NaN</td>\n",
       "      <td>2023-06-22 00:00:00</td>\n",
       "    </tr>\n",
       "    <tr>\n",
       "      <th>75%</th>\n",
       "      <td>NaN</td>\n",
       "      <td>NaN</td>\n",
       "      <td>NaN</td>\n",
       "      <td>NaN</td>\n",
       "      <td>2022-04-20 00:00:00</td>\n",
       "      <td>NaN</td>\n",
       "      <td>NaN</td>\n",
       "      <td>2024-04-20 00:00:00</td>\n",
       "    </tr>\n",
       "    <tr>\n",
       "      <th>max</th>\n",
       "      <td>NaN</td>\n",
       "      <td>NaN</td>\n",
       "      <td>NaN</td>\n",
       "      <td>NaN</td>\n",
       "      <td>2023-12-05 00:00:00</td>\n",
       "      <td>NaN</td>\n",
       "      <td>NaN</td>\n",
       "      <td>2025-12-05 00:00:00</td>\n",
       "    </tr>\n",
       "  </tbody>\n",
       "</table>\n",
       "</div>"
      ],
      "text/plain": [
       "       Procedimento Codice fiscale Sede Legale            Società  \\\n",
       "count         56771          56771       56766              56771   \n",
       "unique        17275          16635        3181              16926   \n",
       "top             RT1    00776670895   Roma (RM)  KIBERNETES S.R.L.   \n",
       "freq              6              6        3597                 17   \n",
       "mean            NaN            NaN         NaN                NaN   \n",
       "min             NaN            NaN         NaN                NaN   \n",
       "25%             NaN            NaN         NaN                NaN   \n",
       "50%             NaN            NaN         NaN                NaN   \n",
       "75%             NaN            NaN         NaN                NaN   \n",
       "max             NaN            NaN         NaN                NaN   \n",
       "\n",
       "                       Data Decisione              Esito Rating  \\\n",
       "count                           56771              56771  56557   \n",
       "unique                            NaN                  6      7   \n",
       "top                               NaN  Rating Attribuito    *++   \n",
       "freq                              NaN              41698  22192   \n",
       "mean    2021-06-11 07:36:46.443430400                NaN    NaN   \n",
       "min               2017-01-25 00:00:00                NaN    NaN   \n",
       "25%               2020-07-28 00:00:00                NaN    NaN   \n",
       "50%               2021-06-22 00:00:00                NaN    NaN   \n",
       "75%               2022-04-20 00:00:00                NaN    NaN   \n",
       "max               2023-12-05 00:00:00                NaN    NaN   \n",
       "\n",
       "       Scadenza  Revoca Annullamento Sospensione  \n",
       "count                                      55650  \n",
       "unique                                       NaN  \n",
       "top                                          NaN  \n",
       "freq                                         NaN  \n",
       "mean               2023-06-13 04:00:40.366576640  \n",
       "min                          2018-01-10 00:00:00  \n",
       "25%                          2022-08-04 00:00:00  \n",
       "50%                          2023-06-22 00:00:00  \n",
       "75%                          2024-04-20 00:00:00  \n",
       "max                          2025-12-05 00:00:00  "
      ]
     },
     "execution_count": 88,
     "metadata": {},
     "output_type": "execute_result"
    }
   ],
   "source": [
    "sorted_df.describe(include='all')"
   ]
  },
  {
   "cell_type": "code",
   "execution_count": 89,
   "id": "8bce486a",
   "metadata": {},
   "outputs": [
    {
     "data": {
      "text/plain": [
       "array(['Rating Rinnovato', 'Rating Attribuito', 'Rating Revocato',\n",
       "       \"Annullamento d'ufficio\", 'Rating Sospeso',\n",
       "       'Efficacia rating sospesa ex art6 comma 2ter'], dtype=object)"
      ]
     },
     "execution_count": 89,
     "metadata": {},
     "output_type": "execute_result"
    }
   ],
   "source": [
    "data_frame['Esito'].unique()"
   ]
  },
  {
   "cell_type": "code",
   "execution_count": 90,
   "id": "ce9c5b36",
   "metadata": {},
   "outputs": [
    {
     "data": {
      "text/plain": [
       "array(['**', '*++', '**++', '*', '*+', '***', '**+', nan], dtype=object)"
      ]
     },
     "execution_count": 90,
     "metadata": {},
     "output_type": "execute_result"
    }
   ],
   "source": [
    "data_frame['Rating'].unique()"
   ]
  },
  {
   "cell_type": "code",
   "execution_count": null,
   "id": "8d7fb950",
   "metadata": {},
   "outputs": [],
   "source": []
  }
 ],
 "metadata": {
  "kernelspec": {
   "display_name": "Python 3 (ipykernel)",
   "language": "python",
   "name": "python3"
  },
  "language_info": {
   "codemirror_mode": {
    "name": "ipython",
    "version": 3
   },
   "file_extension": ".py",
   "mimetype": "text/x-python",
   "name": "python",
   "nbconvert_exporter": "python",
   "pygments_lexer": "ipython3",
   "version": "3.11.4"
  }
 },
 "nbformat": 4,
 "nbformat_minor": 5
}
