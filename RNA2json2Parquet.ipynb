{
 "cells": [
  {
   "cell_type": "markdown",
   "id": "222655b5-1631-4cdf-9c72-89de4a29815e",
   "metadata": {},
   "source": [
    "# [RNA2json](https://www.rna.gov.it/RegistroNazionaleTrasparenza/faces/pages/OpenDataAiuti.jspx)"
   ]
  },
  {
   "cell_type": "code",
   "execution_count": 16,
   "id": "62eb6243-ae81-4c48-86e0-15db301b2e1d",
   "metadata": {},
   "outputs": [],
   "source": [
    "import xml.etree.ElementTree as ET\n",
    "import pandas as pd\n",
    "\n",
    "import json\n",
    "import xmltodict\n",
    "\n",
    "import os\n",
    "# os.chdir('c:/users/paolo/Downloads')\n",
    "os.chdir('c:/users/pvolterr/Downloads')\n",
    "\n",
    "import pandas as pd\n",
    "import pyarrow as pa\n",
    "import pyarrow.parquet as pq"
   ]
  },
  {
   "cell_type": "code",
   "execution_count": 4,
   "id": "811b9b71-1322-47c9-93d1-e5ba55878420",
   "metadata": {},
   "outputs": [],
   "source": [
    "YM = '2023_12'\n",
    "periodo = 'OpenData_Aiuti_'+YM\n",
    "filename =periodo+'.xml'"
   ]
  },
  {
   "cell_type": "code",
   "execution_count": 5,
   "id": "80e84fdc-1d12-4afa-a589-0faacf06d737",
   "metadata": {},
   "outputs": [
    {
     "name": "stdout",
     "output_type": "stream",
     "text": [
      "CPU times: total: 26.8 s\n",
      "Wall time: 28.1 s\n"
     ]
    }
   ],
   "source": [
    "%%time\n",
    "\n",
    "with open(filename, encoding='utf-8') as xml_file:\n",
    "    data_dict = xmltodict.parse(xml_file.read())\n",
    "\n",
    "json_data = json.dumps(data_dict)\n",
    "\n",
    "with open(periodo+\".json\", \"w\") as outfile:\n",
    "    outfile.write(json_data)\n",
    "\n",
    "# print(json.dumps(data_dict, indent=4))"
   ]
  },
  {
   "cell_type": "code",
   "execution_count": 10,
   "id": "6530e770-bfcc-46b5-a7fa-89cbecdfc3d5",
   "metadata": {},
   "outputs": [],
   "source": [
    "## verifica\n",
    "tree = ET.parse(filename)\n",
    "root = tree.getroot()"
   ]
  },
  {
   "cell_type": "markdown",
   "id": "5ece82b5-e9c2-48a0-bea4-46adae451d48",
   "metadata": {},
   "source": [
    "# "
   ]
  },
  {
   "cell_type": "markdown",
   "id": "8d37e56c-254d-47b8-8295-1432e7ad32c1",
   "metadata": {},
   "source": [
    "## convertire il json\n",
    "<br>"
   ]
  },
  {
   "cell_type": "code",
   "execution_count": 3,
   "id": "bfa238f6-a548-4c0e-bd9d-9177a7a051e2",
   "metadata": {},
   "outputs": [],
   "source": [
    "jsonfile = periodo+'.json'\n",
    "\n",
    "with open(jsonfile, 'r',encoding='utf-8') as myfile:\n",
    "    data=myfile.read()\n",
    "\n",
    "obj = json.loads(data)\n",
    "obj.update(obj.pop(\"LISTA_AIUTI\"))\n",
    "del obj['@xmlns']"
   ]
  },
  {
   "cell_type": "raw",
   "id": "72a325e4-e580-4ee7-9110-81cf11604583",
   "metadata": {},
   "source": [
    "for i in range(0,len(obj['AIUTO'])):\n",
    "    print(\n",
    "        i,\n",
    "        obj['AIUTO'][i]['DATA_CONCESSIONE'],\n",
    "        obj['AIUTO'][i]['CAR'],'\\t',\n",
    "        obj['AIUTO'][i]['SOGGETTO_CONCEDENTE'],'\\t',\n",
    "        obj['AIUTO'][i]['CODICE_FISCALE_BENEFICIARIO'],'\\t',\n",
    "        obj['AIUTO'][i]['DENOMINAZIONE_BENEFICIARIO']\n",
    "     )"
   ]
  },
  {
   "cell_type": "raw",
   "id": "2c5dafe3-191d-488b-826c-d7cb24b1c4f6",
   "metadata": {},
   "source": [
    "json_object.update(json_object.pop(\"LISTA_AIUTI\"))"
   ]
  },
  {
   "cell_type": "markdown",
   "id": "36c75e92-c729-4b16-9975-8e7697834bda",
   "metadata": {},
   "source": [
    "## salvare il json pulito"
   ]
  },
  {
   "cell_type": "code",
   "execution_count": 9,
   "id": "a1dfe784-3cd5-48bf-94cb-f68c95c8978d",
   "metadata": {},
   "outputs": [],
   "source": [
    "with open(YM+\".json\", \"w\") as outfile: \n",
    "    json.dump(obj, outfile)"
   ]
  },
  {
   "cell_type": "markdown",
   "id": "7a3ea1a7-157b-4564-b6bc-085634a18646",
   "metadata": {},
   "source": [
    "## convertirlo in dataframe\n",
    "<br>\n",
    "\n",
    "```\n",
    "df.groupby('CAR')['CODICE_FISCALE_BENEFICIARIO'].count()\n",
    "\n",
    "# oppure\n",
    "df = pd.DataFrame(obj)\n",
    "#df = df.drop(['@xmlns'], axis=1)\n",
    "df.info()\n",
    "\n",
    "```"
   ]
  },
  {
   "cell_type": "code",
   "execution_count": 8,
   "id": "f821dc9c-b42f-410a-ab1c-62871ba7d883",
   "metadata": {},
   "outputs": [],
   "source": [
    "lst = (obj['AIUTO'])\n",
    "df = pd.DataFrame(lst)"
   ]
  },
  {
   "cell_type": "markdown",
   "id": "f8cafaf1-c893-4e8e-a038-49b5096e9fb3",
   "metadata": {},
   "source": [
    "## json to parquet"
   ]
  },
  {
   "cell_type": "code",
   "execution_count": 121,
   "id": "565cf2a3-1db0-473a-ac51-925272007261",
   "metadata": {},
   "outputs": [],
   "source": [
    "df['COMPONENTI_AIUTO'] = df['COMPONENTI_AIUTO'].astype(str)\n",
    "#df['COMPONENTI_AIUTO'] = df['COMPONENTI_AIUTO'].astype(str)\n",
    "table = pa.Table.from_pandas(df) # Convert DataFrame to Arrow Table\n",
    "# Write Arrow Table to Parquet file\n",
    "pq.write_table(table, YM+'.parquet')"
   ]
  },
  {
   "cell_type": "markdown",
   "id": "fccc5043-93be-4bb3-af5f-385b2bc83554",
   "metadata": {},
   "source": [
    "## [json to duckdb](https://duckdb.org/docs/guides/import/json_import.html) direttamente\n",
    "\n",
    "- create table prov as select * FROM read_json_auto('c:/users/paolo/downloads/2016_11.json'); \n",
    "- INSERT INTO prov SELECT * FROM read_json_auto('c:/users/paolo/downloads/2023_11.json');"
   ]
  },
  {
   "cell_type": "code",
   "execution_count": 37,
   "id": "858c10b9-9739-41f8-8246-0a99ae2c3c51",
   "metadata": {},
   "outputs": [],
   "source": [
    "import duckdb\n",
    "con = duckdb.connect() # connect to an in-memory database"
   ]
  },
  {
   "cell_type": "code",
   "execution_count": 38,
   "id": "19f642b1-2476-4248-b0a3-aa4f2a1b84bd",
   "metadata": {},
   "outputs": [
    {
     "data": {
      "application/vnd.jupyter.widget-view+json": {
       "model_id": "af68d8add832485b80c0939b7b6ad091",
       "version_major": 2,
       "version_minor": 0
      },
      "text/plain": [
       "FloatProgress(value=0.0, layout=Layout(width='auto'), style=ProgressStyle(bar_color='black'))"
      ]
     },
     "metadata": {},
     "output_type": "display_data"
    },
    {
     "data": {
      "text/plain": [
       "<duckdb.duckdb.DuckDBPyConnection at 0x1814e0b2a70>"
      ]
     },
     "execution_count": 38,
     "metadata": {},
     "output_type": "execute_result"
    }
   ],
   "source": [
    "# create the table \"my_table\" from the DataFrame \"my_df\"\n",
    "con.execute(\"CREATE TABLE my_table AS SELECT * FROM df\")"
   ]
  },
  {
   "cell_type": "code",
   "execution_count": null,
   "id": "f493ff8f-b641-4487-93ae-8f0ee3bf727f",
   "metadata": {},
   "outputs": [],
   "source": [
    "# insert into the table \"my_table\" from the DataFrame \"my_df\"\n",
    "con.execute(\"INSERT INTO my_table SELECT * FROM df\")"
   ]
  },
  {
   "cell_type": "code",
   "execution_count": null,
   "id": "fce8b994-2f28-4893-88a9-c18b73a5bccb",
   "metadata": {},
   "outputs": [],
   "source": []
  },
  {
   "cell_type": "code",
   "execution_count": null,
   "id": "d4e8d1e4-3bc0-449d-b10c-0ccf1f740d9e",
   "metadata": {},
   "outputs": [],
   "source": []
  },
  {
   "cell_type": "code",
   "execution_count": 1,
   "id": "78e49411-814a-4759-b27d-b1fb6fb1d9c8",
   "metadata": {},
   "outputs": [
    {
     "data": {
      "text/plain": [
       "<duckdb.duckdb.DuckDBPyConnection at 0x20a35c230f0>"
      ]
     },
     "execution_count": 1,
     "metadata": {},
     "output_type": "execute_result"
    }
   ],
   "source": [
    "import pyarrow.parquet as pq\n",
    "import pandas as pd\n",
    "import glob\n",
    "import duckdb\n",
    "import os\n",
    "\n",
    "# os.chdir('D:/duckdb/files/RNA2') \n",
    "os.chdir('c:/users/paolo/downloads')\n",
    "con = duckdb.connect()\n",
    "con.execute(\"PRAGMA threads=2\") # enable automatic query parallelization\n",
    "con.execute(\"PRAGMA enable_object_cache\") # enable caching of parquet metadata"
   ]
  },
  {
   "cell_type": "code",
   "execution_count": 11,
   "id": "6bb41c5b-c4aa-4129-8450-54e26f38ea39",
   "metadata": {},
   "outputs": [
    {
     "name": "stdout",
     "output_type": "stream",
     "text": [
      "       CF\n",
      "0  144153\n",
      "CPU times: total: 31.2 ms\n",
      "Wall time: 27.4 ms\n"
     ]
    }
   ],
   "source": [
    "%%time\n",
    "print(con.execute(\"SELECT COUNT(distinct(CF)) CF FROM '2023_12.parquet'\").df())"
   ]
  },
  {
   "cell_type": "code",
   "execution_count": 12,
   "id": "873873f8-fc8e-4ce3-811a-1c4bf7ed6457",
   "metadata": {},
   "outputs": [],
   "source": [
    "df = con.execute(\"SELECT *  FROM '*.parquet'\").df()"
   ]
  },
  {
   "cell_type": "code",
   "execution_count": 13,
   "id": "e1d00f7b-ebbf-436a-8f7f-95ee423abddd",
   "metadata": {},
   "outputs": [
    {
     "data": {
      "text/plain": [
       "(4862867, 11)"
      ]
     },
     "execution_count": 13,
     "metadata": {},
     "output_type": "execute_result"
    }
   ],
   "source": [
    "df.shape\n"
   ]
  },
  {
   "cell_type": "code",
   "execution_count": 15,
   "id": "37b9fab2-7079-466f-ba06-c60b25d5f1de",
   "metadata": {},
   "outputs": [
    {
     "data": {
      "text/html": [
       "<div>\n",
       "<style scoped>\n",
       "    .dataframe tbody tr th:only-of-type {\n",
       "        vertical-align: middle;\n",
       "    }\n",
       "\n",
       "    .dataframe tbody tr th {\n",
       "        vertical-align: top;\n",
       "    }\n",
       "\n",
       "    .dataframe thead th {\n",
       "        text-align: right;\n",
       "    }\n",
       "</style>\n",
       "<table border=\"1\" class=\"dataframe\">\n",
       "  <thead>\n",
       "    <tr style=\"text-align: right;\">\n",
       "      <th></th>\n",
       "      <th>CAR</th>\n",
       "      <th>concedente</th>\n",
       "      <th>MISURA</th>\n",
       "      <th>CF</th>\n",
       "      <th>impresa</th>\n",
       "      <th>regione</th>\n",
       "      <th>COR</th>\n",
       "      <th>concessione</th>\n",
       "      <th>ID</th>\n",
       "      <th>AIUTO</th>\n",
       "      <th>NOMINALE</th>\n",
       "    </tr>\n",
       "  </thead>\n",
       "  <tbody>\n",
       "    <tr>\n",
       "      <th>0</th>\n",
       "      <td>16781</td>\n",
       "      <td>MINISTERO DELLE IMPRESE E DEL MADE IN ITALY - ...</td>\n",
       "      <td>FCS - Accordi SNSI e Calcolo ad alte prestazioni</td>\n",
       "      <td>00059390815</td>\n",
       "      <td>\"BONO &amp; DITTA SOCIETA' PER AZIONI\" O IN FORMA ...</td>\n",
       "      <td>Sicilia</td>\n",
       "      <td>10149552</td>\n",
       "      <td>2023-01-11</td>\n",
       "      <td>11893455</td>\n",
       "      <td>536058.53</td>\n",
       "      <td>536058.53</td>\n",
       "    </tr>\n",
       "    <tr>\n",
       "      <th>1</th>\n",
       "      <td>16781</td>\n",
       "      <td>MINISTERO DELLE IMPRESE E DEL MADE IN ITALY - ...</td>\n",
       "      <td>FCS - Accordi SNSI e Calcolo ad alte prestazioni</td>\n",
       "      <td>00059390815</td>\n",
       "      <td>\"BONO &amp; DITTA SOCIETA' PER AZIONI\" O IN FORMA ...</td>\n",
       "      <td>Sicilia</td>\n",
       "      <td>10149552</td>\n",
       "      <td>2023-01-11</td>\n",
       "      <td>11893455</td>\n",
       "      <td>19023.95</td>\n",
       "      <td>192861.50</td>\n",
       "    </tr>\n",
       "    <tr>\n",
       "      <th>2</th>\n",
       "      <td>16781</td>\n",
       "      <td>MINISTERO DELLE IMPRESE E DEL MADE IN ITALY - ...</td>\n",
       "      <td>FCS - Accordi SNSI e Calcolo ad alte prestazioni</td>\n",
       "      <td>00059390815</td>\n",
       "      <td>\"BONO &amp; DITTA SOCIETA' PER AZIONI\" O IN FORMA ...</td>\n",
       "      <td>Sicilia</td>\n",
       "      <td>10149552</td>\n",
       "      <td>2023-01-11</td>\n",
       "      <td>11893456</td>\n",
       "      <td>553679.63</td>\n",
       "      <td>553679.63</td>\n",
       "    </tr>\n",
       "    <tr>\n",
       "      <th>3</th>\n",
       "      <td>16781</td>\n",
       "      <td>MINISTERO DELLE IMPRESE E DEL MADE IN ITALY - ...</td>\n",
       "      <td>FCS - Accordi SNSI e Calcolo ad alte prestazioni</td>\n",
       "      <td>00059390815</td>\n",
       "      <td>\"BONO &amp; DITTA SOCIETA' PER AZIONI\" O IN FORMA ...</td>\n",
       "      <td>Sicilia</td>\n",
       "      <td>10149552</td>\n",
       "      <td>2023-01-11</td>\n",
       "      <td>11893456</td>\n",
       "      <td>35707.90</td>\n",
       "      <td>362000.41</td>\n",
       "    </tr>\n",
       "    <tr>\n",
       "      <th>4</th>\n",
       "      <td>16781</td>\n",
       "      <td>MINISTERO DELLE IMPRESE E DEL MADE IN ITALY - ...</td>\n",
       "      <td>FCS - Accordi SNSI e Calcolo ad alte prestazioni</td>\n",
       "      <td>03286320829</td>\n",
       "      <td>ELMI SOCIETA' A RESPONSABILITA' LIMITATA E, IN...</td>\n",
       "      <td>Sicilia</td>\n",
       "      <td>10149553</td>\n",
       "      <td>2023-01-11</td>\n",
       "      <td>11893457</td>\n",
       "      <td>323041.55</td>\n",
       "      <td>323041.55</td>\n",
       "    </tr>\n",
       "    <tr>\n",
       "      <th>5</th>\n",
       "      <td>16781</td>\n",
       "      <td>MINISTERO DELLE IMPRESE E DEL MADE IN ITALY - ...</td>\n",
       "      <td>FCS - Accordi SNSI e Calcolo ad alte prestazioni</td>\n",
       "      <td>03286320829</td>\n",
       "      <td>ELMI SOCIETA' A RESPONSABILITA' LIMITATA E, IN...</td>\n",
       "      <td>Sicilia</td>\n",
       "      <td>10149553</td>\n",
       "      <td>2023-01-11</td>\n",
       "      <td>11893457</td>\n",
       "      <td>11464.28</td>\n",
       "      <td>116222.90</td>\n",
       "    </tr>\n",
       "    <tr>\n",
       "      <th>6</th>\n",
       "      <td>16781</td>\n",
       "      <td>MINISTERO DELLE IMPRESE E DEL MADE IN ITALY - ...</td>\n",
       "      <td>FCS - Accordi SNSI e Calcolo ad alte prestazioni</td>\n",
       "      <td>03286320829</td>\n",
       "      <td>ELMI SOCIETA' A RESPONSABILITA' LIMITATA E, IN...</td>\n",
       "      <td>Sicilia</td>\n",
       "      <td>10149553</td>\n",
       "      <td>2023-01-11</td>\n",
       "      <td>11893458</td>\n",
       "      <td>122855.55</td>\n",
       "      <td>122855.55</td>\n",
       "    </tr>\n",
       "    <tr>\n",
       "      <th>7</th>\n",
       "      <td>16781</td>\n",
       "      <td>MINISTERO DELLE IMPRESE E DEL MADE IN ITALY - ...</td>\n",
       "      <td>FCS - Accordi SNSI e Calcolo ad alte prestazioni</td>\n",
       "      <td>03286320829</td>\n",
       "      <td>ELMI SOCIETA' A RESPONSABILITA' LIMITATA E, IN...</td>\n",
       "      <td>Sicilia</td>\n",
       "      <td>10149553</td>\n",
       "      <td>2023-01-11</td>\n",
       "      <td>11893458</td>\n",
       "      <td>7923.20</td>\n",
       "      <td>80324.00</td>\n",
       "    </tr>\n",
       "    <tr>\n",
       "      <th>8</th>\n",
       "      <td>16375</td>\n",
       "      <td>MINISTERO DELLE IMPRESE E DEL MADE IN ITALY - ...</td>\n",
       "      <td>Sostegno del Fondo per la crescita sostenibile...</td>\n",
       "      <td>00186830287</td>\n",
       "      <td>ANTONIO CARRARO S.P.A.</td>\n",
       "      <td>Veneto</td>\n",
       "      <td>10157221</td>\n",
       "      <td>2023-01-18</td>\n",
       "      <td>11904603</td>\n",
       "      <td>180873.75</td>\n",
       "      <td>180873.75</td>\n",
       "    </tr>\n",
       "    <tr>\n",
       "      <th>9</th>\n",
       "      <td>16375</td>\n",
       "      <td>MINISTERO DELLE IMPRESE E DEL MADE IN ITALY - ...</td>\n",
       "      <td>Sostegno del Fondo per la crescita sostenibile...</td>\n",
       "      <td>00186830287</td>\n",
       "      <td>ANTONIO CARRARO S.P.A.</td>\n",
       "      <td>Veneto</td>\n",
       "      <td>10157221</td>\n",
       "      <td>2023-01-18</td>\n",
       "      <td>11904603</td>\n",
       "      <td>161688.04</td>\n",
       "      <td>904368.75</td>\n",
       "    </tr>\n",
       "    <tr>\n",
       "      <th>10</th>\n",
       "      <td>16375</td>\n",
       "      <td>MINISTERO DELLE IMPRESE E DEL MADE IN ITALY - ...</td>\n",
       "      <td>Sostegno del Fondo per la crescita sostenibile...</td>\n",
       "      <td>00186830287</td>\n",
       "      <td>ANTONIO CARRARO S.P.A.</td>\n",
       "      <td>Veneto</td>\n",
       "      <td>10157221</td>\n",
       "      <td>2023-01-18</td>\n",
       "      <td>11904602</td>\n",
       "      <td>13789.95</td>\n",
       "      <td>77131.25</td>\n",
       "    </tr>\n",
       "    <tr>\n",
       "      <th>11</th>\n",
       "      <td>16375</td>\n",
       "      <td>MINISTERO DELLE IMPRESE E DEL MADE IN ITALY - ...</td>\n",
       "      <td>Sostegno del Fondo per la crescita sostenibile...</td>\n",
       "      <td>00186830287</td>\n",
       "      <td>ANTONIO CARRARO S.P.A.</td>\n",
       "      <td>Veneto</td>\n",
       "      <td>10157221</td>\n",
       "      <td>2023-01-18</td>\n",
       "      <td>11904602</td>\n",
       "      <td>15426.25</td>\n",
       "      <td>15426.25</td>\n",
       "    </tr>\n",
       "    <tr>\n",
       "      <th>12</th>\n",
       "      <td>16375</td>\n",
       "      <td>MINISTERO DELLE IMPRESE E DEL MADE IN ITALY - ...</td>\n",
       "      <td>Sostegno del Fondo per la crescita sostenibile...</td>\n",
       "      <td>01722570338</td>\n",
       "      <td>GRINDING TECHNOLOGY S.R.L.</td>\n",
       "      <td>Piemonte</td>\n",
       "      <td>10157229</td>\n",
       "      <td>2023-01-18</td>\n",
       "      <td>11904625</td>\n",
       "      <td>47780.63</td>\n",
       "      <td>47780.63</td>\n",
       "    </tr>\n",
       "    <tr>\n",
       "      <th>13</th>\n",
       "      <td>16375</td>\n",
       "      <td>MINISTERO DELLE IMPRESE E DEL MADE IN ITALY - ...</td>\n",
       "      <td>Sostegno del Fondo per la crescita sostenibile...</td>\n",
       "      <td>01722570338</td>\n",
       "      <td>GRINDING TECHNOLOGY S.R.L.</td>\n",
       "      <td>Piemonte</td>\n",
       "      <td>10157229</td>\n",
       "      <td>2023-01-18</td>\n",
       "      <td>11904625</td>\n",
       "      <td>41167.56</td>\n",
       "      <td>159268.75</td>\n",
       "    </tr>\n",
       "    <tr>\n",
       "      <th>14</th>\n",
       "      <td>16375</td>\n",
       "      <td>MINISTERO DELLE IMPRESE E DEL MADE IN ITALY - ...</td>\n",
       "      <td>Sostegno del Fondo per la crescita sostenibile...</td>\n",
       "      <td>01722570338</td>\n",
       "      <td>GRINDING TECHNOLOGY S.R.L.</td>\n",
       "      <td>Piemonte</td>\n",
       "      <td>10157229</td>\n",
       "      <td>2023-01-18</td>\n",
       "      <td>11904626</td>\n",
       "      <td>122352.46</td>\n",
       "      <td>473356.25</td>\n",
       "    </tr>\n",
       "    <tr>\n",
       "      <th>15</th>\n",
       "      <td>16375</td>\n",
       "      <td>MINISTERO DELLE IMPRESE E DEL MADE IN ITALY - ...</td>\n",
       "      <td>Sostegno del Fondo per la crescita sostenibile...</td>\n",
       "      <td>01722570338</td>\n",
       "      <td>GRINDING TECHNOLOGY S.R.L.</td>\n",
       "      <td>Piemonte</td>\n",
       "      <td>10157229</td>\n",
       "      <td>2023-01-18</td>\n",
       "      <td>11904626</td>\n",
       "      <td>142006.88</td>\n",
       "      <td>142006.88</td>\n",
       "    </tr>\n",
       "    <tr>\n",
       "      <th>16</th>\n",
       "      <td>16781</td>\n",
       "      <td>MINISTERO DELLE IMPRESE E DEL MADE IN ITALY - ...</td>\n",
       "      <td>FCS - Accordi SNSI e Calcolo ad alte prestazioni</td>\n",
       "      <td>00090490426</td>\n",
       "      <td>TERRE CORTESI - MONCARO SOCIETA' COOPERATIVA A...</td>\n",
       "      <td>Marche</td>\n",
       "      <td>10178443</td>\n",
       "      <td>2023-01-19</td>\n",
       "      <td>11930868</td>\n",
       "      <td>703236.99</td>\n",
       "      <td>703236.98</td>\n",
       "    </tr>\n",
       "    <tr>\n",
       "      <th>17</th>\n",
       "      <td>16781</td>\n",
       "      <td>MINISTERO DELLE IMPRESE E DEL MADE IN ITALY - ...</td>\n",
       "      <td>FCS - Accordi SNSI e Calcolo ad alte prestazioni</td>\n",
       "      <td>00090490426</td>\n",
       "      <td>TERRE CORTESI - MONCARO SOCIETA' COOPERATIVA A...</td>\n",
       "      <td>Marche</td>\n",
       "      <td>10178443</td>\n",
       "      <td>2023-01-19</td>\n",
       "      <td>11930868</td>\n",
       "      <td>57465.61</td>\n",
       "      <td>639306.35</td>\n",
       "    </tr>\n",
       "    <tr>\n",
       "      <th>18</th>\n",
       "      <td>16781</td>\n",
       "      <td>MINISTERO DELLE IMPRESE E DEL MADE IN ITALY - ...</td>\n",
       "      <td>FCS - Accordi SNSI e Calcolo ad alte prestazioni</td>\n",
       "      <td>00090490426</td>\n",
       "      <td>TERRE CORTESI - MONCARO SOCIETA' COOPERATIVA A...</td>\n",
       "      <td>Marche</td>\n",
       "      <td>10178443</td>\n",
       "      <td>2023-01-19</td>\n",
       "      <td>11930869</td>\n",
       "      <td>40285.67</td>\n",
       "      <td>448179.13</td>\n",
       "    </tr>\n",
       "    <tr>\n",
       "      <th>19</th>\n",
       "      <td>16781</td>\n",
       "      <td>MINISTERO DELLE IMPRESE E DEL MADE IN ITALY - ...</td>\n",
       "      <td>FCS - Accordi SNSI e Calcolo ad alte prestazioni</td>\n",
       "      <td>00090490426</td>\n",
       "      <td>TERRE CORTESI - MONCARO SOCIETA' COOPERATIVA A...</td>\n",
       "      <td>Marche</td>\n",
       "      <td>10178443</td>\n",
       "      <td>2023-01-19</td>\n",
       "      <td>11930869</td>\n",
       "      <td>781176.22</td>\n",
       "      <td>781176.20</td>\n",
       "    </tr>\n",
       "  </tbody>\n",
       "</table>\n",
       "</div>"
      ],
      "text/plain": [
       "      CAR                                         concedente  \\\n",
       "0   16781  MINISTERO DELLE IMPRESE E DEL MADE IN ITALY - ...   \n",
       "1   16781  MINISTERO DELLE IMPRESE E DEL MADE IN ITALY - ...   \n",
       "2   16781  MINISTERO DELLE IMPRESE E DEL MADE IN ITALY - ...   \n",
       "3   16781  MINISTERO DELLE IMPRESE E DEL MADE IN ITALY - ...   \n",
       "4   16781  MINISTERO DELLE IMPRESE E DEL MADE IN ITALY - ...   \n",
       "5   16781  MINISTERO DELLE IMPRESE E DEL MADE IN ITALY - ...   \n",
       "6   16781  MINISTERO DELLE IMPRESE E DEL MADE IN ITALY - ...   \n",
       "7   16781  MINISTERO DELLE IMPRESE E DEL MADE IN ITALY - ...   \n",
       "8   16375  MINISTERO DELLE IMPRESE E DEL MADE IN ITALY - ...   \n",
       "9   16375  MINISTERO DELLE IMPRESE E DEL MADE IN ITALY - ...   \n",
       "10  16375  MINISTERO DELLE IMPRESE E DEL MADE IN ITALY - ...   \n",
       "11  16375  MINISTERO DELLE IMPRESE E DEL MADE IN ITALY - ...   \n",
       "12  16375  MINISTERO DELLE IMPRESE E DEL MADE IN ITALY - ...   \n",
       "13  16375  MINISTERO DELLE IMPRESE E DEL MADE IN ITALY - ...   \n",
       "14  16375  MINISTERO DELLE IMPRESE E DEL MADE IN ITALY - ...   \n",
       "15  16375  MINISTERO DELLE IMPRESE E DEL MADE IN ITALY - ...   \n",
       "16  16781  MINISTERO DELLE IMPRESE E DEL MADE IN ITALY - ...   \n",
       "17  16781  MINISTERO DELLE IMPRESE E DEL MADE IN ITALY - ...   \n",
       "18  16781  MINISTERO DELLE IMPRESE E DEL MADE IN ITALY - ...   \n",
       "19  16781  MINISTERO DELLE IMPRESE E DEL MADE IN ITALY - ...   \n",
       "\n",
       "                                               MISURA           CF  \\\n",
       "0    FCS - Accordi SNSI e Calcolo ad alte prestazioni  00059390815   \n",
       "1    FCS - Accordi SNSI e Calcolo ad alte prestazioni  00059390815   \n",
       "2    FCS - Accordi SNSI e Calcolo ad alte prestazioni  00059390815   \n",
       "3    FCS - Accordi SNSI e Calcolo ad alte prestazioni  00059390815   \n",
       "4    FCS - Accordi SNSI e Calcolo ad alte prestazioni  03286320829   \n",
       "5    FCS - Accordi SNSI e Calcolo ad alte prestazioni  03286320829   \n",
       "6    FCS - Accordi SNSI e Calcolo ad alte prestazioni  03286320829   \n",
       "7    FCS - Accordi SNSI e Calcolo ad alte prestazioni  03286320829   \n",
       "8   Sostegno del Fondo per la crescita sostenibile...  00186830287   \n",
       "9   Sostegno del Fondo per la crescita sostenibile...  00186830287   \n",
       "10  Sostegno del Fondo per la crescita sostenibile...  00186830287   \n",
       "11  Sostegno del Fondo per la crescita sostenibile...  00186830287   \n",
       "12  Sostegno del Fondo per la crescita sostenibile...  01722570338   \n",
       "13  Sostegno del Fondo per la crescita sostenibile...  01722570338   \n",
       "14  Sostegno del Fondo per la crescita sostenibile...  01722570338   \n",
       "15  Sostegno del Fondo per la crescita sostenibile...  01722570338   \n",
       "16   FCS - Accordi SNSI e Calcolo ad alte prestazioni  00090490426   \n",
       "17   FCS - Accordi SNSI e Calcolo ad alte prestazioni  00090490426   \n",
       "18   FCS - Accordi SNSI e Calcolo ad alte prestazioni  00090490426   \n",
       "19   FCS - Accordi SNSI e Calcolo ad alte prestazioni  00090490426   \n",
       "\n",
       "                                              impresa   regione       COR  \\\n",
       "0   \"BONO & DITTA SOCIETA' PER AZIONI\" O IN FORMA ...   Sicilia  10149552   \n",
       "1   \"BONO & DITTA SOCIETA' PER AZIONI\" O IN FORMA ...   Sicilia  10149552   \n",
       "2   \"BONO & DITTA SOCIETA' PER AZIONI\" O IN FORMA ...   Sicilia  10149552   \n",
       "3   \"BONO & DITTA SOCIETA' PER AZIONI\" O IN FORMA ...   Sicilia  10149552   \n",
       "4   ELMI SOCIETA' A RESPONSABILITA' LIMITATA E, IN...   Sicilia  10149553   \n",
       "5   ELMI SOCIETA' A RESPONSABILITA' LIMITATA E, IN...   Sicilia  10149553   \n",
       "6   ELMI SOCIETA' A RESPONSABILITA' LIMITATA E, IN...   Sicilia  10149553   \n",
       "7   ELMI SOCIETA' A RESPONSABILITA' LIMITATA E, IN...   Sicilia  10149553   \n",
       "8                              ANTONIO CARRARO S.P.A.    Veneto  10157221   \n",
       "9                              ANTONIO CARRARO S.P.A.    Veneto  10157221   \n",
       "10                             ANTONIO CARRARO S.P.A.    Veneto  10157221   \n",
       "11                             ANTONIO CARRARO S.P.A.    Veneto  10157221   \n",
       "12                         GRINDING TECHNOLOGY S.R.L.  Piemonte  10157229   \n",
       "13                         GRINDING TECHNOLOGY S.R.L.  Piemonte  10157229   \n",
       "14                         GRINDING TECHNOLOGY S.R.L.  Piemonte  10157229   \n",
       "15                         GRINDING TECHNOLOGY S.R.L.  Piemonte  10157229   \n",
       "16  TERRE CORTESI - MONCARO SOCIETA' COOPERATIVA A...    Marche  10178443   \n",
       "17  TERRE CORTESI - MONCARO SOCIETA' COOPERATIVA A...    Marche  10178443   \n",
       "18  TERRE CORTESI - MONCARO SOCIETA' COOPERATIVA A...    Marche  10178443   \n",
       "19  TERRE CORTESI - MONCARO SOCIETA' COOPERATIVA A...    Marche  10178443   \n",
       "\n",
       "   concessione        ID      AIUTO   NOMINALE  \n",
       "0   2023-01-11  11893455  536058.53  536058.53  \n",
       "1   2023-01-11  11893455   19023.95  192861.50  \n",
       "2   2023-01-11  11893456  553679.63  553679.63  \n",
       "3   2023-01-11  11893456   35707.90  362000.41  \n",
       "4   2023-01-11  11893457  323041.55  323041.55  \n",
       "5   2023-01-11  11893457   11464.28  116222.90  \n",
       "6   2023-01-11  11893458  122855.55  122855.55  \n",
       "7   2023-01-11  11893458    7923.20   80324.00  \n",
       "8   2023-01-18  11904603  180873.75  180873.75  \n",
       "9   2023-01-18  11904603  161688.04  904368.75  \n",
       "10  2023-01-18  11904602   13789.95   77131.25  \n",
       "11  2023-01-18  11904602   15426.25   15426.25  \n",
       "12  2023-01-18  11904625   47780.63   47780.63  \n",
       "13  2023-01-18  11904625   41167.56  159268.75  \n",
       "14  2023-01-18  11904626  122352.46  473356.25  \n",
       "15  2023-01-18  11904626  142006.88  142006.88  \n",
       "16  2023-01-19  11930868  703236.99  703236.98  \n",
       "17  2023-01-19  11930868   57465.61  639306.35  \n",
       "18  2023-01-19  11930869   40285.67  448179.13  \n",
       "19  2023-01-19  11930869  781176.22  781176.20  "
      ]
     },
     "execution_count": 15,
     "metadata": {},
     "output_type": "execute_result"
    }
   ],
   "source": [
    "df.head(20)"
   ]
  },
  {
   "cell_type": "code",
   "execution_count": 8,
   "id": "6a3bc9ff-897b-4d67-8361-241e037e4f0e",
   "metadata": {},
   "outputs": [],
   "source": [
    "df.sort_values(by=['impresa'], inplace=True)"
   ]
  },
  {
   "cell_type": "code",
   "execution_count": 14,
   "id": "71a0ac0f-16a0-43e1-bd1b-f7e83abc90d1",
   "metadata": {},
   "outputs": [],
   "source": [
    "df.drop_duplicates(subset=['CODICE_FISCALE_BENEFICIARIO'], keep='first', inplace=True)"
   ]
  },
  {
   "cell_type": "code",
   "execution_count": 16,
   "id": "d6ccdb8a-93c6-4fbd-8880-d992ce0f47d4",
   "metadata": {},
   "outputs": [],
   "source": [
    "df.to_parquet('RNA_CF.parquet')"
   ]
  },
  {
   "cell_type": "markdown",
   "id": "9ddd193c-4830-4582-bcf6-2d0ae4da335e",
   "metadata": {},
   "source": [
    "### Backup"
   ]
  },
  {
   "cell_type": "code",
   "execution_count": null,
   "id": "38ae5af3-e7f3-4c01-8fdc-b7d9082390de",
   "metadata": {},
   "outputs": [],
   "source": [
    "# calcolare le righe di ogni file\n",
    "# https://stackoverflow.com/questions/66388995/finding-the-number-of-rows-for-all-files-within-a-folder\n",
    "\n",
    "import glob\n",
    "\n",
    "# 1. list all text files in the directory\n",
    "rel_filepaths = glob.glob(\"c:/users/paolo/downloads/*.xml\") \n",
    "# 2. (optional) create a function to read the number of rows in a file\n",
    "def count_rows(filepath):\n",
    "  res = 0\n",
    "  f = open(filepath, 'r',encoding='utf-8')\n",
    "  res = len(f.readlines())\n",
    "  f.close()\n",
    "\n",
    "  return res\n",
    "\n",
    "# 3. iterate over your files and use the count_row function\n",
    "counts = [count_rows(filepath) for filepath in rel_filepaths]\n",
    "\n",
    "print(counts)"
   ]
  },
  {
   "cell_type": "code",
   "execution_count": 7,
   "id": "331311c8-43cd-4ff3-b393-82ea79258c9f",
   "metadata": {},
   "outputs": [
    {
     "name": "stdout",
     "output_type": "stream",
     "text": [
      "CPU times: total: 0 ns\n",
      "Wall time: 0 ns\n"
     ]
    }
   ],
   "source": [
    "%%time\n",
    "# convertire velocemente un json in parquet\n",
    "YM = '2023_12'\n",
    "periodo = 'OpenData_Aiuti_'+YM\n",
    "filename =periodo+'.xml'\n",
    "\n",
    "jsonfile = periodo+'.json'"
   ]
  },
  {
   "cell_type": "code",
   "execution_count": 8,
   "id": "56be7483-90c2-4ef2-a077-439b73beb85f",
   "metadata": {},
   "outputs": [],
   "source": [
    "with open(jsonfile, 'r',encoding='utf-8') as myfile:\n",
    "    data=myfile.read()\n",
    "\n",
    "obj = json.loads(data)\n",
    "obj.update(obj.pop(\"LISTA_AIUTI\"))\n",
    "del obj['@xmlns']\n",
    "\n",
    "with open(YM+\".json\", \"w\") as outfile: \n",
    "    json.dump(obj, outfile)"
   ]
  },
  {
   "cell_type": "code",
   "execution_count": 15,
   "id": "1f1fdaf8-f04a-4aa0-82c8-d6822421b1be",
   "metadata": {},
   "outputs": [
    {
     "name": "stdout",
     "output_type": "stream",
     "text": [
      "2023_12 fatto\n"
     ]
    }
   ],
   "source": [
    "lst = (obj['AIUTO'])\n",
    "df = pd.DataFrame(lst)\n",
    "\n",
    "df['COMPONENTI_AIUTO'] = df['COMPONENTI_AIUTO'].astype(str)\n",
    "#df['COMPONENTI_AIUTO'] = df['COMPONENTI_AIUTO'].astype(str)\n",
    "table = pa.Table.from_pandas(df) # Convert DataFrame to Arrow Table\n",
    "# Write Arrow Table to Parquet file\n",
    "pq.write_table(table, YM+'.parquet')\n",
    "print(YM+' fatto')"
   ]
  }
 ],
 "metadata": {
  "kernelspec": {
   "display_name": "Python 3 (ipykernel)",
   "language": "python",
   "name": "python3"
  },
  "language_info": {
   "codemirror_mode": {
    "name": "ipython",
    "version": 3
   },
   "file_extension": ".py",
   "mimetype": "text/x-python",
   "name": "python",
   "nbconvert_exporter": "python",
   "pygments_lexer": "ipython3",
   "version": "3.10.11"
  }
 },
 "nbformat": 4,
 "nbformat_minor": 5
}
