{
 "cells": [
  {
   "cell_type": "raw",
   "metadata": {
    "tags": []
   },
   "source": [
    "---\n",
    "title: \"Fondo di Garanzia\"\n",
    "format:\n",
    "  html:\n",
    "    code-fold: true\n",
    "    code-tools: true\n",
    "    embed-resources: true\n",
    "jupyter: python3\n",
    "---"
   ]
  },
  {
   "cell_type": "markdown",
   "metadata": {
    "slideshow": {
     "slide_type": "slide"
    },
    "tags": []
   },
   "source": [
    "# [Fondo di Garanzia](https://www.fondidigaranzia.it/amministrazione-trasparente/)\n",
    "\n",
    "\n",
    "https://www.fondidigaranzia.it/normativa-e-modulistica/la-prossima-seduta-del-consiglio/\n",
    "\n",
    "\n",
    "### ETL\n",
    "tutti i csv del FdG:\n",
    "- usano la virgola sia per il decimale che per separare i campi\n",
    "- seperano i record con una riga vuota\n",
    "\n",
    "faccio l'ETL di volta in volta con notepad++\n",
    "- sostituisco \",\" con \"|\"\n",
    "- sostituisco \\r\\n\\r\\n con \\r\\n\n",
    "\n",
    "#### comma nei csv\n",
    "dal mese di novembre 2022 viene usata la virgola come separataore di campi\n",
    "La virgola va in contrasto con quelle presenti in alcuni campi"
   ]
  },
  {
   "cell_type": "markdown",
   "metadata": {},
   "source": [
    "## csv to parquet\n",
    "\n",
    "### da novembre 2022"
   ]
  },
  {
   "cell_type": "code",
   "execution_count": 1,
   "metadata": {
    "tags": []
   },
   "outputs": [
    {
     "data": {
      "text/plain": [
       "(12616, 14)"
      ]
     },
     "execution_count": 1,
     "metadata": {},
     "output_type": "execute_result"
    }
   ],
   "source": [
    "### converto un solo file\n",
    "import os\n",
    "from io import StringIO\n",
    "import pandas as pd\n",
    "import requests\n",
    "import duckdb\n",
    "\n",
    "os.chdir('D:\\\\duckdb')\n",
    "\n",
    "file = (\"2023-M12\") #  <=======================================\n",
    "\n",
    "tsv = (file+\"io.csv\")\n",
    "url='https://www.fondidigaranzia.it/wp-content/uploads/amm_aperta/'+file+'.csv'\n",
    "headers = {'User-Agent': 'Mozilla/5.0 (Windows NT 6.1; WOW64) AppleWebKit/537.36 (KHTML, like Gecko) Chrome/56.0.2924.76 Safari/537.36'}\n",
    "\n",
    "date_column = ['delibera']\n",
    "s=requests.get(url, headers= headers).text\n",
    "df = pd.read_csv(StringIO(s), header=0, sep=',', quotechar='\"',\n",
    "                  names=['impresa', 'CF','intervento','garantito','riserva',\n",
    "                         'delibera','finanziamento','ATECO','anno','settore',\n",
    "                         'regione','prov','comune','processo'],\n",
    "                  encoding='utf-8', decimal=\",\" , thousands=\".\" ,\n",
    "                 parse_dates=date_column, dayfirst=True) \n",
    "\n",
    "df['ATECO'] = df['ATECO'].astype(str)\n",
    "df['anno'] = df['anno'].astype(str)\n",
    "df['intervento'] = df['intervento'].astype(str)\n",
    "df['CF'] = df['CF'].astype(str)\n",
    "pd.set_option('display.float_format', lambda x: '%.2f' % x)\n",
    "df.to_parquet('D:\\\\duckdb\\\\files\\\\FdG\\\\FdG_'+file+'.parquet')\n",
    "df.shape"
   ]
  },
  {
   "cell_type": "markdown",
   "metadata": {},
   "source": [
    "## Parquet con tutto il FdG"
   ]
  },
  {
   "cell_type": "code",
   "execution_count": 2,
   "metadata": {
    "tags": []
   },
   "outputs": [
    {
     "data": {
      "application/vnd.jupyter.widget-view+json": {
       "model_id": "d2febcc222f84223a2d118ae1e73587e",
       "version_major": 2,
       "version_minor": 0
      },
      "text/plain": [
       "FloatProgress(value=0.0, layout=Layout(width='auto'), style=ProgressStyle(bar_color='black'))"
      ]
     },
     "metadata": {},
     "output_type": "display_data"
    },
    {
     "data": {
      "text/html": [
       "<div>\n",
       "<style scoped>\n",
       "    .dataframe tbody tr th:only-of-type {\n",
       "        vertical-align: middle;\n",
       "    }\n",
       "\n",
       "    .dataframe tbody tr th {\n",
       "        vertical-align: top;\n",
       "    }\n",
       "\n",
       "    .dataframe thead th {\n",
       "        text-align: right;\n",
       "    }\n",
       "</style>\n",
       "<table border=\"1\" class=\"dataframe\">\n",
       "  <thead>\n",
       "    <tr style=\"text-align: right;\">\n",
       "      <th></th>\n",
       "      <th>Count</th>\n",
       "    </tr>\n",
       "  </thead>\n",
       "  <tbody>\n",
       "    <tr>\n",
       "      <th>0</th>\n",
       "      <td>3140111</td>\n",
       "    </tr>\n",
       "  </tbody>\n",
       "</table>\n",
       "</div>"
      ],
      "text/plain": [
       "     Count\n",
       "0  3140111"
      ]
     },
     "execution_count": 2,
     "metadata": {},
     "output_type": "execute_result"
    }
   ],
   "source": [
    "import duckdb\n",
    "import os\n",
    "os.chdir('D:')\n",
    "conn = duckdb.connect(database='FdG.duckdb', read_only=False)\n",
    "conn.execute(f'''CREATE TABLE FdG AS SELECT * FROM read_parquet('D:/duckdb/files/FdG/*.parquet');''').df()"
   ]
  },
  {
   "cell_type": "markdown",
   "metadata": {},
   "source": [
    "## [binning](https://pbpython.com/pandas-qcut-cut.html)\n"
   ]
  },
  {
   "cell_type": "code",
   "execution_count": null,
   "metadata": {
    "tags": []
   },
   "outputs": [],
   "source": [
    "df.columns"
   ]
  },
  {
   "cell_type": "code",
   "execution_count": 4,
   "metadata": {
    "tags": []
   },
   "outputs": [
    {
     "name": "stdout",
     "output_type": "stream",
     "text": [
      "                                                                                                 riserva      CF\n",
      "0                                                                                      Fondo di Garanzia  131423\n",
      "1                                                 Fondo di Garanzia / Sezione speciale Sicilia 2014-2020    3400\n",
      "2                                                   Fondo di Garanzia - Sezione Speciale Regione Toscana    2979\n",
      "3                                                                                   Contributi Volontari    2874\n",
      "4                                                         Fondo di Garanzia - Sez. Speciale Resto al Sud    2725\n",
      "5                                                     Sezione Speciale Turismo DL 6 novembre 2021, n.152     889\n",
      "6                                    Fondo di Garanzia - Sezione Speciale Emilia Romagna L.R. n. 14/2019     738\n",
      "7                                                Fondo di Garanzia / Sezione speciale Campania 2014-2020     698\n",
      "8                                                                      PON IC 2014-2020 - Iniziativa PMI     594\n",
      "9                           Fondo di Garanzia - Sezione Speciale Regione Friuli Venezia Giulia 2014-2020     587\n",
      "10                                     Fondo di Garanzia - Sezione Speciale Provincia Autonoma di Trento     524\n",
      "11                                               Fondo di Garanzia / Sezione speciale Calabria 2014-2020     320\n",
      "12                                             Fondo di Garanzia / Sezione speciale Basilicata 2014-2020     270\n",
      "13                                                Fondo di Garanzia / Sezione speciale Liguria 2014-2020     174\n",
      "14                                                          Fondo di Garanzia - Sezione CDP-CONFESERFIDI     150\n",
      "15                                                        Fondo di Garanzia - Sezione CDP-GARANZIA ETICA     141\n",
      "16                                                    Fondo di Garanzia - Sezione CDP-CONFIDICOOP MARCHE     117\n",
      "17                                             Contributi Volontari / Sezione speciale Sicilia 2014-2020      99\n",
      "18                                                     Fondo di Garanzia - Sezione CDP-COOPERFIDI ITALIA      62\n",
      "19                                         Fondo di Garanzia - Sezione CDP CNPADC Dottori Commercialisti      58\n",
      "20                                                      Fondo di Garanzia - Sezione Speciale Val D'Aosta      17\n",
      "21                                            Fondo di Garanzia - Sezione CDP ENPAM Medici e odontoiatri      15\n",
      "22                                            Contributi Volontari / Sezione speciale Campania 2014-2020      13\n",
      "23                                            Contributi Volontari / Sezione speciale Calabria 2014-2020      13\n",
      "24                                                Fondo di Garanzia - Sezione CDP CASSA FORENSE Avvocati       9\n",
      "25                                      Fondo di Garanzia - Sezione CDP INARCASSA Ingegneri e architetti       6\n",
      "26                                             Contributi Volontari / Sezione speciale Liguria 2014-2020       3\n",
      "27                                                                            Sezione Femminili Start up       3\n",
      "28    Sezione Speciale Turismo DL 6 novembre 2021, n.152 - Sezione Speciale Provincia Autonoma di Trento       3\n",
      "29                                          Contributi Volontari / Sezione speciale Basilicata 2014-2020       3\n",
      "30  Sezione Speciale Turismo DL 6 novembre 2021, n.152 - Sezione Speciale Emilia Romagna L.R. n. 14/2019       2\n",
      "31                                                                                     Sezione Femminili       2\n",
      "32                                          Fondo di Garanzia - Sezione CDP ENPACL Consulenti del lavoro       2\n",
      "33                                                 Fondo di Garanzia - Sezione CDP EPAP Pluricategoriale       1\n",
      "34                 Sezione Speciale Turismo DL 6 novembre 2021, n.152 - Sezione Speciale Regione Toscana       1\n"
     ]
    }
   ],
   "source": [
    "df = conn.execute(\"\"\"select riserva , count(distinct(CF)) CF from fdg  group by 1 order by 2 desc;\"\"\").df()\n",
    "print(df.to_string())"
   ]
  },
  {
   "cell_type": "code",
   "execution_count": 5,
   "metadata": {
    "tags": []
   },
   "outputs": [
    {
     "data": {
      "text/plain": [
       "finanziamento\n",
       "(-6999.0, 800900.0]       213854\n",
       "(800900.0, 1600800.0]       6323\n",
       "(1600800.0, 2400700.0]      1182\n",
       "(2400700.0, 3200600.0]       547\n",
       "(3200600.0, 4000500.0]       143\n",
       "(4800400.0, 5600300.0]        75\n",
       "(5600300.0, 6400200.0]        62\n",
       "(4000500.0, 4800400.0]        43\n",
       "(6400200.0, 7200100.0]         9\n",
       "(7200100.0, 8000000.0]         4\n",
       "Name: count, dtype: int64"
      ]
     },
     "execution_count": 5,
     "metadata": {},
     "output_type": "execute_result"
    }
   ],
   "source": [
    "df = conn.execute(\"\"\"select * from fdg where year(delibera)>2022;\"\"\").df()\n",
    "pd.cut(df['finanziamento'],10).value_counts()"
   ]
  },
  {
   "cell_type": "code",
   "execution_count": 6,
   "metadata": {
    "tags": []
   },
   "outputs": [
    {
     "data": {
      "text/plain": [
       "count    222242.00\n",
       "mean     194757.00\n",
       "std      341534.95\n",
       "min        1000.00\n",
       "25%       40000.00\n",
       "50%      100000.00\n",
       "75%      200000.00\n",
       "max     8000000.00\n",
       "Name: finanziamento, dtype: float64"
      ]
     },
     "execution_count": 6,
     "metadata": {},
     "output_type": "execute_result"
    }
   ],
   "source": [
    "df['finanziamento'].describe()"
   ]
  },
  {
   "cell_type": "code",
   "execution_count": 9,
   "metadata": {
    "tags": []
   },
   "outputs": [],
   "source": [
    "df1 = pd.qcut(df['finanziamento'], q=10)"
   ]
  },
  {
   "cell_type": "code",
   "execution_count": 10,
   "metadata": {
    "scrolled": true,
    "tags": []
   },
   "outputs": [
    {
     "data": {
      "text/plain": [
       "0                                              (60000.0, 100000.0]\n",
       "1                                             (122000.0, 188000.0]\n",
       "2                                               (50000.0, 60000.0]\n",
       "3                                              (60000.0, 100000.0]\n",
       "4                                              (60000.0, 100000.0]\n",
       "                                       ...                        \n",
       "222239                                       (485000.0, 8000000.0]\n",
       "222240                                       (485000.0, 8000000.0]\n",
       "222241                                          (30000.0, 50000.0]\n",
       "quantile_ex_1    0           (40000.0, 100000.0]\n",
       "1          (10...\n",
       "quantile_ex_2    0           (60000.0, 100000.0]\n",
       "1          (12...\n",
       "Name: finanziamento, Length: 222244, dtype: object"
      ]
     },
     "execution_count": 10,
     "metadata": {},
     "output_type": "execute_result"
    }
   ],
   "source": [
    "df1['quantile_ex_1'] = pd.qcut(df['finanziamento'], q=4)\n",
    "df1['quantile_ex_2'] = pd.qcut(df['finanziamento'], q=10, precision=0)\n",
    "\n",
    "df1"
   ]
  },
  {
   "cell_type": "code",
   "execution_count": 11,
   "metadata": {
    "tags": []
   },
   "outputs": [
    {
     "data": {
      "text/plain": [
       "finanziamento\n",
       "(60000.0, 100000.0]      36524\n",
       "(30000.0, 50000.0]       31663\n",
       "(999.0, 20000.0]         27622\n",
       "(20000.0, 30000.0]       22661\n",
       "(254487.0, 485000.0]     22225\n",
       "(485000.0, 8000000.0]    22224\n",
       "(188000.0, 254487.0]     22221\n",
       "(122000.0, 188000.0]     22196\n",
       "(50000.0, 60000.0]        7755\n",
       "(100000.0, 122000.0]      7151\n",
       "Name: count, dtype: int64"
      ]
     },
     "execution_count": 11,
     "metadata": {},
     "output_type": "execute_result"
    }
   ],
   "source": [
    "df1['quantile_ex_2'].value_counts()"
   ]
  },
  {
   "cell_type": "code",
   "execution_count": 18,
   "metadata": {},
   "outputs": [
    {
     "data": {
      "text/plain": [
       "(222242, 16)"
      ]
     },
     "execution_count": 18,
     "metadata": {},
     "output_type": "execute_result"
    }
   ],
   "source": [
    "df.shape"
   ]
  },
  {
   "cell_type": "code",
   "execution_count": 12,
   "metadata": {
    "tags": []
   },
   "outputs": [],
   "source": [
    "cut_labels_4 = ['silver', 'gold', 'platinum', 'diamond']\n",
    "cut_bins = [0, 25000, 100000, 1000000,10000000]\n",
    "df['classe'] = pd.cut(df['finanziamento'], bins=cut_bins, labels=cut_labels_4)\n"
   ]
  },
  {
   "cell_type": "code",
   "execution_count": 13,
   "metadata": {
    "tags": []
   },
   "outputs": [],
   "source": [
    "df['prova2'] = pd.qcut(df['finanziamento'], \n",
    "                            q=[0, .2, .4, .6, .8, 1], \n",
    "                            labels=['Very low', 'Low', 'Moderate', 'High', 'Very high'])\n"
   ]
  },
  {
   "cell_type": "code",
   "execution_count": 14,
   "metadata": {
    "tags": []
   },
   "outputs": [
    {
     "data": {
      "text/plain": [
       "prova2\n",
       "Very low    0.23\n",
       "Very high   0.20\n",
       "High        0.20\n",
       "Moderate    0.20\n",
       "Low         0.18\n",
       "Name: proportion, dtype: float64"
      ]
     },
     "execution_count": 14,
     "metadata": {},
     "output_type": "execute_result"
    }
   ],
   "source": [
    "df['prova2'].value_counts(normalize =True)"
   ]
  },
  {
   "cell_type": "markdown",
   "metadata": {},
   "source": [
    "# Parquet to SQLITE"
   ]
  },
  {
   "cell_type": "code",
   "execution_count": 16,
   "metadata": {},
   "outputs": [
    {
     "name": "stdout",
     "output_type": "stream",
     "text": [
      "CPU times: total: 46.9 ms\n",
      "Wall time: 1.16 s\n"
     ]
    }
   ],
   "source": [
    "import pandas as pd\n",
    "import pyarrow.parquet as pq\n",
    "import duckdb\n",
    "con = duckdb.connect()\n",
    "con.execute(\"PRAGMA threads=2\") # enable automatic query parallelization\n",
    "con.execute(\"PRAGMA enable_object_cache\") # enable caching of parquet metadata\n",
    "\n",
    "df = con.execute(\"SELECT * FROM 'D:/duckdb/files/FdG/*.parquet'\").df()"
   ]
  },
  {
   "cell_type": "code",
   "execution_count": 17,
   "metadata": {},
   "outputs": [],
   "source": [
    "%%time\n",
    "import os\n",
    "os.chdir('D:/')\n",
    "sqlite = create_engine('sqlite:///D:/FdG.sqlite')\n",
    "\n",
    "from sqlalchemy import create_engine\n",
    "import sqlite3\n",
    "\n",
    "df.to_sql('FdG', sqlite, if_exists='replace')"
   ]
  }
 ],
 "metadata": {
  "celltoolbar": "Slideshow",
  "kernelspec": {
   "display_name": "Python 3 (ipykernel)",
   "language": "python",
   "name": "python3"
  },
  "language_info": {
   "codemirror_mode": {
    "name": "ipython",
    "version": 3
   },
   "file_extension": ".py",
   "mimetype": "text/x-python",
   "name": "python",
   "nbconvert_exporter": "python",
   "pygments_lexer": "ipython3",
   "version": "3.10.11"
  },
  "vscode": {
   "interpreter": {
    "hash": "dab3a02a7bcb28cbd361f7aaa3a82a6b6f90eaa0d52dae4528875653e3725a9d"
   }
  }
 },
 "nbformat": 4,
 "nbformat_minor": 4
}
