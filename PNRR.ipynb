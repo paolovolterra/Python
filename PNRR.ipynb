{
 "cells": [
  {
   "cell_type": "markdown",
   "metadata": {},
   "source": [
    "# PNRR\n",
    "\n",
    "- https://openpnrr.it/opendata/\n"
   ]
  },
  {
   "cell_type": "markdown",
   "metadata": {},
   "source": [
    "## Scadenze"
   ]
  },
  {
   "cell_type": "code",
   "execution_count": 2,
   "metadata": {},
   "outputs": [],
   "source": [
    "import pandas as pd"
   ]
  },
  {
   "cell_type": "code",
   "execution_count": 2,
   "metadata": {},
   "outputs": [],
   "source": [
    "scadenze = pd.read_csv('https://openpnrr.it/csv/scadenze.csv', sep=';')"
   ]
  },
  {
   "cell_type": "code",
   "execution_count": 12,
   "metadata": {},
   "outputs": [],
   "source": [
    "scadenze_24 = scadenze[(scadenze['tempistica_completamento_anno'] == 2024)]"
   ]
  },
  {
   "cell_type": "code",
   "execution_count": 13,
   "metadata": {},
   "outputs": [
    {
     "data": {
      "text/plain": [
       "Index(['id', 'tipologia', 'numero_sequenziale', 'codice_progressivo',\n",
       "       'descrizione_breve', 'descrizione_completa',\n",
       "       'tempistica_completamento_anno', 'tempistica_completamento_trimestre',\n",
       "       'indicatori_quantitativi_unita', 'indicatori_quantitativi_partenza',\n",
       "       'indicatori_quantitativi_arrivo', 'indicatori_qualitativi',\n",
       "       'meccanismo_verifica', 'fonte_dati_metodologia', 'ipotesi_rischi',\n",
       "       'ita_ue', 'misure_id', 'misure_descr', 'organizzazioni_responsabili_id',\n",
       "       'organizzazioni_responsabili_descr', 'status', 'status_ultima_data',\n",
       "       'status_fonti_titoli', 'status_fonti_url'],\n",
       "      dtype='object')"
      ]
     },
     "execution_count": 13,
     "metadata": {},
     "output_type": "execute_result"
    }
   ],
   "source": [
    "scadenze_24.columns"
   ]
  },
  {
   "cell_type": "code",
   "execution_count": 25,
   "metadata": {},
   "outputs": [],
   "source": [
    "scadenze_24abs = scadenze_24[[ 'misure_descr']]"
   ]
  },
  {
   "cell_type": "code",
   "execution_count": 38,
   "metadata": {},
   "outputs": [],
   "source": [
    "pd.set_option('display.max_column', None)\n",
    "pd.set_option('display.max_rows', None)\n",
    "pd.set_option('display.max_seq_items', None)\n",
    "pd.set_option('display.max_colwidth', 500)\n",
    "pd.set_option('expand_frame_repr', True)\n",
    "\n",
    "\n",
    "scadenze_24abs.drop_duplicates().to_csv('D:/scadenze.csv', index=False)\n",
    "\n"
   ]
  },
  {
   "cell_type": "code",
   "execution_count": 9,
   "metadata": {},
   "outputs": [
    {
     "data": {
      "text/plain": [
       "misure_descr\n",
       "\"Polis - Case dei servizi di cittadinanza digitale\"                                                                                             1\n",
       "Abilitazione al cloud per le PA locali                                                                                                          1\n",
       "Accordi per l'Innovazione                                                                                                                       1\n",
       "Ammodernamento del parco tecnologico e digitale ospedaliero (grandi apparecchiature)                                                            1\n",
       "Attrattività dei borghi                                                                                                                         1\n",
       "                                                                                                                                               ..\n",
       "Turismo, cultura, sport e inclusione|Valorizzazione ambientale, economia circolare e ciclo delle macerie|Centri di ricerca per l'innovazione    1\n",
       "Tutela e valorizzazione del verde urbano ed extraurbano                                                                                         1\n",
       "Tutela e valorizzazione dell'architettura e del paesaggio rurale                                                                                1\n",
       "Ultimo/Penultimo Miglio Ferroviario/Stradale                                                                                                    1\n",
       "Valorizzazione dei beni confiscati alle mafie                                                                                                   1\n",
       "Length: 144, dtype: int64"
      ]
     },
     "execution_count": 9,
     "metadata": {},
     "output_type": "execute_result"
    }
   ],
   "source": [
    "scadenze_24.groupby('misure_descr').size()"
   ]
  },
  {
   "cell_type": "markdown",
   "metadata": {},
   "source": [
    "## Localizzazioni dei progetti"
   ]
  },
  {
   "cell_type": "code",
   "execution_count": 3,
   "metadata": {},
   "outputs": [],
   "source": [
    "dove = pd.read_csv('https://openpnrr.s3.amazonaws.com/media/progetti_territori.csv', sep=',')"
   ]
  },
  {
   "cell_type": "code",
   "execution_count": 5,
   "metadata": {},
   "outputs": [
    {
     "data": {
      "text/plain": [
       "Index(['id_terr_prg', 'progetto_id', 'cup', 'codice_locale_progetto',\n",
       "       'territorio_id', 'istat_id', 'denominazione', 'tipologia'],\n",
       "      dtype='object')"
      ]
     },
     "execution_count": 5,
     "metadata": {},
     "output_type": "execute_result"
    }
   ],
   "source": [
    "dove.columns"
   ]
  },
  {
   "cell_type": "code",
   "execution_count": 7,
   "metadata": {},
   "outputs": [
    {
     "data": {
      "text/html": [
       "<div>\n",
       "<style scoped>\n",
       "    .dataframe tbody tr th:only-of-type {\n",
       "        vertical-align: middle;\n",
       "    }\n",
       "\n",
       "    .dataframe tbody tr th {\n",
       "        vertical-align: top;\n",
       "    }\n",
       "\n",
       "    .dataframe thead th {\n",
       "        text-align: right;\n",
       "    }\n",
       "</style>\n",
       "<table border=\"1\" class=\"dataframe\">\n",
       "  <thead>\n",
       "    <tr style=\"text-align: right;\">\n",
       "      <th></th>\n",
       "      <th>id_terr_prg</th>\n",
       "      <th>progetto_id</th>\n",
       "      <th>cup</th>\n",
       "      <th>codice_locale_progetto</th>\n",
       "      <th>territorio_id</th>\n",
       "      <th>istat_id</th>\n",
       "      <th>denominazione</th>\n",
       "      <th>tipologia</th>\n",
       "    </tr>\n",
       "  </thead>\n",
       "  <tbody>\n",
       "    <tr>\n",
       "      <th>28583</th>\n",
       "      <td>102020</td>\n",
       "      <td>128924</td>\n",
       "      <td>F99G21000010006</td>\n",
       "      <td>F99G21000010006</td>\n",
       "      <td>6366</td>\n",
       "      <td>62066.0</td>\n",
       "      <td>San Nazzaro</td>\n",
       "      <td>C</td>\n",
       "    </tr>\n",
       "  </tbody>\n",
       "</table>\n",
       "</div>"
      ],
      "text/plain": [
       "       id_terr_prg  progetto_id              cup codice_locale_progetto  \\\n",
       "28583       102020       128924  F99G21000010006        F99G21000010006   \n",
       "\n",
       "       territorio_id  istat_id denominazione tipologia  \n",
       "28583           6366   62066.0   San Nazzaro         C  "
      ]
     },
     "execution_count": 7,
     "metadata": {},
     "output_type": "execute_result"
    }
   ],
   "source": [
    "dove.sample()"
   ]
  },
  {
   "cell_type": "code",
   "execution_count": null,
   "metadata": {},
   "outputs": [],
   "source": [
    "= 'https://www.istat.it/storage/codici-unita-amministrative/Elenco-codici-statistici-e-denominazioni-delle-unita-territoriali.zip'"
   ]
  },
  {
   "cell_type": "code",
   "execution_count": 14,
   "metadata": {},
   "outputs": [],
   "source": [
    "codici_istat = pd.read_csv('D:/Codici-statistici-e-denominazioni-al-18_11_2023.csv',sep=';' , encoding = 'latin1')"
   ]
  },
  {
   "cell_type": "code",
   "execution_count": 25,
   "metadata": {},
   "outputs": [
    {
     "data": {
      "text/html": [
       "<div>\n",
       "<style scoped>\n",
       "    .dataframe tbody tr th:only-of-type {\n",
       "        vertical-align: middle;\n",
       "    }\n",
       "\n",
       "    .dataframe tbody tr th {\n",
       "        vertical-align: top;\n",
       "    }\n",
       "\n",
       "    .dataframe thead th {\n",
       "        text-align: right;\n",
       "    }\n",
       "</style>\n",
       "<table border=\"1\" class=\"dataframe\">\n",
       "  <thead>\n",
       "    <tr style=\"text-align: right;\">\n",
       "      <th></th>\n",
       "      <th>Codice Comune formato alfanumerico</th>\n",
       "      <th>Denominazione Regione</th>\n",
       "    </tr>\n",
       "  </thead>\n",
       "  <tbody>\n",
       "    <tr>\n",
       "      <th>6993</th>\n",
       "      <td>80036</td>\n",
       "      <td>Calabria</td>\n",
       "    </tr>\n",
       "    <tr>\n",
       "      <th>991</th>\n",
       "      <td>6153</td>\n",
       "      <td>Piemonte</td>\n",
       "    </tr>\n",
       "    <tr>\n",
       "      <th>2298</th>\n",
       "      <td>18109</td>\n",
       "      <td>Lombardia</td>\n",
       "    </tr>\n",
       "  </tbody>\n",
       "</table>\n",
       "</div>"
      ],
      "text/plain": [
       "      Codice Comune formato alfanumerico Denominazione Regione\n",
       "6993                               80036              Calabria\n",
       "991                                 6153              Piemonte\n",
       "2298                               18109             Lombardia"
      ]
     },
     "execution_count": 25,
     "metadata": {},
     "output_type": "execute_result"
    }
   ],
   "source": [
    "codici_istat.sample(3)"
   ]
  },
  {
   "cell_type": "code",
   "execution_count": 23,
   "metadata": {},
   "outputs": [],
   "source": [
    "codici_istat = codici_istat[['Codice Comune formato alfanumerico','Denominazione Regione']]"
   ]
  },
  {
   "cell_type": "code",
   "execution_count": 26,
   "metadata": {},
   "outputs": [],
   "source": [
    "merge = pd.merge(dove, codici_istat, how='left', left_on='istat_id', right_on='Codice Comune formato alfanumerico')"
   ]
  },
  {
   "cell_type": "code",
   "execution_count": 45,
   "metadata": {},
   "outputs": [
    {
     "data": {
      "text/plain": [
       "count               51394\n",
       "unique              40729\n",
       "top       G21H21000010001\n",
       "freq                   58\n",
       "Name: cup, dtype: object"
      ]
     },
     "execution_count": 45,
     "metadata": {},
     "output_type": "execute_result"
    }
   ],
   "source": [
    "merge = merge[['cup', 'denominazione', 'Denominazione Regione']]\n",
    "filter_list = ['Abruzzo', 'Molise', 'Campania','Puglia','Basilicata','Clabria','Sicilia','Sardegna']\n",
    "merge = merge[merge['Denominazione Regione'].isin(filter_list)]\n",
    "merge['cup'].describe()"
   ]
  },
  {
   "cell_type": "markdown",
   "metadata": {
    "jp-MarkdownHeadingCollapsed": true,
    "tags": []
   },
   "source": [
    "## con csv di Opencup"
   ]
  },
  {
   "cell_type": "code",
   "execution_count": 35,
   "metadata": {},
   "outputs": [],
   "source": [
    "\n",
    "import os\n",
    "\n",
    "os.chdir('D:\\\\duckdb\\\\files\\\\Opencup')\n",
    "df = pd.read_csv('D:\\\\DIR\\\\CSV\\\\PNRR\\\\PNRR_Progetti.csv', sep=';', thousands=\".\")"
   ]
  },
  {
   "cell_type": "code",
   "execution_count": 36,
   "metadata": {},
   "outputs": [
    {
     "name": "stdout",
     "output_type": "stream",
     "text": [
      "CPU times: total: 0 ns\n",
      "Wall time: 0 ns\n"
     ]
    },
    {
     "data": {
      "text/plain": [
       "Index(['Programma', 'Missione', 'Descrizione Missione', 'Componente',\n",
       "       'Descrizione Componente', 'ID Misura', 'Codice Univoco Misura',\n",
       "       'Descrizione Misura', 'ID submisura', 'Codice CID',\n",
       "       'Codice Univoco submisura', 'Descrizione submisura',\n",
       "       'Amministrazione Titolare', 'CUP ', 'CUP_COD_NATURA',\n",
       "       'CUP_DESCR_NATURA', 'Codice Locale Progetto ', 'Titolo progetto ',\n",
       "       'FINANZIAMENTO _UE', 'FINANZIAMENTO_REGIONE', 'FINANZIAMENTO_PROVINCIA',\n",
       "       'FINANZIAMENTO_COMUNE', 'FINANZIAMENTO_ALTRO_PUBBLICO',\n",
       "       'FINANZIAMENTO_PRIVATO', 'FINANZ_DA_REPERIRE', 'FINANZIAMENTO_PNRR',\n",
       "       'FINANZIAMENTO_PNC', 'FINANZ_TOTALE '],\n",
       "      dtype='object')"
      ]
     },
     "execution_count": 36,
     "metadata": {},
     "output_type": "execute_result"
    }
   ],
   "source": [
    "%%time\n",
    "pd.set_option('display.max_column', None)\n",
    "df.columns"
   ]
  },
  {
   "cell_type": "code",
   "execution_count": 37,
   "metadata": {},
   "outputs": [],
   "source": [
    "dict = {'CUP ': 'CUP', 'FINANZ_TOTALE ': 'finanziamento'} # create a dictionary with old and new name\n",
    "df.rename(columns=dict,inplace=True) # change column header\n",
    "PNRR = df.filter(['CUP','finanziamento'], axis=1)"
   ]
  },
  {
   "cell_type": "code",
   "execution_count": 71,
   "metadata": {},
   "outputs": [],
   "source": [
    "CUP = pd.read_csv('D:\\\\CUP.csv', sep='\\t', dtype=object)"
   ]
  },
  {
   "cell_type": "code",
   "execution_count": 72,
   "metadata": {},
   "outputs": [
    {
     "name": "stdout",
     "output_type": "stream",
     "text": [
      "<class 'pandas.core.frame.DataFrame'>\n",
      "RangeIndex: 10474142 entries, 0 to 10474141\n",
      "Data columns (total 3 columns):\n",
      " #   Column   Dtype \n",
      "---  ------   ----- \n",
      " 0   CUP      object\n",
      " 1   CF       object\n",
      " 2   impresa  object\n",
      "dtypes: object(3)\n",
      "memory usage: 239.7+ MB\n"
     ]
    }
   ],
   "source": [
    "CUP.info()"
   ]
  },
  {
   "cell_type": "code",
   "execution_count": 73,
   "metadata": {},
   "outputs": [
    {
     "data": {
      "text/html": [
       "<div>\n",
       "<style scoped>\n",
       "    .dataframe tbody tr th:only-of-type {\n",
       "        vertical-align: middle;\n",
       "    }\n",
       "\n",
       "    .dataframe tbody tr th {\n",
       "        vertical-align: top;\n",
       "    }\n",
       "\n",
       "    .dataframe thead th {\n",
       "        text-align: right;\n",
       "    }\n",
       "</style>\n",
       "<table border=\"1\" class=\"dataframe\">\n",
       "  <thead>\n",
       "    <tr style=\"text-align: right;\">\n",
       "      <th></th>\n",
       "      <th>CUP</th>\n",
       "      <th>CF</th>\n",
       "      <th>impresa</th>\n",
       "    </tr>\n",
       "  </thead>\n",
       "  <tbody>\n",
       "    <tr>\n",
       "      <th>2405666</th>\n",
       "      <td>B87B20061540009</td>\n",
       "      <td>01026390623</td>\n",
       "      <td>MIRABILANDIA - SOCIETA' COOPERATIVA SOCIALE A ...</td>\n",
       "    </tr>\n",
       "    <tr>\n",
       "      <th>10018717</th>\n",
       "      <td>E59F22063930009</td>\n",
       "      <td>02798110926</td>\n",
       "      <td>ORTU GIAN LUCA</td>\n",
       "    </tr>\n",
       "    <tr>\n",
       "      <th>6511470</th>\n",
       "      <td>F68G19089160009</td>\n",
       "      <td>01123660936</td>\n",
       "      <td>AZIENDA AGRICOLA TOMASELLA PAOLO &amp; C. S.A.S.</td>\n",
       "    </tr>\n",
       "    <tr>\n",
       "      <th>8902659</th>\n",
       "      <td>F63F17108190009</td>\n",
       "      <td>02246360180</td>\n",
       "      <td>IL GERMANO REALE SOCIETA' AGRICOLA</td>\n",
       "    </tr>\n",
       "    <tr>\n",
       "      <th>2885236</th>\n",
       "      <td>G73C20010250009</td>\n",
       "      <td>01558830764</td>\n",
       "      <td>COLANGELO LUCIANA</td>\n",
       "    </tr>\n",
       "    <tr>\n",
       "      <th>10398796</th>\n",
       "      <td>G77H21055090007</td>\n",
       "      <td>02966410827</td>\n",
       "      <td>ROVIELLO ANNA MARIA</td>\n",
       "    </tr>\n",
       "    <tr>\n",
       "      <th>2848706</th>\n",
       "      <td>H11B21008120003</td>\n",
       "      <td>02891720787</td>\n",
       "      <td>TENUTA DEL TRAVALE DI RAFFELLA CIARDULLO</td>\n",
       "    </tr>\n",
       "    <tr>\n",
       "      <th>2375177</th>\n",
       "      <td>B12C20000910007</td>\n",
       "      <td>02852120738</td>\n",
       "      <td>CAGLIOSTRO - S.R.L.</td>\n",
       "    </tr>\n",
       "    <tr>\n",
       "      <th>2782580</th>\n",
       "      <td>J92F11000150009</td>\n",
       "      <td>80425370584</td>\n",
       "      <td>ENTE GESTORE RISERVE NATURALI REGIONALI DEL LA...</td>\n",
       "    </tr>\n",
       "    <tr>\n",
       "      <th>1720373</th>\n",
       "      <td>C86I18000090009</td>\n",
       "      <td>01160470660</td>\n",
       "      <td>DI BATTISTA AMERICO</td>\n",
       "    </tr>\n",
       "  </tbody>\n",
       "</table>\n",
       "</div>"
      ],
      "text/plain": [
       "                      CUP           CF  \\\n",
       "2405666   B87B20061540009  01026390623   \n",
       "10018717  E59F22063930009  02798110926   \n",
       "6511470   F68G19089160009  01123660936   \n",
       "8902659   F63F17108190009  02246360180   \n",
       "2885236   G73C20010250009  01558830764   \n",
       "10398796  G77H21055090007  02966410827   \n",
       "2848706   H11B21008120003  02891720787   \n",
       "2375177   B12C20000910007  02852120738   \n",
       "2782580   J92F11000150009  80425370584   \n",
       "1720373   C86I18000090009  01160470660   \n",
       "\n",
       "                                                    impresa  \n",
       "2405666   MIRABILANDIA - SOCIETA' COOPERATIVA SOCIALE A ...  \n",
       "10018717                                     ORTU GIAN LUCA  \n",
       "6511470        AZIENDA AGRICOLA TOMASELLA PAOLO & C. S.A.S.  \n",
       "8902659                  IL GERMANO REALE SOCIETA' AGRICOLA  \n",
       "2885236                                   COLANGELO LUCIANA  \n",
       "10398796                                ROVIELLO ANNA MARIA  \n",
       "2848706            TENUTA DEL TRAVALE DI RAFFELLA CIARDULLO  \n",
       "2375177                                 CAGLIOSTRO - S.R.L.  \n",
       "2782580   ENTE GESTORE RISERVE NATURALI REGIONALI DEL LA...  \n",
       "1720373                                 DI BATTISTA AMERICO  "
      ]
     },
     "execution_count": 73,
     "metadata": {},
     "output_type": "execute_result"
    }
   ],
   "source": [
    "CUP.sample(10)"
   ]
  },
  {
   "cell_type": "code",
   "execution_count": 74,
   "metadata": {},
   "outputs": [],
   "source": [
    "merge =(pd.merge(PNRR,CUP,on='CUP',how='left'))\n"
   ]
  },
  {
   "cell_type": "code",
   "execution_count": null,
   "metadata": {},
   "outputs": [],
   "source": [
    "pd.set_option('display.max_rows', None)\n",
    "merge.sort_values(by=['finanziamento'], ascending=False)  #.dropna()"
   ]
  },
  {
   "cell_type": "code",
   "execution_count": null,
   "metadata": {},
   "outputs": [],
   "source": [
    "merge.to_json('D:\\\\PNRR_CUP.parquet')"
   ]
  },
  {
   "cell_type": "code",
   "execution_count": 79,
   "metadata": {},
   "outputs": [
    {
     "data": {
      "text/html": [
       "<div>\n",
       "<style scoped>\n",
       "    .dataframe tbody tr th:only-of-type {\n",
       "        vertical-align: middle;\n",
       "    }\n",
       "\n",
       "    .dataframe tbody tr th {\n",
       "        vertical-align: top;\n",
       "    }\n",
       "\n",
       "    .dataframe thead th {\n",
       "        text-align: right;\n",
       "    }\n",
       "</style>\n",
       "<table border=\"1\" class=\"dataframe\">\n",
       "  <thead>\n",
       "    <tr style=\"text-align: right;\">\n",
       "      <th></th>\n",
       "      <th>finanziamento</th>\n",
       "    </tr>\n",
       "  </thead>\n",
       "  <tbody>\n",
       "    <tr>\n",
       "      <th>count</th>\n",
       "      <td>5,247</td>\n",
       "    </tr>\n",
       "    <tr>\n",
       "      <th>mean</th>\n",
       "      <td>226,262</td>\n",
       "    </tr>\n",
       "    <tr>\n",
       "      <th>std</th>\n",
       "      <td>1,927,757</td>\n",
       "    </tr>\n",
       "    <tr>\n",
       "      <th>min</th>\n",
       "      <td>100</td>\n",
       "    </tr>\n",
       "    <tr>\n",
       "      <th>25%</th>\n",
       "      <td>50,000</td>\n",
       "    </tr>\n",
       "    <tr>\n",
       "      <th>50%</th>\n",
       "      <td>120,000</td>\n",
       "    </tr>\n",
       "    <tr>\n",
       "      <th>75%</th>\n",
       "      <td>260,000</td>\n",
       "    </tr>\n",
       "    <tr>\n",
       "      <th>max</th>\n",
       "      <td>114,000,000</td>\n",
       "    </tr>\n",
       "  </tbody>\n",
       "</table>\n",
       "</div>"
      ],
      "text/plain": [
       "       finanziamento\n",
       "count          5,247\n",
       "mean         226,262\n",
       "std        1,927,757\n",
       "min              100\n",
       "25%           50,000\n",
       "50%          120,000\n",
       "75%          260,000\n",
       "max      114,000,000"
      ]
     },
     "execution_count": 79,
     "metadata": {},
     "output_type": "execute_result"
    }
   ],
   "source": [
    "merge.describe()"
   ]
  },
  {
   "cell_type": "code",
   "execution_count": 80,
   "metadata": {},
   "outputs": [
    {
     "name": "stdout",
     "output_type": "stream",
     "text": [
      "<class 'pandas.core.frame.DataFrame'>\n",
      "Int64Index: 5247 entries, 0 to 5246\n",
      "Data columns (total 4 columns):\n",
      " #   Column         Non-Null Count  Dtype \n",
      "---  ------         --------------  ----- \n",
      " 0   CUP            5247 non-null   object\n",
      " 1   finanziamento  5247 non-null   int64 \n",
      " 2   CF             4236 non-null   object\n",
      " 3   impresa        4236 non-null   object\n",
      "dtypes: int64(1), object(3)\n",
      "memory usage: 205.0+ KB\n"
     ]
    }
   ],
   "source": [
    "merge.info()"
   ]
  },
  {
   "cell_type": "markdown",
   "metadata": {},
   "source": [
    "## con file di [Italia Domani](https://www.italiadomani.gov.it/content/sogei-ng/it/it/catalogo-open-data/Universo_ReGiS_Progetti.html)\n",
    "\n",
    "analisi prendendo spunto da quella fatta da [Andrea Borruso](https://aborruso.github.io/posts/duckdb-intro-csv/)"
   ]
  },
  {
   "cell_type": "code",
   "execution_count": 1,
   "metadata": {
    "tags": []
   },
   "outputs": [],
   "source": [
    "import pandas as pd\n",
    "import os"
   ]
  },
  {
   "cell_type": "code",
   "execution_count": 7,
   "metadata": {},
   "outputs": [
    {
     "name": "stderr",
     "output_type": "stream",
     "text": [
      "C:\\Users\\paolo\\AppData\\Local\\Temp\\ipykernel_4248\\274642138.py:3: DtypeWarning: Columns (48) have mixed types. Specify dtype option on import or set low_memory=False.\n",
      "  df = pd.read_csv('PNRR_Progetti-Universo_REGIS_v2.1.csv', sep=';', encoding='latin1', decimal=',')\n"
     ]
    }
   ],
   "source": [
    "# df = pd.read_csv('https://www.italiadomani.gov.it/content/dam/sogei-ng/open_data/progetti/PNRR_Progetti-Universo_REGIS_v2.1.csv', sep=';')\n",
    "os.chdir('D:/duckdb/files/ItaliaDomani')\n",
    "df = pd.read_csv('PNRR_Progetti-Universo_REGIS_v2.1.csv', sep=';', encoding='latin1', decimal=',')\n"
   ]
  },
  {
   "cell_type": "code",
   "execution_count": 8,
   "metadata": {},
   "outputs": [
    {
     "name": "stdout",
     "output_type": "stream",
     "text": [
      "<class 'pandas.core.frame.DataFrame'>\n",
      "RangeIndex: 197546 entries, 0 to 197545\n",
      "Data columns (total 51 columns):\n",
      " #   Column                                          Non-Null Count   Dtype  \n",
      "---  ------                                          --------------   -----  \n",
      " 0   Programma                                       197546 non-null  object \n",
      " 1   Missione                                        197546 non-null  object \n",
      " 2   Descrizione Missione                            197546 non-null  object \n",
      " 3   Componente                                      197546 non-null  object \n",
      " 4   Descrizione Componente                          197546 non-null  object \n",
      " 5   ID Misura                                       197546 non-null  object \n",
      " 6   Codice Univoco Misura                           197546 non-null  object \n",
      " 7   Descrizione Misura                              197546 non-null  object \n",
      " 8   ID Submisura                                    197546 non-null  object \n",
      " 9   Codice CID                                      197546 non-null  object \n",
      " 10  Codice Univoco Submisura                        197546 non-null  object \n",
      " 11  Descrizione Submisura                           197546 non-null  object \n",
      " 12  Amministrazione Titolare                        197546 non-null  object \n",
      " 13  Codice Identificativo Procedura di Attivazione  197546 non-null  int64  \n",
      " 14  Titolo Procedura                                183339 non-null  object \n",
      " 15  Tipologia Procedura di Attivazione              197546 non-null  object \n",
      " 16  CUP                                             197546 non-null  object \n",
      " 17  Codice Locale Progetto                          197546 non-null  object \n",
      " 18  Stato CUP                                       197546 non-null  object \n",
      " 19  CUP Codice Natura                               179863 non-null  float64\n",
      " 20  CUP Descrizione Natura                          179863 non-null  object \n",
      " 21  CUP Codice Tipologia                            179863 non-null  float64\n",
      " 22  CUP Descrizione Tipologia                       179863 non-null  object \n",
      " 23  CUP Codice Settore                              179863 non-null  float64\n",
      " 24  CUP Descrizione Settore                         179863 non-null  object \n",
      " 25  CUP Codice Sottosettore                         179863 non-null  float64\n",
      " 26  CUP Descrizione Sottosettore                    179863 non-null  object \n",
      " 27  CUP Codice Categoria                            179863 non-null  float64\n",
      " 28  CUP Descrizione Categoria                       179863 non-null  object \n",
      " 29  Titolo Progetto                                 197119 non-null  object \n",
      " 30  Sintesi Progetto                                179863 non-null  object \n",
      " 31  Descrizione Tipo Aiuto                          197540 non-null  object \n",
      " 32  Finanziamento - Stato                           197546 non-null  float64\n",
      " 33  Finanziamento Stato - FOI                       197546 non-null  float64\n",
      " 34  Finanziamento UE (Diverso da PNRR)              197546 non-null  float64\n",
      " 35  Finanziamento Regione                           197546 non-null  float64\n",
      " 36  Finanziamento Provincia                         197546 non-null  float64\n",
      " 37  Finanziamento Comune                            197546 non-null  float64\n",
      " 38  Finanziamento Altro Pubblico                    197546 non-null  float64\n",
      " 39  Finanziamento Privato                           197546 non-null  float64\n",
      " 40  Finanziamento Da Reperire                       197546 non-null  float64\n",
      " 41  Finanziamento PNRR                              197546 non-null  float64\n",
      " 42  Finanziamento PNC                               197546 non-null  float64\n",
      " 43  Altri Fondi                                     197546 non-null  float64\n",
      " 44  Finanziamento Totale                            197546 non-null  float64\n",
      " 45  Finanziamento Totale Pubblico                   197546 non-null  float64\n",
      " 46  Finanziamento Totale Pubblico Netto             197546 non-null  float64\n",
      " 47  Soggetto Attuatore                              197546 non-null  object \n",
      " 48  Codice Fiscale Soggetto Attuatore               197438 non-null  object \n",
      " 49  Flag Progetti in Essere                         197546 non-null  object \n",
      " 50  Data di Estrazione                              197546 non-null  object \n",
      "dtypes: float64(20), int64(1), object(30)\n",
      "memory usage: 76.9+ MB\n"
     ]
    }
   ],
   "source": [
    "df.info()"
   ]
  },
  {
   "cell_type": "code",
   "execution_count": 9,
   "metadata": {},
   "outputs": [
    {
     "data": {
      "text/html": [
       "<div><div id=791477b3-0532-4f83-9893-321603e4455e style=\"display:none; background-color:#9D6CFF; color:white; width:200px; height:30px; padding-left:5px; border-radius:4px; flex-direction:row; justify-content:space-around; align-items:center;\" onmouseover=\"this.style.backgroundColor='#BA9BF8'\" onmouseout=\"this.style.backgroundColor='#9D6CFF'\" onclick=\"window.commands?.execute('create-mitosheet-from-dataframe-output');\">See Full Dataframe in Mito</div> <script> if (window.commands.hasCommand('create-mitosheet-from-dataframe-output')) document.getElementById('791477b3-0532-4f83-9893-321603e4455e').style.display = 'flex' </script> <table border=\"1\" class=\"dataframe\">\n",
       "  <thead>\n",
       "    <tr style=\"text-align: right;\">\n",
       "      <th></th>\n",
       "      <th>Programma</th>\n",
       "      <th>Missione</th>\n",
       "      <th>Descrizione Missione</th>\n",
       "      <th>Componente</th>\n",
       "      <th>Descrizione Componente</th>\n",
       "      <th>ID Misura</th>\n",
       "      <th>Codice Univoco Misura</th>\n",
       "      <th>Descrizione Misura</th>\n",
       "      <th>ID Submisura</th>\n",
       "      <th>Codice CID</th>\n",
       "      <th>...</th>\n",
       "      <th>Finanziamento PNRR</th>\n",
       "      <th>Finanziamento PNC</th>\n",
       "      <th>Altri Fondi</th>\n",
       "      <th>Finanziamento Totale</th>\n",
       "      <th>Finanziamento Totale Pubblico</th>\n",
       "      <th>Finanziamento Totale Pubblico Netto</th>\n",
       "      <th>Soggetto Attuatore</th>\n",
       "      <th>Codice Fiscale Soggetto Attuatore</th>\n",
       "      <th>Flag Progetti in Essere</th>\n",
       "      <th>Data di Estrazione</th>\n",
       "    </tr>\n",
       "  </thead>\n",
       "  <tbody>\n",
       "    <tr>\n",
       "      <th>0</th>\n",
       "      <td>PNRR</td>\n",
       "      <td>M1</td>\n",
       "      <td>Digitalizzazione, innovazione, competitività e cultura</td>\n",
       "      <td>M1C1</td>\n",
       "      <td>Digitalizzazione, innovazione e sicurezza nella PA</td>\n",
       "      <td>M1C1I1.2</td>\n",
       "      <td>M1C1I1.02</td>\n",
       "      <td>Abilitazione al cloud per le PA locali</td>\n",
       "      <td>M1C1I1.2</td>\n",
       "      <td>M1C1I1.2</td>\n",
       "      <td>...</td>\n",
       "      <td>47427.0</td>\n",
       "      <td>0.0</td>\n",
       "      <td>0.0</td>\n",
       "      <td>47427.0</td>\n",
       "      <td>47427.0</td>\n",
       "      <td>47427.0</td>\n",
       "      <td>COMUNE DI COSOLETO</td>\n",
       "      <td>1234470803</td>\n",
       "      <td>No</td>\n",
       "      <td>13/06/2023</td>\n",
       "    </tr>\n",
       "    <tr>\n",
       "      <th>1</th>\n",
       "      <td>PNRR</td>\n",
       "      <td>M1</td>\n",
       "      <td>Digitalizzazione, innovazione, competitività e cultura</td>\n",
       "      <td>M1C1</td>\n",
       "      <td>Digitalizzazione, innovazione e sicurezza nella PA</td>\n",
       "      <td>M1C1I1.2</td>\n",
       "      <td>M1C1I1.02</td>\n",
       "      <td>Abilitazione al cloud per le PA locali</td>\n",
       "      <td>M1C1I1.2</td>\n",
       "      <td>M1C1I1.2</td>\n",
       "      <td>...</td>\n",
       "      <td>47427.0</td>\n",
       "      <td>0.0</td>\n",
       "      <td>0.0</td>\n",
       "      <td>47427.0</td>\n",
       "      <td>47427.0</td>\n",
       "      <td>47427.0</td>\n",
       "      <td>COMUNE DI BOMPENSIERE</td>\n",
       "      <td>80005060852</td>\n",
       "      <td>No</td>\n",
       "      <td>13/06/2023</td>\n",
       "    </tr>\n",
       "    <tr>\n",
       "      <th>2</th>\n",
       "      <td>PNRR</td>\n",
       "      <td>M1</td>\n",
       "      <td>Digitalizzazione, innovazione, competitività e cultura</td>\n",
       "      <td>M1C1</td>\n",
       "      <td>Digitalizzazione, innovazione e sicurezza nella PA</td>\n",
       "      <td>M1C1I1.2</td>\n",
       "      <td>M1C1I1.02</td>\n",
       "      <td>Abilitazione al cloud per le PA locali</td>\n",
       "      <td>M1C1I1.2</td>\n",
       "      <td>M1C1I1.2</td>\n",
       "      <td>...</td>\n",
       "      <td>47427.0</td>\n",
       "      <td>0.0</td>\n",
       "      <td>0.0</td>\n",
       "      <td>47427.0</td>\n",
       "      <td>47427.0</td>\n",
       "      <td>47427.0</td>\n",
       "      <td>COMUNE DI CASTELGRANDE</td>\n",
       "      <td>80004060762</td>\n",
       "      <td>No</td>\n",
       "      <td>13/06/2023</td>\n",
       "    </tr>\n",
       "    <tr>\n",
       "      <th>3</th>\n",
       "      <td>PNRR</td>\n",
       "      <td>M1</td>\n",
       "      <td>Digitalizzazione, innovazione, competitività e cultura</td>\n",
       "      <td>M1C1</td>\n",
       "      <td>Digitalizzazione, innovazione e sicurezza nella PA</td>\n",
       "      <td>M1C1I1.2</td>\n",
       "      <td>M1C1I1.02</td>\n",
       "      <td>Abilitazione al cloud per le PA locali</td>\n",
       "      <td>M1C1I1.2</td>\n",
       "      <td>M1C1I1.2</td>\n",
       "      <td>...</td>\n",
       "      <td>47427.0</td>\n",
       "      <td>0.0</td>\n",
       "      <td>0.0</td>\n",
       "      <td>47427.0</td>\n",
       "      <td>47427.0</td>\n",
       "      <td>47427.0</td>\n",
       "      <td>COMUNE DI ITTIREDDU</td>\n",
       "      <td>283910909</td>\n",
       "      <td>No</td>\n",
       "      <td>13/06/2023</td>\n",
       "    </tr>\n",
       "  </tbody>\n",
       "</table></div>"
      ],
      "text/plain": [
       "  Programma Missione                               Descrizione Missione  \\\n",
       "0      PNRR       M1  Digitalizzazione, innovazione, competitività e...   \n",
       "1      PNRR       M1  Digitalizzazione, innovazione, competitività e...   \n",
       "2      PNRR       M1  Digitalizzazione, innovazione, competitività e...   \n",
       "3      PNRR       M1  Digitalizzazione, innovazione, competitività e...   \n",
       "\n",
       "  Componente                             Descrizione Componente ID Misura  \\\n",
       "0       M1C1  Digitalizzazione, innovazione e sicurezza nell...  M1C1I1.2   \n",
       "1       M1C1  Digitalizzazione, innovazione e sicurezza nell...  M1C1I1.2   \n",
       "2       M1C1  Digitalizzazione, innovazione e sicurezza nell...  M1C1I1.2   \n",
       "3       M1C1  Digitalizzazione, innovazione e sicurezza nell...  M1C1I1.2   \n",
       "\n",
       "  Codice Univoco Misura                      Descrizione Misura ID Submisura  \\\n",
       "0             M1C1I1.02  Abilitazione al cloud per le PA locali     M1C1I1.2   \n",
       "1             M1C1I1.02  Abilitazione al cloud per le PA locali     M1C1I1.2   \n",
       "2             M1C1I1.02  Abilitazione al cloud per le PA locali     M1C1I1.2   \n",
       "3             M1C1I1.02  Abilitazione al cloud per le PA locali     M1C1I1.2   \n",
       "\n",
       "  Codice CID  ... Finanziamento PNRR Finanziamento PNC Altri Fondi  \\\n",
       "0   M1C1I1.2  ...            47427.0               0.0         0.0   \n",
       "1   M1C1I1.2  ...            47427.0               0.0         0.0   \n",
       "2   M1C1I1.2  ...            47427.0               0.0         0.0   \n",
       "3   M1C1I1.2  ...            47427.0               0.0         0.0   \n",
       "\n",
       "   Finanziamento Totale Finanziamento Totale Pubblico  \\\n",
       "0               47427.0                       47427.0   \n",
       "1               47427.0                       47427.0   \n",
       "2               47427.0                       47427.0   \n",
       "3               47427.0                       47427.0   \n",
       "\n",
       "  Finanziamento Totale Pubblico Netto      Soggetto Attuatore  \\\n",
       "0                             47427.0      COMUNE DI COSOLETO   \n",
       "1                             47427.0   COMUNE DI BOMPENSIERE   \n",
       "2                             47427.0  COMUNE DI CASTELGRANDE   \n",
       "3                             47427.0     COMUNE DI ITTIREDDU   \n",
       "\n",
       "  Codice Fiscale Soggetto Attuatore Flag Progetti in Essere  \\\n",
       "0                        1234470803                      No   \n",
       "1                       80005060852                      No   \n",
       "2                       80004060762                      No   \n",
       "3                         283910909                      No   \n",
       "\n",
       "   Data di Estrazione  \n",
       "0          13/06/2023  \n",
       "1          13/06/2023  \n",
       "2          13/06/2023  \n",
       "3          13/06/2023  \n",
       "\n",
       "[4 rows x 51 columns]"
      ]
     },
     "execution_count": 9,
     "metadata": {},
     "output_type": "execute_result"
    }
   ],
   "source": [
    "df.head(4)"
   ]
  },
  {
   "cell_type": "code",
   "execution_count": 12,
   "metadata": {},
   "outputs": [],
   "source": [
    "df1 = df[['Missione', 'Codice Univoco Misura','CUP Codice Natura']]"
   ]
  },
  {
   "cell_type": "code",
   "execution_count": 13,
   "metadata": {},
   "outputs": [
    {
     "data": {
      "text/html": [
       "<div><div id=203f2b12-442e-40ef-bed7-6d5c1b250813 style=\"display:none; background-color:#9D6CFF; color:white; width:200px; height:30px; padding-left:5px; border-radius:4px; flex-direction:row; justify-content:space-around; align-items:center;\" onmouseover=\"this.style.backgroundColor='#BA9BF8'\" onmouseout=\"this.style.backgroundColor='#9D6CFF'\" onclick=\"window.commands?.execute('create-mitosheet-from-dataframe-output');\">See Full Dataframe in Mito</div> <script> if (window.commands.hasCommand('create-mitosheet-from-dataframe-output')) document.getElementById('203f2b12-442e-40ef-bed7-6d5c1b250813').style.display = 'flex' </script> <table border=\"1\" class=\"dataframe\">\n",
       "  <thead>\n",
       "    <tr style=\"text-align: right;\">\n",
       "      <th></th>\n",
       "      <th>CUP Codice Natura</th>\n",
       "    </tr>\n",
       "  </thead>\n",
       "  <tbody>\n",
       "    <tr>\n",
       "      <th>count</th>\n",
       "      <td>179863.000000</td>\n",
       "    </tr>\n",
       "    <tr>\n",
       "      <th>mean</th>\n",
       "      <td>2.793593</td>\n",
       "    </tr>\n",
       "    <tr>\n",
       "      <th>std</th>\n",
       "      <td>1.760754</td>\n",
       "    </tr>\n",
       "    <tr>\n",
       "      <th>min</th>\n",
       "      <td>1.000000</td>\n",
       "    </tr>\n",
       "    <tr>\n",
       "      <th>25%</th>\n",
       "      <td>2.000000</td>\n",
       "    </tr>\n",
       "    <tr>\n",
       "      <th>50%</th>\n",
       "      <td>2.000000</td>\n",
       "    </tr>\n",
       "    <tr>\n",
       "      <th>75%</th>\n",
       "      <td>3.000000</td>\n",
       "    </tr>\n",
       "    <tr>\n",
       "      <th>max</th>\n",
       "      <td>8.000000</td>\n",
       "    </tr>\n",
       "  </tbody>\n",
       "</table></div>"
      ],
      "text/plain": [
       "       CUP Codice Natura\n",
       "count      179863.000000\n",
       "mean            2.793593\n",
       "std             1.760754\n",
       "min             1.000000\n",
       "25%             2.000000\n",
       "50%             2.000000\n",
       "75%             3.000000\n",
       "max             8.000000"
      ]
     },
     "execution_count": 13,
     "metadata": {},
     "output_type": "execute_result"
    }
   ],
   "source": [
    "df1.describe()"
   ]
  },
  {
   "cell_type": "code",
   "execution_count": 14,
   "metadata": {},
   "outputs": [
    {
     "name": "stdout",
     "output_type": "stream",
     "text": [
      "<class 'pandas.core.frame.DataFrame'>\n",
      "RangeIndex: 197546 entries, 0 to 197545\n",
      "Data columns (total 3 columns):\n",
      " #   Column                 Non-Null Count   Dtype  \n",
      "---  ------                 --------------   -----  \n",
      " 0   Missione               197546 non-null  object \n",
      " 1   Codice Univoco Misura  197546 non-null  object \n",
      " 2   CUP Codice Natura      179863 non-null  float64\n",
      "dtypes: float64(1), object(2)\n",
      "memory usage: 4.5+ MB\n"
     ]
    }
   ],
   "source": [
    "df1.info()"
   ]
  },
  {
   "cell_type": "code",
   "execution_count": 18,
   "metadata": {},
   "outputs": [
    {
     "data": {
      "text/plain": [
       "Missione                     0\n",
       "Codice Univoco Misura        0\n",
       "CUP Codice Natura        17683\n",
       "dtype: int64"
      ]
     },
     "execution_count": 18,
     "metadata": {},
     "output_type": "execute_result"
    }
   ],
   "source": [
    "df1.isna().sum()"
   ]
  },
  {
   "cell_type": "code",
   "execution_count": 22,
   "metadata": {},
   "outputs": [
    {
     "data": {
      "text/plain": [
       "Missione                   6\n",
       "Codice Univoco Misura    109\n",
       "CUP Codice Natura          6\n",
       "dtype: int64"
      ]
     },
     "execution_count": 22,
     "metadata": {},
     "output_type": "execute_result"
    }
   ],
   "source": [
    "import numpy as np\n",
    "df1.nunique(axis=0)"
   ]
  },
  {
   "cell_type": "code",
   "execution_count": null,
   "metadata": {},
   "outputs": [],
   "source": []
  },
  {
   "cell_type": "markdown",
   "metadata": {},
   "source": [
    "### analisi"
   ]
  },
  {
   "cell_type": "code",
   "execution_count": 49,
   "metadata": {},
   "outputs": [
    {
     "name": "stdout",
     "output_type": "stream",
     "text": [
      "CPU times: total: 0 ns\n",
      "Wall time: 9.37 ms\n"
     ]
    },
    {
     "data": {
      "text/plain": [
       "Missione\n",
       "M1    1.924533e+10\n",
       "M2    2.268852e+10\n",
       "M3    2.256374e+10\n",
       "M4    2.012927e+10\n",
       "M5    1.299826e+10\n",
       "M6    8.059988e+09\n",
       "Name: Finanziamento PNRR, dtype: float64"
      ]
     },
     "execution_count": 49,
     "metadata": {},
     "output_type": "execute_result"
    }
   ],
   "source": [
    "%%time\n",
    "df.groupby(['Missione'])['Finanziamento PNRR'].sum() #CRIF"
   ]
  },
  {
   "cell_type": "code",
   "execution_count": null,
   "metadata": {},
   "outputs": [],
   "source": []
  },
  {
   "cell_type": "code",
   "execution_count": null,
   "metadata": {},
   "outputs": [],
   "source": []
  },
  {
   "cell_type": "code",
   "execution_count": null,
   "metadata": {},
   "outputs": [],
   "source": []
  },
  {
   "cell_type": "code",
   "execution_count": null,
   "metadata": {},
   "outputs": [],
   "source": []
  },
  {
   "cell_type": "code",
   "execution_count": 23,
   "metadata": {},
   "outputs": [],
   "source": [
    "import duckdb\n",
    "con = duckdb.connect()"
   ]
  },
  {
   "cell_type": "code",
   "execution_count": 43,
   "metadata": {},
   "outputs": [],
   "source": [
    "# create the table \"my_table\" from the DataFrame \"df\"\n",
    "# Note: duckdb.sql connects to the default in-memory database connection\n",
    "duckdb.sql(\"CREATE TABLE my_table1 AS SELECT * FROM df\")\n",
    "\n",
    "# insert into the table \"my_table\" from the DataFrame \"df\"\n",
    "duckdb.sql(\"INSERT INTO my_table1 SELECT * FROM df\")\n"
   ]
  },
  {
   "cell_type": "code",
   "execution_count": 31,
   "metadata": {},
   "outputs": [
    {
     "ename": "SyntaxError",
     "evalue": "incomplete input (1461363199.py, line 1)",
     "output_type": "error",
     "traceback": [
      "\u001b[1;31m---------------------------------------------------------------------------\u001b[0m",
      "\u001b[1;31mSyntaxError\u001b[0m                               Traceback (most recent call last)",
      "File \u001b[1;32m~\\AppData\\Local\\Programs\\Python\\Python311\\Lib\\site-packages\\IPython\\core\\compilerop.py:86\u001b[0m, in \u001b[0;36mCachingCompiler.ast_parse\u001b[1;34m(self, source, filename, symbol)\u001b[0m\n\u001b[0;32m     81\u001b[0m \u001b[38;5;28;01mdef\u001b[39;00m \u001b[38;5;21mast_parse\u001b[39m(\u001b[38;5;28mself\u001b[39m, source, filename\u001b[38;5;241m=\u001b[39m\u001b[38;5;124m'\u001b[39m\u001b[38;5;124m<unknown>\u001b[39m\u001b[38;5;124m'\u001b[39m, symbol\u001b[38;5;241m=\u001b[39m\u001b[38;5;124m'\u001b[39m\u001b[38;5;124mexec\u001b[39m\u001b[38;5;124m'\u001b[39m):\n\u001b[0;32m     82\u001b[0m \u001b[38;5;250m    \u001b[39m\u001b[38;5;124;03m\"\"\"Parse code to an AST with the current compiler flags active.\u001b[39;00m\n\u001b[0;32m     83\u001b[0m \n\u001b[0;32m     84\u001b[0m \u001b[38;5;124;03m    Arguments are exactly the same as ast.parse (in the standard library),\u001b[39;00m\n\u001b[0;32m     85\u001b[0m \u001b[38;5;124;03m    and are passed to the built-in compile function.\"\"\"\u001b[39;00m\n\u001b[1;32m---> 86\u001b[0m     \u001b[38;5;28;01mreturn\u001b[39;00m \u001b[38;5;28mcompile\u001b[39m(source, filename, symbol, \u001b[38;5;28mself\u001b[39m\u001b[38;5;241m.\u001b[39mflags \u001b[38;5;241m|\u001b[39m PyCF_ONLY_AST, \u001b[38;5;241m1\u001b[39m)\n",
      "\u001b[1;31mSyntaxError\u001b[0m: incomplete input (1461363199.py, line 1)"
     ]
    }
   ],
   "source": [
    "df2 = con.execute(f'''SELECT Missione, SUM(\"Finanziamento PNRR\") \\\n",
    "AS total_PNRR FROM  read_csv_auto(\"PNRR_Progetti-Universo_REGIS_v2.1.csv\", \\\n",
    "delim=\";\", decimal_separator=\",\", header=True,types={\"Finanziamento PNRR\":\"FLOAT\"}) GROUP BY Missione\").df())"
   ]
  },
  {
   "cell_type": "code",
   "execution_count": 44,
   "metadata": {},
   "outputs": [
    {
     "name": "stdout",
     "output_type": "stream",
     "text": [
      "   count_star()\n",
      "0        395092\n"
     ]
    }
   ],
   "source": [
    "print(duckdb.query(\"SELECT count(*) FROM my_table1\").to_df())\n"
   ]
  },
  {
   "cell_type": "code",
   "execution_count": 47,
   "metadata": {},
   "outputs": [
    {
     "ename": "BinderException",
     "evalue": "Binder Error: No function matches the given name and argument types 'sum(VARCHAR)'. You might need to add explicit type casts.\n\tCandidate functions:\n\tsum(DECIMAL) -> DECIMAL\n\tsum(SMALLINT) -> HUGEINT\n\tsum(INTEGER) -> HUGEINT\n\tsum(BIGINT) -> HUGEINT\n\tsum(HUGEINT) -> HUGEINT\n\tsum(DOUBLE) -> DOUBLE\n",
     "output_type": "error",
     "traceback": [
      "\u001b[1;31m---------------------------------------------------------------------------\u001b[0m",
      "\u001b[1;31mBinderException\u001b[0m                           Traceback (most recent call last)",
      "Cell \u001b[1;32mIn[47], line 1\u001b[0m\n\u001b[1;32m----> 1\u001b[0m \u001b[38;5;28mprint\u001b[39m(\u001b[43mduckdb\u001b[49m\u001b[38;5;241;43m.\u001b[39;49m\u001b[43mquery\u001b[49m\u001b[43m(\u001b[49m\u001b[38;5;124;43m\"\u001b[39;49m\u001b[38;5;124;43mSELECT Missione, SUM(\u001b[39;49m\u001b[38;5;124;43m'\u001b[39;49m\u001b[38;5;124;43mFinanziamento PNRR\u001b[39;49m\u001b[38;5;124;43m'\u001b[39;49m\u001b[38;5;124;43m) AS total_PNRR FROM my_table1\u001b[39;49m\u001b[38;5;124;43m\"\u001b[39;49m\u001b[43m)\u001b[49m\u001b[38;5;241m.\u001b[39mto_df())\n",
      "\u001b[1;31mBinderException\u001b[0m: Binder Error: No function matches the given name and argument types 'sum(VARCHAR)'. You might need to add explicit type casts.\n\tCandidate functions:\n\tsum(DECIMAL) -> DECIMAL\n\tsum(SMALLINT) -> HUGEINT\n\tsum(INTEGER) -> HUGEINT\n\tsum(BIGINT) -> HUGEINT\n\tsum(HUGEINT) -> HUGEINT\n\tsum(DOUBLE) -> DOUBLE\n"
     ]
    }
   ],
   "source": [
    "print(duckdb.query(\"SELECT Missione, SUM('Finanziamento PNRR') AS total_PNRR FROM my_table1\").to_df())"
   ]
  },
  {
   "cell_type": "code",
   "execution_count": 46,
   "metadata": {},
   "outputs": [
    {
     "name": "stdout",
     "output_type": "stream",
     "text": [
      "  Programma Missione                               Descrizione Missione  \\\n",
      "0      PNRR       M1  Digitalizzazione, innovazione, competitività e...   \n",
      "1      PNRR       M1  Digitalizzazione, innovazione, competitività e...   \n",
      "2      PNRR       M1  Digitalizzazione, innovazione, competitività e...   \n",
      "3      PNRR       M1  Digitalizzazione, innovazione, competitività e...   \n",
      "\n",
      "  Componente                             Descrizione Componente ID Misura  \\\n",
      "0       M1C1  Digitalizzazione, innovazione e sicurezza nell...  M1C1I1.2   \n",
      "1       M1C1  Digitalizzazione, innovazione e sicurezza nell...  M1C1I1.2   \n",
      "2       M1C1  Digitalizzazione, innovazione e sicurezza nell...  M1C1I1.2   \n",
      "3       M1C1  Digitalizzazione, innovazione e sicurezza nell...  M1C1I1.2   \n",
      "\n",
      "  Codice Univoco Misura                      Descrizione Misura ID Submisura  \\\n",
      "0             M1C1I1.02  Abilitazione al cloud per le PA locali     M1C1I1.2   \n",
      "1             M1C1I1.02  Abilitazione al cloud per le PA locali     M1C1I1.2   \n",
      "2             M1C1I1.02  Abilitazione al cloud per le PA locali     M1C1I1.2   \n",
      "3             M1C1I1.02  Abilitazione al cloud per le PA locali     M1C1I1.2   \n",
      "\n",
      "  Codice CID  ... Finanziamento PNRR Finanziamento PNC Altri Fondi  \\\n",
      "0   M1C1I1.2  ...            47427.0               0.0         0.0   \n",
      "1   M1C1I1.2  ...            47427.0               0.0         0.0   \n",
      "2   M1C1I1.2  ...            47427.0               0.0         0.0   \n",
      "3   M1C1I1.2  ...            47427.0               0.0         0.0   \n",
      "\n",
      "   Finanziamento Totale Finanziamento Totale Pubblico  \\\n",
      "0               47427.0                       47427.0   \n",
      "1               47427.0                       47427.0   \n",
      "2               47427.0                       47427.0   \n",
      "3               47427.0                       47427.0   \n",
      "\n",
      "  Finanziamento Totale Pubblico Netto      Soggetto Attuatore  \\\n",
      "0                             47427.0      COMUNE DI COSOLETO   \n",
      "1                             47427.0   COMUNE DI BOMPENSIERE   \n",
      "2                             47427.0  COMUNE DI CASTELGRANDE   \n",
      "3                             47427.0     COMUNE DI ITTIREDDU   \n",
      "\n",
      "  Codice Fiscale Soggetto Attuatore Flag Progetti in Essere  \\\n",
      "0                        1234470803                      No   \n",
      "1                       80005060852                      No   \n",
      "2                       80004060762                      No   \n",
      "3                         283910909                      No   \n",
      "\n",
      "   Data di Estrazione  \n",
      "0          13/06/2023  \n",
      "1          13/06/2023  \n",
      "2          13/06/2023  \n",
      "3          13/06/2023  \n",
      "\n",
      "[4 rows x 51 columns]\n"
     ]
    }
   ],
   "source": [
    "print(duckdb.query(\"SELECT * FROM my_table1 limit 4\").to_df())"
   ]
  },
  {
   "cell_type": "code",
   "execution_count": null,
   "metadata": {},
   "outputs": [],
   "source": []
  },
  {
   "cell_type": "code",
   "execution_count": null,
   "metadata": {},
   "outputs": [],
   "source": []
  },
  {
   "cell_type": "code",
   "execution_count": null,
   "metadata": {},
   "outputs": [],
   "source": []
  },
  {
   "cell_type": "code",
   "execution_count": null,
   "metadata": {},
   "outputs": [],
   "source": []
  }
 ],
 "metadata": {
  "kernelspec": {
   "display_name": "Python 3 (ipykernel)",
   "language": "python",
   "name": "python3"
  },
  "language_info": {
   "codemirror_mode": {
    "name": "ipython",
    "version": 3
   },
   "file_extension": ".py",
   "mimetype": "text/x-python",
   "name": "python",
   "nbconvert_exporter": "python",
   "pygments_lexer": "ipython3",
   "version": "3.11.4"
  }
 },
 "nbformat": 4,
 "nbformat_minor": 4
}
