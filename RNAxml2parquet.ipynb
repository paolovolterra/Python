{
 "cells": [
  {
   "cell_type": "code",
   "execution_count": 1,
   "id": "1a389e2e-517d-47af-95bc-2923d7aafe17",
   "metadata": {},
   "outputs": [],
   "source": [
    "import pandas as pd\n",
    "import os\n",
    "import pandas_read_xml as pdx\n",
    "os.chdir('D:/duckdb/files/RNA2/')\n",
    "import polars as pl\n",
    "import winsound"
   ]
  },
  {
   "cell_type": "code",
   "execution_count": 34,
   "id": "15edde0f",
   "metadata": {},
   "outputs": [
    {
     "name": "stdout",
     "output_type": "stream",
     "text": [
      "OpenData_Aiuti_2018_12 fatto\n",
      "CPU times: total: 42 s\n",
      "Wall time: 48.3 s\n"
     ]
    }
   ],
   "source": [
    "%%time\n",
    "periodo = '2018_12'\n",
    "xmlfile = 'OpenData_Aiuti_'+periodo+'.xml'\n",
    "\n",
    "df = pdx.read_xml(xmlfile, ['LISTA_AIUTI'], encoding='utf-8') #  latin-1\n",
    "# df = pdx.flatten(df)\n",
    "df = pdx.fully_flatten(df)\n",
    "\n",
    "df.rename(columns = {\n",
    "'AIUTO|CAR' : 'CAR',\n",
    "'AIUTO|TITOLO_MISURA' : 'MISURA',\n",
    "'AIUTO|DES_TIPO_MISURA' : 'DES_TIPO_MISURA',\n",
    "'AIUTO|COD_CE_MISURA' : 'COD_CE_MISURA',\n",
    "'AIUTO|BASE_GIURIDICA_NAZIONALE' : 'BASE_GIURIDICA_NAZIONALE',\n",
    "'AIUTO|IDENTIFICATIVO_UFFICIO' : 'IDENTIFICATIVO_UFFICIO',\n",
    "'AIUTO|SOGGETTO_CONCEDENTE' : 'CONCEDENTE',\n",
    "'AIUTO|COR' : 'COR',\n",
    "'AIUTO|TITOLO_PROGETTO' : 'TITOLO_PROGETTO',\n",
    "'AIUTO|DESCRIZIONE_PROGETTO' : 'DESCRIZIONE_PROGETTO',\n",
    "'AIUTO|LINK_TRASPARENZA_NAZIONALE' : 'LINK_TRASPARENZA_NAZIONALE',\n",
    "'AIUTO|DATA_CONCESSIONE' : 'CONCESSIONE',\n",
    "'AIUTO|CUP' : 'CUP',\n",
    "'AIUTO|DENOMINAZIONE_BENEFICIARIO' : 'IMPRESA',\n",
    "'AIUTO|CODICE_FISCALE_BENEFICIARIO' : 'CF',\n",
    "'AIUTO|DES_TIPO_BENEFICIARIO' : 'DES_TIPO_BENEFICIARIO',\n",
    "'AIUTO|REGIONE_BENEFICIARIO' : 'REGIONE',\n",
    "'AIUTO|IDENTIFICATIVO_MISURA_ATTUATIVA' : 'IDENTIFICATIVO_MISURA_ATTUATIVA',\n",
    "'AIUTO|MISURA_ATTUATIVA_ENTE_COMPETENTE' : 'MISURA_ATTUATIVA_ENTE_COMPETENTE',\n",
    "'AIUTO|MISURA_ATTUATIVA_TITOLO' : 'MISURA_ATTUATIVA_TITOLO',\n",
    "'AIUTO|MISURA_ATTUATIVA_BASE_GIURIDICA_NAZIONALE' : 'MISURA_ATTUATIVA_BASE_GIURIDICA_NAZIONALE',\n",
    "'AIUTO|LINK_TESTO_INTEGRALE_MISURA' : 'LINK_TESTO_INTEGRALE_MISURA',\n",
    "'AIUTO|ATTO_CONCESSIONE' : 'ATTO_CONCESSIONE',\n",
    "'AIUTO|LINK_ATTO_CONCESSIONE' : 'LINK_ATTO_CONCESSIONE',\n",
    "'AIUTO|COMPONENTI_AIUTO|COMPONENTE_AIUTO|ID_COMPONENTE_AIUTO' : 'ID_COMPONENTE_AIUTO',\n",
    "'AIUTO|COMPONENTI_AIUTO|COMPONENTE_AIUTO|COD_PROCEDIMENTO' : 'COD_PROCEDIMENTO',\n",
    "'AIUTO|COMPONENTI_AIUTO|COMPONENTE_AIUTO|DES_PROCEDIMENTO' : 'DES_PROCEDIMENTO',\n",
    "'AIUTO|COMPONENTI_AIUTO|COMPONENTE_AIUTO|COD_REGOLAMENTO' : 'COD_REGOLAMENTO',\n",
    "'AIUTO|COMPONENTI_AIUTO|COMPONENTE_AIUTO|DES_REGOLAMENTO' : 'DES_REGOLAMENTO',\n",
    "'AIUTO|COMPONENTI_AIUTO|COMPONENTE_AIUTO|COD_OBIETTIVO' : 'COD_OBIETTIVO',\n",
    "'AIUTO|COMPONENTI_AIUTO|COMPONENTE_AIUTO|DES_OBIETTIVO' : 'DESSETTORE_ATTIVITA_OBIETTIVO',\n",
    "'AIUTO|COMPONENTI_AIUTO|COMPONENTE_AIUTO|SETTORE_ATTIVITA' : 'SETTORE_ATTIVITA',\n",
    "'AIUTO|COMPONENTI_AIUTO|COMPONENTE_AIUTO|SOGGETTO_INTERMEDIARIO' : 'SOGGETTO_INTERMEDIARIO',\n",
    "'AIUTO|COMPONENTI_AIUTO|COMPONENTE_AIUTO|ENTITA_DELEGATA' : 'ENTITA_DELEGATA',\n",
    "'AIUTO|COMPONENTI_AIUTO|COMPONENTE_AIUTO|STRUMENTI_AIUTO|STRUMENTO_AIUTO|COD_STRUMENTO' : 'COD_STRUMENTO',\n",
    "'AIUTO|COMPONENTI_AIUTO|COMPONENTE_AIUTO|STRUMENTI_AIUTO|STRUMENTO_AIUTO|DES_STRUMENTO' : 'DES_STRUMENTO',\n",
    "'AIUTO|COMPONENTI_AIUTO|COMPONENTE_AIUTO|STRUMENTI_AIUTO|STRUMENTO_AIUTO|ELEMENTO_DI_AIUTO' : 'AIUTO',\n",
    "'AIUTO|COMPONENTI_AIUTO|COMPONENTE_AIUTO|STRUMENTI_AIUTO|STRUMENTO_AIUTO|IMPORTO_NOMINALE': 'NOMINALE'\n",
    "}, inplace = True)\n",
    "\n",
    "df['CONCESSIONE'] = df['CONCESSIONE'].str[:-6]\n",
    "df['CONCESSIONE'] = pd.to_datetime(df['CONCESSIONE'])\n",
    "df['CONCEDENTE'] = df['CONCEDENTE'].str.upper() \n",
    "df['AIUTO'] = df['AIUTO'].astype(float)\n",
    "df['NOMINALE'] = df['NOMINALE'].astype(float)\n",
    "\n",
    "#df.to_parquet(periodo+'.parquet')\n",
    "#df = pl.read_parquet(periodo+'.parquet')\n",
    "\n",
    "df = df[['CAR', 'MISURA', 'COD_CE_MISURA',\n",
    "       'BASE_GIURIDICA_NAZIONALE', 'CONCEDENTE',\n",
    "       'COR', 'TITOLO_PROGETTO', 'DESCRIZIONE_PROGETTO',\n",
    "       'CONCESSIONE', 'ATTO_CONCESSIONE',\n",
    "       'IMPRESA', 'CF', 'DES_TIPO_BENEFICIARIO',\n",
    "       'REGIONE', 'ID_COMPONENTE_AIUTO', 'DES_PROCEDIMENTO',\n",
    "       'DESSETTORE_ATTIVITA_OBIETTIVO', 'SETTORE_ATTIVITA',\n",
    "       'DES_STRUMENTO', 'AIUTO', 'NOMINALE']]\n",
    "df.to_parquet('OpenData_Aiuti_'+periodo+'.parquet')\n",
    "\n",
    "winsound.Beep(440, 300)\n",
    "\n",
    "print('OpenData_Aiuti_'+periodo+' fatto')"
   ]
  },
  {
   "cell_type": "markdown",
   "id": "63f84319",
   "metadata": {},
   "source": [
    "## backup"
   ]
  },
  {
   "cell_type": "code",
   "execution_count": 39,
   "id": "44875525",
   "metadata": {},
   "outputs": [],
   "source": [
    "import pyarrow.parquet as pq\n",
    "import pandas as pd\n",
    "import glob\n",
    "import duckdb\n",
    "import os\n",
    "os.chdir('D:/duckdb/files/RNA2/')\n",
    " \n",
    "con = duckdb.connect()\n",
    "con.execute(\"PRAGMA threads=2\") # enable automatic query parallelization\n",
    "con.execute(\"PRAGMA enable_object_cache\") # enable caching of parquet metadata\n",
    "\n",
    "\n",
    "df = con.execute(\"select * FROM 'OpenData_Aiuti_2018*.parquet' ;\").df()\n",
    "df.to_parquet('anno_2018.parquet')"
   ]
  },
  {
   "cell_type": "code",
   "execution_count": null,
   "id": "5d36ac4f",
   "metadata": {},
   "outputs": [],
   "source": []
  }
 ],
 "metadata": {
  "kernelspec": {
   "display_name": "Python 3 (ipykernel)",
   "language": "python",
   "name": "python3"
  },
  "language_info": {
   "codemirror_mode": {
    "name": "ipython",
    "version": 3
   },
   "file_extension": ".py",
   "mimetype": "text/x-python",
   "name": "python",
   "nbconvert_exporter": "python",
   "pygments_lexer": "ipython3",
   "version": "3.11.4"
  }
 },
 "nbformat": 4,
 "nbformat_minor": 5
}
